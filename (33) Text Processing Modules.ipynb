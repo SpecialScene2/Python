{
 "cells": [
  {
   "cell_type": "markdown",
   "metadata": {},
   "source": [
    "## (33) Text Processing Modules"
   ]
  },
  {
   "cell_type": "markdown",
   "metadata": {},
   "source": [
    "### 1) html.parser"
   ]
  },
  {
   "cell_type": "code",
   "execution_count": 1,
   "metadata": {
    "collapsed": true
   },
   "outputs": [],
   "source": [
    "from html.parser import HTMLParser"
   ]
  },
  {
   "cell_type": "code",
   "execution_count": 8,
   "metadata": {},
   "outputs": [
    {
     "name": "stdout",
     "output_type": "stream",
     "text": [
      "Encountered a start tag :  html\n",
      "Encountered a start tag :  head\n",
      "Encountered a start tag :  title\n",
      "Encountered some data :  Test\n",
      "Encountered an end tag : title\n",
      "Encountered an end tag : head\n",
      "Encountered a start tag :  body\n",
      "Encountered a start tag :  h1\n",
      "Encountered some data :  parse me!\n",
      "Encountered an end tag : h1\n",
      "Encountered an end tag : h1\n",
      "Encountered an end tag : body\n",
      "Encountered an end tag : html\n"
     ]
    }
   ],
   "source": [
    "class MyHTMLParser(HTMLParser):\n",
    "    def handle_starttag(self, tag, attrs):\n",
    "        print('Encountered a start tag : ' , tag)\n",
    "    def handle_endtag(self, tag):\n",
    "        print('Encountered an end tag :', tag)\n",
    "    def handle_data(self, data):\n",
    "        print('Encountered some data : ', data)\n",
    "        \n",
    "parser = MyHTMLParser()\n",
    "parser.feed('<html><head><title>Test</title></head>'\n",
    "            '<body><h1>parse me!</h1></h1></body></html>')"
   ]
  },
  {
   "cell_type": "code",
   "execution_count": 10,
   "metadata": {
    "collapsed": true
   },
   "outputs": [],
   "source": [
    "class MyHTMLParser(HTMLParser):\n",
    "    def handle_comment(self, data):\n",
    "        print('Comment :', data)\n",
    "    def handle_decl(self, data):\n",
    "        print('Declaration :',data)\n",
    "\n",
    "parser = MyHTMLParser()"
   ]
  },
  {
   "cell_type": "code",
   "execution_count": 12,
   "metadata": {},
   "outputs": [
    {
     "name": "stdout",
     "output_type": "stream",
     "text": [
      "Declaration : DOCTYPE HTML PUBLIC \"-//W3C//DTD HTML 4.01//EN\"\n"
     ]
    }
   ],
   "source": [
    "# <Declaration 만났을때>\n",
    "parser.feed('<!DOCTYPE HTML PUBLIC \"-//W3C//DTD HTML 4.01//EN\">')"
   ]
  },
  {
   "cell_type": "code",
   "execution_count": 13,
   "metadata": {},
   "outputs": [
    {
     "name": "stdout",
     "output_type": "stream",
     "text": [
      "Comment :  a comment parsing \n"
     ]
    }
   ],
   "source": [
    "# <Documentation 만났을 때>\n",
    "parser.feed('<!-- a comment parsing -->')"
   ]
  },
  {
   "cell_type": "code",
   "execution_count": 31,
   "metadata": {},
   "outputs": [
    {
     "name": "stdout",
     "output_type": "stream",
     "text": [
      "None\n"
     ]
    }
   ],
   "source": [
    "from html.parser import HTMLParser\n",
    "from html.entities import name2codepoint\n",
    "\n",
    "class MyHTMLParser(HTMLParser):\n",
    "    def handle_charref(self, name):\n",
    "        if name.startswith('x'):\n",
    "            c = chr(int(name[1:], 16))\n",
    "        else:\n",
    "            c = chr(int(name))\n",
    "        print(\"Num ent : \", c)\n",
    "\n",
    "    def handle_entityref(self, name):\n",
    "        c = chr(name2codepoint[name])\n",
    "        print('Named ent : ', c)\n",
    "\n",
    "parser = MyHTMLParser()\n",
    "print(parser.feed('&gt; &#63; &#x3B;'))"
   ]
  },
  {
   "cell_type": "code",
   "execution_count": 30,
   "metadata": {
    "collapsed": true
   },
   "outputs": [],
   "source": [
    "parser.feed('&#x3B')"
   ]
  },
  {
   "cell_type": "markdown",
   "metadata": {
    "collapsed": true
   },
   "source": [
    "### 2) beautiful soup"
   ]
  },
  {
   "cell_type": "code",
   "execution_count": 1,
   "metadata": {},
   "outputs": [
    {
     "name": "stderr",
     "output_type": "stream",
     "text": [
      "C:\\Users\\1\\AppData\\Local\\Continuum\\Anaconda3\\lib\\site-packages\\bs4\\__init__.py:181: UserWarning: No parser was explicitly specified, so I'm using the best available HTML parser for this system (\"lxml\"). This usually isn't a problem, but if you run this code on another system, or in a different virtual environment, it may use a different parser and behave differently.\n",
      "\n",
      "The code that caused this warning is on line 193 of the file C:\\Users\\1\\AppData\\Local\\Continuum\\Anaconda3\\lib\\runpy.py. To get rid of this warning, change code that looks like this:\n",
      "\n",
      " BeautifulSoup(YOUR_MARKUP})\n",
      "\n",
      "to this:\n",
      "\n",
      " BeautifulSoup(YOUR_MARKUP, \"lxml\")\n",
      "\n",
      "  markup_type=markup_type))\n"
     ]
    },
    {
     "ename": "UnicodeDecodeError",
     "evalue": "'cp949' codec can't decode byte 0xeb in position 237: illegal multibyte sequence",
     "output_type": "error",
     "traceback": [
      "\u001b[1;31m---------------------------------------------------------------------------\u001b[0m",
      "\u001b[1;31mUnicodeDecodeError\u001b[0m                        Traceback (most recent call last)",
      "\u001b[1;32m<ipython-input-1-e3d0341704fc>\u001b[0m in \u001b[0;36m<module>\u001b[1;34m()\u001b[0m\n\u001b[0;32m      2\u001b[0m \u001b[1;33m\u001b[0m\u001b[0m\n\u001b[0;32m      3\u001b[0m \u001b[1;32mwith\u001b[0m \u001b[0mopen\u001b[0m\u001b[1;33m(\u001b[0m\u001b[1;34m'webtoon.html'\u001b[0m\u001b[1;33m)\u001b[0m \u001b[1;32mas\u001b[0m \u001b[0mfp\u001b[0m\u001b[1;33m:\u001b[0m\u001b[1;33m\u001b[0m\u001b[0m\n\u001b[1;32m----> 4\u001b[1;33m     \u001b[0msoup\u001b[0m \u001b[1;33m=\u001b[0m \u001b[0mBeautifulSoup\u001b[0m\u001b[1;33m(\u001b[0m\u001b[0mfp\u001b[0m\u001b[1;33m)\u001b[0m\u001b[1;33m\u001b[0m\u001b[0m\n\u001b[0m\u001b[0;32m      5\u001b[0m \u001b[1;33m\u001b[0m\u001b[0m\n\u001b[0;32m      6\u001b[0m \u001b[0msoup\u001b[0m \u001b[1;33m=\u001b[0m \u001b[0mBeautifulSoup\u001b[0m\u001b[1;33m(\u001b[0m\u001b[1;34m\"<html>data</html>\"\u001b[0m\u001b[1;33m)\u001b[0m\u001b[1;33m\u001b[0m\u001b[0m\n",
      "\u001b[1;32m~\\AppData\\Local\\Continuum\\Anaconda3\\lib\\site-packages\\bs4\\__init__.py\u001b[0m in \u001b[0;36m__init__\u001b[1;34m(self, markup, features, builder, parse_only, from_encoding, exclude_encodings, **kwargs)\u001b[0m\n\u001b[0;32m    189\u001b[0m \u001b[1;33m\u001b[0m\u001b[0m\n\u001b[0;32m    190\u001b[0m         \u001b[1;32mif\u001b[0m \u001b[0mhasattr\u001b[0m\u001b[1;33m(\u001b[0m\u001b[0mmarkup\u001b[0m\u001b[1;33m,\u001b[0m \u001b[1;34m'read'\u001b[0m\u001b[1;33m)\u001b[0m\u001b[1;33m:\u001b[0m        \u001b[1;31m# It's a file-type object.\u001b[0m\u001b[1;33m\u001b[0m\u001b[0m\n\u001b[1;32m--> 191\u001b[1;33m             \u001b[0mmarkup\u001b[0m \u001b[1;33m=\u001b[0m \u001b[0mmarkup\u001b[0m\u001b[1;33m.\u001b[0m\u001b[0mread\u001b[0m\u001b[1;33m(\u001b[0m\u001b[1;33m)\u001b[0m\u001b[1;33m\u001b[0m\u001b[0m\n\u001b[0m\u001b[0;32m    192\u001b[0m         elif len(markup) <= 256 and (\n\u001b[0;32m    193\u001b[0m                 \u001b[1;33m(\u001b[0m\u001b[0misinstance\u001b[0m\u001b[1;33m(\u001b[0m\u001b[0mmarkup\u001b[0m\u001b[1;33m,\u001b[0m \u001b[0mbytes\u001b[0m\u001b[1;33m)\u001b[0m \u001b[1;32mand\u001b[0m \u001b[1;32mnot\u001b[0m \u001b[1;34mb'<'\u001b[0m \u001b[1;32min\u001b[0m \u001b[0mmarkup\u001b[0m\u001b[1;33m)\u001b[0m\u001b[1;33m\u001b[0m\u001b[0m\n",
      "\u001b[1;31mUnicodeDecodeError\u001b[0m: 'cp949' codec can't decode byte 0xeb in position 237: illegal multibyte sequence"
     ]
    }
   ],
   "source": [
    "from bs4 import BeautifulSoup\n",
    "\n",
    "with open('webtoon.html') as fp:\n",
    "    soup = BeautifulSoup(fp)\n",
    "    \n",
    "soup = BeautifulSoup(\"<html>data</html>\")"
   ]
  },
  {
   "cell_type": "code",
   "execution_count": 2,
   "metadata": {
    "scrolled": true
   },
   "outputs": [
    {
     "name": "stdout",
     "output_type": "stream",
     "text": [
      "\n",
      "<html><head><title>The Dormouse's story</title></head>\n",
      "<body>\n",
      "<p class=\"title2\"><b>The Dormouse's story</b></p>\n",
      "<p class=\"story\">Once upon a time there were three little sisters; and their names were\n",
      "<a class=\"sister\" href=\"http://example.com/elsie\" id=\"link1\">Elsie</a>,\n",
      "<a class=\"sister\" href=\"http://example.com/lacie\" id=\"link2\">Lacie</a> and\n",
      "<a class=\"sister\" href=\"http://example.com/tillie\" id=\"link3\">Tillie</a>;\n",
      "and they lived at the bottom of a well.</p>\n",
      "<p class=\"story\">...</p>\n",
      "</body></html>\n"
     ]
    }
   ],
   "source": [
    "import requests\n",
    "import pandas as pd\n",
    "import numpy as np\n",
    "import matplotlib.pyplot as plt\n",
    "from bs4 import BeautifulSoup\n",
    "\n",
    "# print(soup.prettify()) : soup를 이쁘게 indet등이 정돈된 상태로 보여줌\n",
    "\n",
    "html_doc = \"\"\"\n",
    "<html><head><title>The Dormouse's story</title></head>\n",
    "<body>\n",
    "<p class=\"title2\"><b>The Dormouse's story</b></p>\n",
    "\n",
    "<p class=\"story\">Once upon a time there were three little sisters; and their names were\n",
    "<a href=\"http://example.com/elsie\" class=\"sister\" id=\"link1\">Elsie</a>,\n",
    "<a href=\"http://example.com/lacie\" class=\"sister\" id=\"link2\">Lacie</a> and\n",
    "<a href=\"http://example.com/tillie\" class=\"sister\" id=\"link3\">Tillie</a>;\n",
    "and they lived at the bottom of a well.</p>\n",
    "\n",
    "<p class=\"story\">...</p>\n",
    "\"\"\"\n",
    "\n",
    "soup = BeautifulSoup(html_doc, 'html.parser')\n",
    "print(soup)"
   ]
  },
  {
   "cell_type": "markdown",
   "metadata": {},
   "source": [
    "#### BeautifulSoup 클래스로 선언해준 soup 변수를 활용해서\n",
    "- soup.title : title tag 전체를 보여줌\n",
    "- soup.title.name : title태그라는 것을 보여주는 거 같음(태그의 이름) -> title로 보여줌\n",
    "- soup.title.string : title 태그내에 저장된 data를 보여주는거 같음.\n",
    "- soup.title.parent.name : title보다 상위에 있는 태그 이름 보여줌 -> head 보여줌\n",
    "- soup.p : soup의 p태그 전체를 보여줌\n",
    "- soup.p['class'] : p태그의 class로 선언된게 무엇인지 리스트 형태로 보여줌\n",
    "- soup.a : a태그 전체를 보여줌"
   ]
  },
  {
   "cell_type": "code",
   "execution_count": 3,
   "metadata": {},
   "outputs": [
    {
     "name": "stdout",
     "output_type": "stream",
     "text": [
      "<title>The Dormouse's story</title>\n",
      "\n",
      "title\n",
      "\n",
      "The Dormouse's story\n",
      "\n",
      "head\n",
      "\n",
      "<p class=\"title2\"><b>The Dormouse's story</b></p>\n",
      "\n",
      "['title2']\n",
      "\n",
      "<a class=\"sister\" href=\"http://example.com/elsie\" id=\"link1\">Elsie</a>\n"
     ]
    }
   ],
   "source": [
    "print(soup.title)\n",
    "print()\n",
    "print(soup.title.name)\n",
    "print()\n",
    "print(soup.title.string)\n",
    "print()\n",
    "print(soup.title.parent.name)\n",
    "print()\n",
    "print(soup.p)\n",
    "print()\n",
    "print(soup.p['class'])\n",
    "print()\n",
    "print(soup.a)"
   ]
  },
  {
   "cell_type": "markdown",
   "metadata": {
    "collapsed": true
   },
   "source": [
    "#### soup.find_al()l / find(xx = 'xx')\n",
    "- soup.find_all('a') : a태그들을 모두 찾아줌\n",
    "- soup.find(id='link3') : id='link3'을 포함한 태그를 찾아줌"
   ]
  },
  {
   "cell_type": "code",
   "execution_count": 4,
   "metadata": {},
   "outputs": [
    {
     "data": {
      "text/plain": [
       "<a class=\"sister\" href=\"http://example.com/tillie\" id=\"link3\">Tillie</a>"
      ]
     },
     "execution_count": 4,
     "metadata": {},
     "output_type": "execute_result"
    }
   ],
   "source": [
    "soup.find_all('a')\n",
    "soup.find(id='link3')"
   ]
  },
  {
   "cell_type": "markdown",
   "metadata": {
    "collapsed": true
   },
   "source": [
    "### Extracting all the URLs found within a page 'a' tags"
   ]
  },
  {
   "cell_type": "code",
   "execution_count": 38,
   "metadata": {},
   "outputs": [
    {
     "name": "stdout",
     "output_type": "stream",
     "text": [
      "http://example.com/elsie\n",
      "http://example.com/lacie\n",
      "http://example.com/tillie\n",
      "\n",
      "\n",
      "The Dormouse's story\n",
      "\n",
      "The Dormouse's story\n",
      "Once upon a time there were three little sisters; and their names were\n",
      "Elsie,\n",
      "Lacie and\n",
      "Tillie;\n",
      "and they lived at the bottom of a well.\n",
      "...\n",
      "\n"
     ]
    }
   ],
   "source": [
    "for link in soup.find_all('a'):\n",
    "    print(link.get('href'))\n",
    "    \n",
    "print()\n",
    "print(soup.get_text())"
   ]
  },
  {
   "cell_type": "markdown",
   "metadata": {},
   "source": [
    "#### find(), find_all() 함수의 옵션 : limit / argument별로 찾기 / (태그, class=\"\")\n",
    "- find_all 함수는 1개의 list가 Return된다는 것이 중요함!!"
   ]
  },
  {
   "cell_type": "code",
   "execution_count": 54,
   "metadata": {},
   "outputs": [
    {
     "data": {
      "text/plain": [
       "[<title>The Dormouse's story</title>]"
      ]
     },
     "execution_count": 54,
     "metadata": {},
     "output_type": "execute_result"
    }
   ],
   "source": [
    "soup.find_all('title')"
   ]
  },
  {
   "cell_type": "code",
   "execution_count": 56,
   "metadata": {},
   "outputs": [
    {
     "data": {
      "text/plain": [
       "[<a class=\"sister\" href=\"http://example.com/lacie\" id=\"link2\">Lacie</a>]"
      ]
     },
     "execution_count": 56,
     "metadata": {},
     "output_type": "execute_result"
    }
   ],
   "source": [
    "soup.find_all(id='link2')"
   ]
  },
  {
   "cell_type": "code",
   "execution_count": 57,
   "metadata": {},
   "outputs": [
    {
     "data": {
      "text/plain": [
       "[<a class=\"sister\" href=\"http://example.com/elsie\" id=\"link1\">Elsie</a>,\n",
       " <a class=\"sister\" href=\"http://example.com/lacie\" id=\"link2\">Lacie</a>,\n",
       " <a class=\"sister\" href=\"http://example.com/tillie\" id=\"link3\">Tillie</a>]"
      ]
     },
     "execution_count": 57,
     "metadata": {},
     "output_type": "execute_result"
    }
   ],
   "source": [
    "soup.find_all(\"a\", class_='sister')"
   ]
  },
  {
   "cell_type": "code",
   "execution_count": 63,
   "metadata": {},
   "outputs": [
    {
     "data": {
      "text/plain": [
       "['Elsie']"
      ]
     },
     "execution_count": 63,
     "metadata": {},
     "output_type": "execute_result"
    }
   ],
   "source": [
    "soup.find_all(string='Elsie')"
   ]
  },
  {
   "cell_type": "code",
   "execution_count": 52,
   "metadata": {},
   "outputs": [
    {
     "data": {
      "text/plain": [
       "[<a class=\"sister\" href=\"http://example.com/elsie\" id=\"link1\">Elsie</a>]"
      ]
     },
     "execution_count": 52,
     "metadata": {},
     "output_type": "execute_result"
    }
   ],
   "source": [
    "# find_all 함수의 limit옵션은 몇개까지 보여줄 지 선정하는 것이라고 생각하면 된다.\n",
    "soup.find_all('a', limit = 1)\n",
    "# soup.find('title')"
   ]
  },
  {
   "cell_type": "markdown",
   "metadata": {},
   "source": [
    "#### Web Scraping Example"
   ]
  },
  {
   "cell_type": "code",
   "execution_count": 157,
   "metadata": {
    "collapsed": true
   },
   "outputs": [],
   "source": [
    "import requests\n",
    "import pandas as pd\n",
    "import numpy as np\n",
    "import matplotlib.pyplot as plt\n",
    "from bs4 import BeautifulSoup\n",
    "\n",
    "class HTMLTableParser:\n",
    "    def parse_url(self, url):\n",
    "        response = requests.get(url)\n",
    "        soup = BeautifulSoup(response.text, 'lxml')\n",
    "        return [(self.parse_html_table(table)) for table in soup.find_all('table')]\n",
    "    def parse_html_table(self, table):\n",
    "        n_columns = 0\n",
    "        n_rows = 0\n",
    "        column_names = []\n",
    "        for row in table.find_all('tr'):\n",
    "            td_tags = row.find_all('td') # 모든 td들이 td_tags에 저장될 것이고 td_tags의 len() td의 갯수가 된다.\n",
    "            if len(td_tags) > 0:\n",
    "                n_rows += 1# for문 한번씩 돌때마다 row갯수가 하나씩 올라 가는 것임\n",
    "                if n_columns == 0:\n",
    "                    n_columns = len(td_tags) \n",
    "                    # row에 들어있는 data(td) 갯수만큼 열이 있는 것이니깐 열의 갯수라 할 수있음\n",
    "                    # col갯수는 for문돌면서 count할 필요없음\n",
    "            th_tags = row.find_all('th')\n",
    "            if len(th_tags) > 0 and len(column_names) == 0:\n",
    "                for th in th_tags:\n",
    "                    column_names.append(th.get_text())\n",
    "        #column 갯수랑 column의 Header갯수가 일치하지않을때 보호해주는 장치임\n",
    "        if len(column_names) > 0 and len(column_names) != n_columns: \n",
    "            raise Exception('Column titles donot match the number of columns')\n",
    "        # Exception Error를 불러일으킨다는 뜻이다.\n",
    "            \n",
    "        #make DataFrame\n",
    "        columns = column_names if len(column_names) > 0 else range(0, n_columns)\n",
    "        # column_names가 있으면(길이가 0보다 크다로 표현함) 그대로 쓰고 없으면 column갯수대로 번호로 써준다\n",
    "        df = pd.DataFrame(columns = columns, index = range(0, n_rows))\n",
    "        row_marker = 0 \n",
    "\n",
    "        # 핵심! DataFrame을 채워나가는 가정\n",
    "        for row in table.find_all('tr'):\n",
    "            column_marker = 0\n",
    "            columns = row.find_all('td')\n",
    "            # columns에는 table_data들이 오게됨\n",
    "            for column in columns:\n",
    "                df.iat[row_marker, column_marker] = column.get_text() \n",
    "                #.iat는(index번호와, column순서 번호) / 단순히(행,열) 이라고 생각하자\n",
    "                column_marker += 1\n",
    "            if len(columns) > 0: # 질문! 이거는 거의 항상 옳은데 왜 써준지 모르겠음! if문없이 그냥 써주면 안되나?\n",
    "                row_marker += 1\n",
    "\n",
    "        for col in df: # 질문! df를 for문으로 돌리면 column들이 나오나????\n",
    "            try:\n",
    "                if col == 'Rank':\n",
    "                    continue\n",
    "                df[col] = df[col].astype(float)\n",
    "            except ValueError:\n",
    "                pass\n",
    "        return df\n",
    "                        "
   ]
  },
  {
   "cell_type": "code",
   "execution_count": 158,
   "metadata": {
    "collapsed": true
   },
   "outputs": [
    {
     "data": {
      "image/png": "[encoded data removed]",
      "text/plain": [
       "<matplotlib.figure.Figure at 0x211ab85f208>"
      ]
     },
     "metadata": {},
     "output_type": "display_data"
    }
   ],
   "source": [
    "if __name__ == '__main__':\n",
    "    url = 'https://www.fantasypros.com/nfl/reports/leaders/qb.php?year=2015'\n",
    "    \n",
    "    hp = HTMLTableParser()\n",
    "    table = hp.parse_url(url)[0] # [0]은 url에서 내가 원하는 테이블은 첫번째 테이블임을 말해주는 것임\n",
    "    plt.figure()\n",
    "    avg = table['Avg'].values\n",
    "    plt.hist(avg, bins=25, histtype='bar', ec='black')\n",
    "    plt.title('Average QB Points Per Game in 2015')\n",
    "    plt.xlabel('Avg score')\n",
    "    plt.ylabel('player count')\n",
    "    plt.show()\n"
   ]
  },
  {
   "cell_type": "code",
   "execution_count": null,
   "metadata": {
    "collapsed": true
   },
   "outputs": [],
   "source": []
  },
  {
   "cell_type": "markdown",
   "metadata": {
    "collapsed": true
   },
   "source": [
    "### 3) Regular Expression : 정규표현식\n",
    "- 특정한 규칙을 가진 문자열의 집합을 표현하는데 사용하는 형식 언어\n",
    "- 표준 라이브러리임(re module) : import re 해서 사용할 수 있다.\n",
    "- https://regex101.com/ : 매우 유용한 정규표현식 관련 사이트임."
   ]
  },
  {
   "cell_type": "code",
   "execution_count": 102,
   "metadata": {
    "collapsed": true
   },
   "outputs": [],
   "source": [
    "import re"
   ]
  },
  {
   "cell_type": "markdown",
   "metadata": {},
   "source": [
    "__Example Code with Sub()__"
   ]
  },
  {
   "cell_type": "markdown",
   "metadata": {},
   "source": [
    "1)정규표현식을 사용 안한 경우"
   ]
  },
  {
   "cell_type": "code",
   "execution_count": 161,
   "metadata": {},
   "outputs": [
    {
     "name": "stdout",
     "output_type": "stream",
     "text": [
      "['']\n",
      "['park', '800905-*******']\n",
      "['kim', '700905-*******']\n",
      "['']\n",
      "\n",
      "park 800905-*******\n",
      "kim 700905-*******\n",
      "\n"
     ]
    }
   ],
   "source": [
    "data = '''\n",
    "park 800905-1049118\n",
    "kim 700905-1059119\n",
    "'''\n",
    "\n",
    "result = []\n",
    "for line in data.split(\"\\n\"):\n",
    "    word_result = []\n",
    "    for word in line.split(\" \"):\n",
    "        # park이나 kim같은 성은 if문에 안걸리고 if문 밖의 word_result에 담긴다. \n",
    "        # 주민번호는 if문에 걸려서 format이 한번 변경된 후에 word_result에 담긴다.\n",
    "        if len(word) == 14 and word[:6].isdigit() and word[7:].isdigit():\n",
    "            word = word[:6] + \"-\" + \"*******\"\n",
    "        word_result.append(word)\n",
    "    print(word_result)\n",
    "    result.append(\" \".join(word_result)) #중간에 공백을 넣어주고 두 문자열을 합친다는 뜻\n",
    "print('\\n'.join(result)) # 중간에 \\n을 넣고 두문자열을 합친다는 뜻\n"
   ]
  },
  {
   "cell_type": "markdown",
   "metadata": {},
   "source": [
    "2) 정규표현 식을 사용한 경우 SIMPLE!!!"
   ]
  },
  {
   "cell_type": "code",
   "execution_count": 200,
   "metadata": {},
   "outputs": [
    {
     "name": "stdout",
     "output_type": "stream",
     "text": [
      "re.compile('(\\\\d{6})[-]\\\\d{7}')\n",
      "\n",
      "\n",
      "park 800905-*******\n",
      "kim  700905-*******\n",
      "\n",
      "\n",
      "park 800905-*******\n",
      "kim  700905-*******\n",
      "\n"
     ]
    }
   ],
   "source": [
    " data =\"\"\"\n",
    " park 800905-1049118\n",
    " kim  700905-1059119\n",
    " \"\"\"\n",
    "\n",
    "pat = re.compile('(\\d{6})[-]\\d{7}') \n",
    "# 이 식자체가 정규 표현식을 적용할 수 있는 모델(?)을 만든거라 생각하자.\n",
    "# (\\d{6}) 괄호로 묶어줘야지 밑에서 \\g<1>과 연동해서 쓸 수 있다.(group1이라고 생각하자.)\n",
    "print(pat)\n",
    "print()\n",
    "print(pat.sub('\\g<1>-*******', data))\n",
    "\n",
    "print(re.sub('(\\d{6})[-]\\d{7}', '\\g<1>-*******', data))"
   ]
  },
  {
   "cell_type": "markdown",
   "metadata": {},
   "source": [
    "#### 정규식을 이용한 문자열 검색\n",
    "- 정규식과 일치하는 경우가 있을때 match object return하는 경우 match() / search() / findall() / finditer()\n",
    "- Method list : group(), start(), end(), span()"
   ]
  },
  {
   "cell_type": "markdown",
   "metadata": {},
   "source": [
    "1) match()"
   ]
  },
  {
   "cell_type": "code",
   "execution_count": 208,
   "metadata": {},
   "outputs": [
    {
     "name": "stdout",
     "output_type": "stream",
     "text": [
      "<_sre.SRE_Match object; span=(0, 6), match='string'>\n",
      "Match found : string\n",
      "group() : string\n",
      "start() : 0\n",
      "end() : 6\n",
      "span() : (0, 6)\n"
     ]
    }
   ],
   "source": [
    "p = re.compile('[a-z]+')\n",
    "m = p.match('string goes here') # 공백 만나기전인 string까지가 값이 된다.\n",
    "print(m) # p.match하면 p에 대한 match조건에 대해서 어디서부터 어디까지가 매치되는지 매치되는 문자열은 어디까지인지 등\n",
    "        # 다양한 정보가 담겨서 나온다\n",
    "if m:\n",
    "    print('Match found :',m.group())\n",
    "else:\n",
    "    print('No match')\n",
    "    \n",
    "print('group() :', m.group())\n",
    "print('start() :', m.start())\n",
    "print('end() :', m.end())\n",
    "print('span() :', m.span())"
   ]
  },
  {
   "cell_type": "markdown",
   "metadata": {},
   "source": [
    "2) search"
   ]
  },
  {
   "cell_type": "code",
   "execution_count": 209,
   "metadata": {},
   "outputs": [
    {
     "name": "stdout",
     "output_type": "stream",
     "text": [
      "Looking for \"first\", in \"This is my First Regular Expression Program\" -> Match!\n",
      "Looking for \"that\", in \"This is my First Regular Expression Program\" -> No match\n",
      "Looking for \"progoram\", in \"This is my First Regular Expression Program\" -> No match\n"
     ]
    }
   ],
   "source": [
    "text = 'This is my First Regular Expression Program'\n",
    "patterns = ['first', 'that', 'progoram']\n",
    "\n",
    "for pattern in patterns:\n",
    "    print('Looking for \"%s\", in \"%s\" ->'%(pattern, text), end=' ')\n",
    "    if re.search(pattern, text, re.I): \n",
    "        # text에 대해서 pattern이 있는지 찾아본다는 뜻! Trune면 Match! False 면 No match\n",
    "        print('Match!')\n",
    "    else:\n",
    "        print('No match')"
   ]
  },
  {
   "cell_type": "markdown",
   "metadata": {},
   "source": [
    "3) findall()"
   ]
  },
  {
   "cell_type": "code",
   "execution_count": 213,
   "metadata": {},
   "outputs": [
    {
     "name": "stdout",
     "output_type": "stream",
     "text": [
      "['professionals']\n",
      "\n",
      "['helps']\n",
      "\n",
      "['Python', 'course', 'helps', 'fish', 'best']\n",
      "\n",
      "['professionals', 'opportunities']\n",
      "\n",
      "['c++ ', 'c ', 'c# ']\n",
      "['Python', 'perl', 'p']\n"
     ]
    }
   ],
   "source": [
    "line = 'Python Orientation course helps professionals fish best opportunities'\n",
    "\n",
    "print(re.findall(r\"\\bp[\\w]*\", line))\n",
    "print()\n",
    "print(re.findall(r'\\b\\w{5}\\b', line))\n",
    "print()\n",
    "print(re.findall(r'\\b\\w{4,6}\\b', line))\n",
    "print()\n",
    "print(re.findall(r'\\b\\w{13,}\\b', line))\n",
    "print()\n",
    "\n",
    "string = 'Python java c++ perl shell ruby tcl c c# p'\n",
    "print(re.findall(r\"\\bc[\\W+]*\", string, re.I))\n",
    "print(re.findall(r\"\\bp[\\w]*\", string, re.I))"
   ]
  },
  {
   "cell_type": "markdown",
   "metadata": {},
   "source": [
    "4) finditer()"
   ]
  },
  {
   "cell_type": "code",
   "execution_count": 214,
   "metadata": {},
   "outputs": [
    {
     "name": "stdout",
     "output_type": "stream",
     "text": [
      " 'c++ ' was found between the indices (12, 16)\n",
      " 'c ' was found between the indices (36, 38)\n",
      " 'c#' was found between the indices (38, 40)\n"
     ]
    }
   ],
   "source": [
    "string = 'Python java c++ perl shell ruby tcl c c#'\n",
    "it = re.finditer(r\"\\bc[(\\W\\s)]*\", string)\n",
    "for match in it:\n",
    "    print(\" '{g}' was found between the indices {s}\".format(g=match.group(), s=match.span())) # 주민등록번호 예제에서 쓰인 g<1>과 헷갈리지 말자."
   ]
  },
  {
   "cell_type": "code",
   "execution_count": null,
   "metadata": {
    "collapsed": true
   },
   "outputs": [],
   "source": []
  },
  {
   "cell_type": "code",
   "execution_count": null,
   "metadata": {
    "collapsed": true
   },
   "outputs": [],
   "source": []
  },
  {
   "cell_type": "code",
   "execution_count": null,
   "metadata": {
    "collapsed": true
   },
   "outputs": [],
   "source": []
  },
  {
   "cell_type": "code",
   "execution_count": null,
   "metadata": {
    "collapsed": true
   },
   "outputs": [],
   "source": []
  },
  {
   "cell_type": "code",
   "execution_count": null,
   "metadata": {
    "collapsed": true
   },
   "outputs": [],
   "source": []
  }
 ],
 "metadata": {
  "kernelspec": {
   "display_name": "Python 3",
   "language": "python",
   "name": "python3"
  },
  "language_info": {
   "codemirror_mode": {
    "name": "ipython",
    "version": 3
   },
   "file_extension": ".py",
   "mimetype": "text/x-python",
   "name": "python",
   "nbconvert_exporter": "python",
   "pygments_lexer": "ipython3",
   "version": "3.6.1"
  }
 },
 "nbformat": 4,
 "nbformat_minor": 2
}
