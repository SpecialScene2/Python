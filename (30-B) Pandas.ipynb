{
 "cells": [
  {
   "cell_type": "markdown",
   "metadata": {},
   "source": [
    "## __(30-B) Pandas__\n",
    "- PANel Data AnalysiS\n",
    "- Series(1차원), DataFrame(2차원)\n",
    "- Panel(3차원 이상)을 통해서 data들을 다루기 쉽다.(Panel은 거의 안쓴다/없어질 가능성도 있음)\n",
    "- missing data를 다루기 쉽다,\n",
    "- columns의 Add & drop이 쉽다.\n",
    "- Groupby & Aggregation이 강력한 도구임.\n",
    "- label base로 slicing할 수 있고 label부르기가 쉽다."
   ]
  },
  {
   "cell_type": "markdown",
   "metadata": {},
   "source": [
    "### <Font color = white>Limitation of Numpy Object\n",
    "- Numpy의 한계는 Grouping, 시간 data, data join등 data 추출하기에 한계가 있다.\n",
    "***"
   ]
  },
  {
   "cell_type": "code",
   "execution_count": 2,
   "metadata": {},
   "outputs": [
    {
     "name": "stdout",
     "output_type": "stream",
     "text": [
      "[ 4.  5.  6.]\n",
      "[ 3.  6.]\n",
      "[[ 5.  6.]]\n"
     ]
    }
   ],
   "source": [
    "import numpy as np\n",
    "import pandas as pd\n",
    "\n",
    "a = np.array([[1,2,3],[4,5,6]], float)\n",
    "print(a[1,:])\n",
    "print(a[:,2])\n",
    "print(a[-1:,-2:])"
   ]
  },
  {
   "cell_type": "markdown",
   "metadata": {},
   "source": [
    "### <Font color = white>Series Creation\n",
    "- Numpy의 Array를 Pandas의 Series로 만들 수 있다.\n",
    "***"
   ]
  },
  {
   "cell_type": "code",
   "execution_count": 1,
   "metadata": {
    "scrolled": true
   },
   "outputs": [
    {
     "data": {
      "text/plain": [
       "0    1.0\n",
       "1    3.0\n",
       "2    5.0\n",
       "3    NaN\n",
       "4    6.0\n",
       "5    8.0\n",
       "dtype: float64"
      ]
     },
     "execution_count": 1,
     "metadata": {},
     "output_type": "execute_result"
    }
   ],
   "source": [
    "import pandas as pd\n",
    "import numpy as np\n",
    "import matplotlib.pyplot as plt\n",
    "\n",
    "s = pd.Series([1,3,5,np.nan,6,8]) # NAN이 있으면 float타입으로 data들이 나타난다.\n",
    "s"
   ]
  },
  {
   "cell_type": "code",
   "execution_count": 10,
   "metadata": {
    "scrolled": false
   },
   "outputs": [
    {
     "name": "stdout",
     "output_type": "stream",
     "text": [
      "[  1.   3.   4.  nan   6.   8.]\n",
      "0    1.0\n",
      "1    3.0\n",
      "2    4.0\n",
      "3    NaN\n",
      "4    6.0\n",
      "5    8.0\n",
      "dtype: float64\n"
     ]
    }
   ],
   "source": [
    "# Numpy의 array를 Series로 만들 수 있다.\n",
    "np_s = np.array([1,3,4,np.nan,6,8])\n",
    "pd_s = pd.Series(np_s)\n",
    "print(np_s)\n",
    "print(pd_s)"
   ]
  },
  {
   "cell_type": "code",
   "execution_count": 3,
   "metadata": {
    "scrolled": false
   },
   "outputs": [
    {
     "data": {
      "text/plain": [
       "Ohio      35000\n",
       "Oregon    16000\n",
       "Texas     71000\n",
       "Utah       5000\n",
       "dtype: int64"
      ]
     },
     "execution_count": 3,
     "metadata": {},
     "output_type": "execute_result"
    }
   ],
   "source": [
    "from pandas import Series, DataFrame\n",
    "import pandas as pd\n",
    "sdata = {'Ohio':35000, 'Texas':71000, 'Oregon':16000, 'Utah':5000} # Key값들은 사전순으로 나열된다.\n",
    "obj3 = Series(sdata)\n",
    "obj3"
   ]
  },
  {
   "cell_type": "code",
   "execution_count": 4,
   "metadata": {},
   "outputs": [
    {
     "data": {
      "text/plain": [
       "California        NaN\n",
       "Ohio          35000.0\n",
       "Oregon        16000.0\n",
       "Texas         71000.0\n",
       "dtype: float64"
      ]
     },
     "execution_count": 4,
     "metadata": {},
     "output_type": "execute_result"
    }
   ],
   "source": [
    "states = ['California', 'Ohio', 'Oregon', 'Texas']\n",
    "sdata = {'Ohio':35000, 'Texas':71000, 'Oregon':16000, 'Utah':5000}\n",
    "obj4 = Series(sdata, index =states) # 여기서는 index를 중심으로 Series가 생성되고 / index에 없는건 생성 안됨(Utah)\n",
    "obj4"
   ]
  },
  {
   "cell_type": "code",
   "execution_count": 6,
   "metadata": {},
   "outputs": [
    {
     "name": "stdout",
     "output_type": "stream",
     "text": [
      "<class 'dict'>\n"
     ]
    }
   ],
   "source": [
    "import pandas as pd\n",
    "import numpy as np\n",
    "import matplotlib.pyplot as plt\n",
    "\n",
    "d = {'a' : 0., 'b' : 1., 'c' : 2.}\n",
    "print(type(d))"
   ]
  },
  {
   "cell_type": "markdown",
   "metadata": {},
   "source": [
    "※value값이 특이하게 나오니깐 알아두자"
   ]
  },
  {
   "cell_type": "code",
   "execution_count": 13,
   "metadata": {},
   "outputs": [
    {
     "data": {
      "text/plain": [
       "a    0.0\n",
       "b    1.0\n",
       "c    2.0\n",
       "dtype: float64"
      ]
     },
     "execution_count": 13,
     "metadata": {},
     "output_type": "execute_result"
    }
   ],
   "source": [
    "d = {'a' : 0., 'b' : 1., 'c' : 2.}\n",
    "pd.Series(d) # key값이 index가 되고 value값은 0.이 아니라 0.0까지 나온다."
   ]
  },
  {
   "cell_type": "code",
   "execution_count": 14,
   "metadata": {},
   "outputs": [
    {
     "data": {
      "text/plain": [
       "Ohio      35000\n",
       "Oregon    16000\n",
       "Texas     71000\n",
       "Utah       5000\n",
       "dtype: int64"
      ]
     },
     "execution_count": 14,
     "metadata": {},
     "output_type": "execute_result"
    }
   ],
   "source": [
    "import pandas as pd\n",
    "import numpy as np\n",
    "import matplotlib.pyplot as plt\n",
    "\n",
    "sdata = {'Ohio' : 35000, 'Texas' : 71000, 'Oregon' : 16000, 'Utah' : 5000}\n",
    "obj3 = Series(sdata)\n",
    "obj3"
   ]
  },
  {
   "cell_type": "code",
   "execution_count": 15,
   "metadata": {},
   "outputs": [
    {
     "data": {
      "text/plain": [
       "California        NaN\n",
       "Ohio          35000.0\n",
       "Oregon        16000.0\n",
       "Texas         71000.0\n",
       "dtype: float64"
      ]
     },
     "execution_count": 15,
     "metadata": {},
     "output_type": "execute_result"
    }
   ],
   "source": [
    "states = ['California', 'Ohio', 'Oregon', 'Texas']\n",
    "obj4 = Series(sdata, index = states)\n",
    "obj4"
   ]
  },
  {
   "cell_type": "markdown",
   "metadata": {},
   "source": [
    "### <Font color = white>Null Check in Series : isnull()과 notnull()\n",
    "[ 2가지 표기 방식이 있음] <br>\n",
    "1) pd.isnull(오브젝트) <br>\n",
    "2) 오브젝트.isnull()\n",
    "***"
   ]
  },
  {
   "cell_type": "code",
   "execution_count": 19,
   "metadata": {
    "scrolled": true
   },
   "outputs": [
    {
     "name": "stdout",
     "output_type": "stream",
     "text": [
      "California     True\n",
      "Ohio          False\n",
      "Oregon        False\n",
      "Texas         False\n",
      "dtype: bool\n",
      "\n",
      "California     True\n",
      "Ohio          False\n",
      "Oregon        False\n",
      "Texas         False\n",
      "dtype: bool\n"
     ]
    }
   ],
   "source": [
    "print(pd.isnull(obj4))\n",
    "print()\n",
    "print(obj4.isnull())\n"
   ]
  },
  {
   "cell_type": "code",
   "execution_count": 21,
   "metadata": {},
   "outputs": [
    {
     "name": "stdout",
     "output_type": "stream",
     "text": [
      "California    False\n",
      "Ohio           True\n",
      "Oregon         True\n",
      "Texas          True\n",
      "dtype: bool\n",
      "\n",
      "California    False\n",
      "Ohio           True\n",
      "Oregon         True\n",
      "Texas          True\n",
      "dtype: bool\n"
     ]
    }
   ],
   "source": [
    "print(pd.notnull(obj4))\n",
    "print()\n",
    "print(obj4.notnull())"
   ]
  },
  {
   "cell_type": "markdown",
   "metadata": {},
   "source": [
    "### <Font color = white>DataFrame Creation\n",
    "***"
   ]
  },
  {
   "cell_type": "code",
   "execution_count": 60,
   "metadata": {
    "scrolled": false
   },
   "outputs": [
    {
     "data": {
      "text/html": [
       "<div>\n",
       "<style>\n",
       "    .dataframe thead tr:only-child th {\n",
       "        text-align: right;\n",
       "    }\n",
       "\n",
       "    .dataframe thead th {\n",
       "        text-align: left;\n",
       "    }\n",
       "\n",
       "    .dataframe tbody tr th {\n",
       "        vertical-align: top;\n",
       "    }\n",
       "</style>\n",
       "<table border=\"1\" class=\"dataframe\">\n",
       "  <thead>\n",
       "    <tr style=\"text-align: right;\">\n",
       "      <th></th>\n",
       "      <th>Day</th>\n",
       "      <th>Revenue</th>\n",
       "      <th>Visitors</th>\n",
       "    </tr>\n",
       "  </thead>\n",
       "  <tbody>\n",
       "    <tr>\n",
       "      <th>0</th>\n",
       "      <td>1</td>\n",
       "      <td>64</td>\n",
       "      <td>43</td>\n",
       "    </tr>\n",
       "    <tr>\n",
       "      <th>1</th>\n",
       "      <td>2</td>\n",
       "      <td>73</td>\n",
       "      <td>45</td>\n",
       "    </tr>\n",
       "    <tr>\n",
       "      <th>2</th>\n",
       "      <td>3</td>\n",
       "      <td>62</td>\n",
       "      <td>33</td>\n",
       "    </tr>\n",
       "    <tr>\n",
       "      <th>3</th>\n",
       "      <td>4</td>\n",
       "      <td>64</td>\n",
       "      <td>43</td>\n",
       "    </tr>\n",
       "    <tr>\n",
       "      <th>4</th>\n",
       "      <td>5</td>\n",
       "      <td>53</td>\n",
       "      <td>78</td>\n",
       "    </tr>\n",
       "    <tr>\n",
       "      <th>5</th>\n",
       "      <td>6</td>\n",
       "      <td>66</td>\n",
       "      <td>44</td>\n",
       "    </tr>\n",
       "  </tbody>\n",
       "</table>\n",
       "</div>"
      ],
      "text/plain": [
       "   Day  Revenue  Visitors\n",
       "0    1       64        43\n",
       "1    2       73        45\n",
       "2    3       62        33\n",
       "3    4       64        43\n",
       "4    5       53        78\n",
       "5    6       66        44"
      ]
     },
     "execution_count": 60,
     "metadata": {},
     "output_type": "execute_result"
    }
   ],
   "source": [
    "sales_stats = {'Day' : [1,2,3,4,5,6],\n",
    "               'Visitors': [43, 45, 33, 43, 78, 44],\n",
    "               'Revenue' : [64,73,62,64,53,66]}\n",
    "df = pd.DataFrame(sales_stats)\n",
    "df"
   ]
  },
  {
   "cell_type": "markdown",
   "metadata": {},
   "source": [
    "### <Font color = white>DataFrame indexing \n",
    "- df[] / df.loc[] / df.iloc[] 모두 대괄호 쓴다\n",
    "- DataFrame indexing헷갈리는 부분 <br>\n",
    "1) df[col이름] 과 df[row시작:row끝] 헷갈리지 말자 <br>\n",
    "2) df.loc[row시작:row끝]을 쓸 때 rowname(idx)가 uniq하지 않으면, ERROR가 발생한다.<br>\n",
    "3) df.iloc[row시작:row끝] / df[row시작 : row끝] 은 두개다 row끝이 포함되지 않는다.<br>\n",
    "<font color = red>4) 3)번과 달리 df.loc[row시작:row끝]은 양쪽다 포함된다\n",
    "***"
   ]
  },
  {
   "cell_type": "code",
   "execution_count": 64,
   "metadata": {
    "scrolled": true
   },
   "outputs": [
    {
     "name": "stdout",
     "output_type": "stream",
     "text": [
      "   Day  Revenue  Visitors\n",
      "0    1       64        43\n",
      "1    2       73        45\n",
      "2    3       62        33\n",
      "3    4       64        43\n",
      "\n",
      "   Day  Revenue  Visitors\n",
      "0    1       64        43\n",
      "1    2       73        45\n",
      "2    3       62        33\n"
     ]
    }
   ],
   "source": [
    "sales_stats = {'Day' : [1,2,3,4,5,6],\n",
    "               'Visitors': [43, 45, 33, 43, 78, 44],\n",
    "               'Revenue' : [64,73,62,64,53,66]}\n",
    "df = pd.DataFrame(sales_stats)\n",
    "df\n",
    "\n",
    "print(df.loc[:3]) #range랑 다르다. :3이라고하면 3까지 포함한다.\n",
    "print()\n",
    "print(df.iloc[:3])"
   ]
  },
  {
   "cell_type": "code",
   "execution_count": 65,
   "metadata": {},
   "outputs": [
    {
     "name": "stdout",
     "output_type": "stream",
     "text": [
      "          Day  Revenue\n",
      "Visitors              \n",
      "43          1       64\n",
      "45          2       73\n",
      "33          3       62\n",
      "43          4       64\n",
      "78          5       53\n",
      "          Day  Revenue\n",
      "Visitors              \n",
      "43          1       64\n",
      "45          2       73\n",
      "33          3       62\n",
      "43          4       64\n",
      "78          5       53\n",
      "          Day  Revenue\n",
      "Visitors              \n",
      "45          2       73\n",
      "33          3       62\n",
      "43          4       64\n",
      "78          5       53\n",
      "44          6       66\n"
     ]
    }
   ],
   "source": [
    "# Day를 rowname으로 써보자\n",
    "sales_stats = {'Day' : [1,2,3,4,5,6],\n",
    "               'Visitors': [43, 45, 33, 43, 78, 44],\n",
    "               'Revenue' : [64,73,62,64,53,66]}\n",
    "df = pd.DataFrame(sales_stats)\n",
    "df\n",
    "\n",
    "df = df.set_index('Visitors')\n",
    "print(df.iloc[0:5])\n",
    "print(df[0:5])\n",
    "print(df.loc[45:44]) # 여기서 43:44라고하면 43이 2개 있어서 에러남!\n",
    "\n",
    "# df.iloc[:] 이나 df[:]은 range 처럼 시작점은 포함하지만 끝점은 포함하지 않는다. but df.loc[:]시작점 끝점 다 포함한다."
   ]
  },
  {
   "cell_type": "code",
   "execution_count": 68,
   "metadata": {},
   "outputs": [
    {
     "data": {
      "text/plain": [
       "Day         3\n",
       "Revenue    62\n",
       "Name: 33, dtype: int64"
      ]
     },
     "execution_count": 68,
     "metadata": {},
     "output_type": "execute_result"
    }
   ],
   "source": [
    "#이렇게 한개의 row를 선택하면 Series로 보이는데 column명은 행idx처럼 들어온다\n",
    "df.loc[33]"
   ]
  },
  {
   "cell_type": "code",
   "execution_count": 70,
   "metadata": {},
   "outputs": [
    {
     "data": {
      "text/html": [
       "<div>\n",
       "<style>\n",
       "    .dataframe thead tr:only-child th {\n",
       "        text-align: right;\n",
       "    }\n",
       "\n",
       "    .dataframe thead th {\n",
       "        text-align: left;\n",
       "    }\n",
       "\n",
       "    .dataframe tbody tr th {\n",
       "        vertical-align: top;\n",
       "    }\n",
       "</style>\n",
       "<table border=\"1\" class=\"dataframe\">\n",
       "  <thead>\n",
       "    <tr style=\"text-align: right;\">\n",
       "      <th></th>\n",
       "      <th>Day</th>\n",
       "      <th>Revenue</th>\n",
       "    </tr>\n",
       "    <tr>\n",
       "      <th>Visitors</th>\n",
       "      <th></th>\n",
       "      <th></th>\n",
       "    </tr>\n",
       "  </thead>\n",
       "  <tbody>\n",
       "    <tr>\n",
       "      <th>33</th>\n",
       "      <td>3</td>\n",
       "      <td>62</td>\n",
       "    </tr>\n",
       "    <tr>\n",
       "      <th>43</th>\n",
       "      <td>4</td>\n",
       "      <td>64</td>\n",
       "    </tr>\n",
       "    <tr>\n",
       "      <th>78</th>\n",
       "      <td>5</td>\n",
       "      <td>53</td>\n",
       "    </tr>\n",
       "    <tr>\n",
       "      <th>44</th>\n",
       "      <td>6</td>\n",
       "      <td>66</td>\n",
       "    </tr>\n",
       "  </tbody>\n",
       "</table>\n",
       "</div>"
      ],
      "text/plain": [
       "          Day  Revenue\n",
       "Visitors              \n",
       "33          3       62\n",
       "43          4       64\n",
       "78          5       53\n",
       "44          6       66"
      ]
     },
     "execution_count": 70,
     "metadata": {},
     "output_type": "execute_result"
    }
   ],
   "source": [
    "df.loc[33:44]"
   ]
  },
  {
   "cell_type": "markdown",
   "metadata": {},
   "source": [
    "### <Font color = white>Accessing Rows/Columns\n",
    "***"
   ]
  },
  {
   "cell_type": "code",
   "execution_count": 78,
   "metadata": {},
   "outputs": [
    {
     "name": "stdout",
     "output_type": "stream",
     "text": [
      "Day         2\n",
      "Revenue    73\n",
      "Name: 45, dtype: int64\n",
      "\n",
      "Day         2\n",
      "Revenue    73\n",
      "Name: 45, dtype: int64\n"
     ]
    }
   ],
   "source": [
    "print(df.iloc[1])\n",
    "print()\n",
    "print(df.loc[45])"
   ]
  },
  {
   "cell_type": "code",
   "execution_count": 79,
   "metadata": {},
   "outputs": [
    {
     "name": "stdout",
     "output_type": "stream",
     "text": [
      "   Revenue  Visitors\n",
      "a       64        43\n",
      "b       73        45\n",
      "c       62        33\n",
      "d       64        43\n",
      "e       53        78\n",
      "f       66        44\n",
      "Revenue     66\n",
      "Visitors    44\n",
      "Name: f, dtype: int64\n",
      "\n",
      "   Revenue  Visitors\n",
      "c       62        33\n",
      "d       64        43\n",
      "e       53        78\n",
      "\n",
      "   Revenue  Visitors\n",
      "d       64        43\n",
      "e       53        78\n"
     ]
    }
   ],
   "source": [
    "sales_stats = {'Visitors': [43, 45, 33, 43, 78, 44],\n",
    "               'Revenue' : [64,73,62,64,53,66]}\n",
    "# 이렇게 DataFrame만들때 data(딕셔너리형태가 많음), index를 지정해서 주는 경우 많다.\n",
    "df2 = pd.DataFrame(sales_stats, index = ['a', 'b','c','d','e','f'])\n",
    "print(df2)\n",
    "\n",
    "print(df2.loc['f'])\n",
    "print()\n",
    "print(df2.loc['c':'e'])\n",
    "print()\n",
    "print(df2.iloc[3:5])"
   ]
  },
  {
   "cell_type": "code",
   "execution_count": 80,
   "metadata": {},
   "outputs": [
    {
     "name": "stdout",
     "output_type": "stream",
     "text": [
      "   Revenue  Visitors\n",
      "b       73        45\n",
      "f       66        44\n",
      "   Revenue  Visitors\n",
      "b       73        45\n",
      "e       53        78\n",
      "f       66        44\n"
     ]
    }
   ],
   "source": [
    "# & : or 기호이고 /  |: and기호임을 알아두자\n",
    "print(df2[df2['Revenue']>65])\n",
    "print(df2[(df2['Revenue']>65) | (df2['Visitors']>70)])"
   ]
  },
  {
   "cell_type": "code",
   "execution_count": 81,
   "metadata": {},
   "outputs": [
    {
     "name": "stdout",
     "output_type": "stream",
     "text": [
      "a    43\n",
      "b    45\n",
      "c    33\n",
      "d    43\n",
      "e    78\n",
      "f    44\n",
      "Name: Visitors, dtype: int64\n",
      "\n",
      "   Visitors  Revenue\n",
      "a        43       64\n",
      "b        45       73\n",
      "c        33       62\n",
      "d        43       64\n",
      "e        78       53\n",
      "f        44       66\n"
     ]
    }
   ],
   "source": [
    "print(df2['Visitors'])\n",
    "print()\n",
    "print(df2[['Visitors', 'Revenue']])"
   ]
  },
  {
   "cell_type": "markdown",
   "metadata": {},
   "source": [
    "### <Font color = white>Columns Manipulation\n",
    "- ※ axis = 0 -> col 선택 / axis = 1 -> row 선택\n",
    "***"
   ]
  },
  {
   "cell_type": "code",
   "execution_count": 83,
   "metadata": {},
   "outputs": [
    {
     "name": "stdout",
     "output_type": "stream",
     "text": [
      "   Revenue  Visitors\n",
      "a       64        43\n",
      "b       73        45\n",
      "c       62        33\n",
      "d       64        43\n",
      "e       53        78\n",
      "f       66        44\n",
      "\n"
     ]
    },
    {
     "data": {
      "text/html": [
       "<div>\n",
       "<style>\n",
       "    .dataframe thead tr:only-child th {\n",
       "        text-align: right;\n",
       "    }\n",
       "\n",
       "    .dataframe thead th {\n",
       "        text-align: left;\n",
       "    }\n",
       "\n",
       "    .dataframe tbody tr th {\n",
       "        vertical-align: top;\n",
       "    }\n",
       "</style>\n",
       "<table border=\"1\" class=\"dataframe\">\n",
       "  <thead>\n",
       "    <tr style=\"text-align: right;\">\n",
       "      <th></th>\n",
       "      <th>Visitors</th>\n",
       "      <th>Revenue</th>\n",
       "    </tr>\n",
       "  </thead>\n",
       "  <tbody>\n",
       "    <tr>\n",
       "      <th>a</th>\n",
       "      <td>43</td>\n",
       "      <td>64</td>\n",
       "    </tr>\n",
       "    <tr>\n",
       "      <th>b</th>\n",
       "      <td>45</td>\n",
       "      <td>73</td>\n",
       "    </tr>\n",
       "    <tr>\n",
       "      <th>c</th>\n",
       "      <td>33</td>\n",
       "      <td>62</td>\n",
       "    </tr>\n",
       "    <tr>\n",
       "      <th>d</th>\n",
       "      <td>43</td>\n",
       "      <td>64</td>\n",
       "    </tr>\n",
       "    <tr>\n",
       "      <th>e</th>\n",
       "      <td>78</td>\n",
       "      <td>53</td>\n",
       "    </tr>\n",
       "    <tr>\n",
       "      <th>f</th>\n",
       "      <td>44</td>\n",
       "      <td>66</td>\n",
       "    </tr>\n",
       "  </tbody>\n",
       "</table>\n",
       "</div>"
      ],
      "text/plain": [
       "   Visitors  Revenue\n",
       "a        43       64\n",
       "b        45       73\n",
       "c        33       62\n",
       "d        43       64\n",
       "e        78       53\n",
       "f        44       66"
      ]
     },
     "execution_count": 83,
     "metadata": {},
     "output_type": "execute_result"
    }
   ],
   "source": [
    "# col 순서를 바꿀 수 있다.\n",
    "print(df2)\n",
    "print()\n",
    "DataFrame(df2, columns = ['Visitors', 'Revenue'])"
   ]
  },
  {
   "cell_type": "code",
   "execution_count": 51,
   "metadata": {
    "scrolled": true
   },
   "outputs": [
    {
     "data": {
      "text/html": [
       "<div>\n",
       "<style>\n",
       "    .dataframe thead tr:only-child th {\n",
       "        text-align: right;\n",
       "    }\n",
       "\n",
       "    .dataframe thead th {\n",
       "        text-align: left;\n",
       "    }\n",
       "\n",
       "    .dataframe tbody tr th {\n",
       "        vertical-align: top;\n",
       "    }\n",
       "</style>\n",
       "<table border=\"1\" class=\"dataframe\">\n",
       "  <thead>\n",
       "    <tr style=\"text-align: right;\">\n",
       "      <th></th>\n",
       "      <th>Visitors</th>\n",
       "      <th>Revenue</th>\n",
       "      <th>Debt</th>\n",
       "    </tr>\n",
       "  </thead>\n",
       "  <tbody>\n",
       "    <tr>\n",
       "      <th>a</th>\n",
       "      <td>43</td>\n",
       "      <td>64</td>\n",
       "      <td>NaN</td>\n",
       "    </tr>\n",
       "    <tr>\n",
       "      <th>b</th>\n",
       "      <td>45</td>\n",
       "      <td>73</td>\n",
       "      <td>NaN</td>\n",
       "    </tr>\n",
       "    <tr>\n",
       "      <th>c</th>\n",
       "      <td>33</td>\n",
       "      <td>62</td>\n",
       "      <td>NaN</td>\n",
       "    </tr>\n",
       "    <tr>\n",
       "      <th>d</th>\n",
       "      <td>43</td>\n",
       "      <td>64</td>\n",
       "      <td>NaN</td>\n",
       "    </tr>\n",
       "    <tr>\n",
       "      <th>e</th>\n",
       "      <td>78</td>\n",
       "      <td>53</td>\n",
       "      <td>NaN</td>\n",
       "    </tr>\n",
       "    <tr>\n",
       "      <th>f</th>\n",
       "      <td>44</td>\n",
       "      <td>66</td>\n",
       "      <td>NaN</td>\n",
       "    </tr>\n",
       "  </tbody>\n",
       "</table>\n",
       "</div>"
      ],
      "text/plain": [
       "   Visitors  Revenue  Debt\n",
       "a        43       64   NaN\n",
       "b        45       73   NaN\n",
       "c        33       62   NaN\n",
       "d        43       64   NaN\n",
       "e        78       53   NaN\n",
       "f        44       66   NaN"
      ]
     },
     "execution_count": 51,
     "metadata": {},
     "output_type": "execute_result"
    }
   ],
   "source": [
    "# Debt이라는 Column은 없었는데 이렇게 써줌으로서 생성할 수 있다.\n",
    "# BUT!!! Nan이 행갯수만큼 생기니 추천하는 방식은 아니다..\n",
    "DataFrame(df2, columns = ['Visitors', 'Revenue','Debt'])"
   ]
  },
  {
   "cell_type": "code",
   "execution_count": 85,
   "metadata": {
    "scrolled": false
   },
   "outputs": [
    {
     "data": {
      "text/html": [
       "<div>\n",
       "<style>\n",
       "    .dataframe thead tr:only-child th {\n",
       "        text-align: right;\n",
       "    }\n",
       "\n",
       "    .dataframe thead th {\n",
       "        text-align: left;\n",
       "    }\n",
       "\n",
       "    .dataframe tbody tr th {\n",
       "        vertical-align: top;\n",
       "    }\n",
       "</style>\n",
       "<table border=\"1\" class=\"dataframe\">\n",
       "  <thead>\n",
       "    <tr style=\"text-align: right;\">\n",
       "      <th></th>\n",
       "      <th>Visitors</th>\n",
       "      <th>Revenue</th>\n",
       "    </tr>\n",
       "  </thead>\n",
       "  <tbody>\n",
       "    <tr>\n",
       "      <th>a</th>\n",
       "      <td>43</td>\n",
       "      <td>64</td>\n",
       "    </tr>\n",
       "    <tr>\n",
       "      <th>b</th>\n",
       "      <td>45</td>\n",
       "      <td>73</td>\n",
       "    </tr>\n",
       "    <tr>\n",
       "      <th>c</th>\n",
       "      <td>33</td>\n",
       "      <td>62</td>\n",
       "    </tr>\n",
       "    <tr>\n",
       "      <th>d</th>\n",
       "      <td>43</td>\n",
       "      <td>64</td>\n",
       "    </tr>\n",
       "    <tr>\n",
       "      <th>e</th>\n",
       "      <td>78</td>\n",
       "      <td>53</td>\n",
       "    </tr>\n",
       "    <tr>\n",
       "      <th>f</th>\n",
       "      <td>44</td>\n",
       "      <td>66</td>\n",
       "    </tr>\n",
       "  </tbody>\n",
       "</table>\n",
       "</div>"
      ],
      "text/plain": [
       "   Visitors  Revenue\n",
       "a        43       64\n",
       "b        45       73\n",
       "c        33       62\n",
       "d        43       64\n",
       "e        78       53\n",
       "f        44       66"
      ]
     },
     "execution_count": 85,
     "metadata": {},
     "output_type": "execute_result"
    }
   ],
   "source": [
    "df3 = DataFrame(df2, columns = ['Visitors', 'Revenue', 'Debt'])\n",
    "del df3['Debt']\n",
    "# del말고 drop함수로도 삭제가능 : 아래 셀 참조할 것.\n",
    "df3"
   ]
  },
  {
   "cell_type": "code",
   "execution_count": 56,
   "metadata": {},
   "outputs": [
    {
     "name": "stdout",
     "output_type": "stream",
     "text": [
      "   Visitors  Revenue  Debt\n",
      "a        43       64   NaN\n",
      "b        45       73   NaN\n",
      "c        33       62   NaN\n",
      "d        43       64   NaN\n",
      "e        78       53   NaN\n",
      "f        44       66   NaN\n"
     ]
    },
    {
     "data": {
      "text/html": [
       "<div>\n",
       "<style>\n",
       "    .dataframe thead tr:only-child th {\n",
       "        text-align: right;\n",
       "    }\n",
       "\n",
       "    .dataframe thead th {\n",
       "        text-align: left;\n",
       "    }\n",
       "\n",
       "    .dataframe tbody tr th {\n",
       "        vertical-align: top;\n",
       "    }\n",
       "</style>\n",
       "<table border=\"1\" class=\"dataframe\">\n",
       "  <thead>\n",
       "    <tr style=\"text-align: right;\">\n",
       "      <th></th>\n",
       "      <th>Visitors</th>\n",
       "      <th>Revenue</th>\n",
       "    </tr>\n",
       "  </thead>\n",
       "  <tbody>\n",
       "    <tr>\n",
       "      <th>a</th>\n",
       "      <td>43</td>\n",
       "      <td>64</td>\n",
       "    </tr>\n",
       "    <tr>\n",
       "      <th>b</th>\n",
       "      <td>45</td>\n",
       "      <td>73</td>\n",
       "    </tr>\n",
       "    <tr>\n",
       "      <th>c</th>\n",
       "      <td>33</td>\n",
       "      <td>62</td>\n",
       "    </tr>\n",
       "    <tr>\n",
       "      <th>d</th>\n",
       "      <td>43</td>\n",
       "      <td>64</td>\n",
       "    </tr>\n",
       "    <tr>\n",
       "      <th>e</th>\n",
       "      <td>78</td>\n",
       "      <td>53</td>\n",
       "    </tr>\n",
       "    <tr>\n",
       "      <th>f</th>\n",
       "      <td>44</td>\n",
       "      <td>66</td>\n",
       "    </tr>\n",
       "  </tbody>\n",
       "</table>\n",
       "</div>"
      ],
      "text/plain": [
       "   Visitors  Revenue\n",
       "a        43       64\n",
       "b        45       73\n",
       "c        33       62\n",
       "d        43       64\n",
       "e        78       53\n",
       "f        44       66"
      ]
     },
     "execution_count": 56,
     "metadata": {},
     "output_type": "execute_result"
    }
   ],
   "source": [
    "df3 = DataFrame(df2, columns = ['Visitors', 'Revenue', 'Debt'])\n",
    "print(df3)\n",
    "df3.drop('Debt', axis=1)"
   ]
  },
  {
   "cell_type": "markdown",
   "metadata": {},
   "source": [
    "### <Font color = white>Row Manipulation\n",
    "***"
   ]
  },
  {
   "cell_type": "code",
   "execution_count": 63,
   "metadata": {
    "scrolled": true
   },
   "outputs": [
    {
     "data": {
      "text/html": [
       "<div>\n",
       "<style>\n",
       "    .dataframe thead tr:only-child th {\n",
       "        text-align: right;\n",
       "    }\n",
       "\n",
       "    .dataframe thead th {\n",
       "        text-align: left;\n",
       "    }\n",
       "\n",
       "    .dataframe tbody tr th {\n",
       "        vertical-align: top;\n",
       "    }\n",
       "</style>\n",
       "<table border=\"1\" class=\"dataframe\">\n",
       "  <thead>\n",
       "    <tr style=\"text-align: right;\">\n",
       "      <th></th>\n",
       "      <th>Visitors</th>\n",
       "      <th>Revenue</th>\n",
       "    </tr>\n",
       "  </thead>\n",
       "  <tbody>\n",
       "    <tr>\n",
       "      <th>a</th>\n",
       "      <td>43</td>\n",
       "      <td>64</td>\n",
       "    </tr>\n",
       "    <tr>\n",
       "      <th>b</th>\n",
       "      <td>45</td>\n",
       "      <td>73</td>\n",
       "    </tr>\n",
       "    <tr>\n",
       "      <th>c</th>\n",
       "      <td>33</td>\n",
       "      <td>62</td>\n",
       "    </tr>\n",
       "    <tr>\n",
       "      <th>d</th>\n",
       "      <td>43</td>\n",
       "      <td>64</td>\n",
       "    </tr>\n",
       "    <tr>\n",
       "      <th>e</th>\n",
       "      <td>78</td>\n",
       "      <td>53</td>\n",
       "    </tr>\n",
       "    <tr>\n",
       "      <th>f</th>\n",
       "      <td>44</td>\n",
       "      <td>66</td>\n",
       "    </tr>\n",
       "    <tr>\n",
       "      <th>h</th>\n",
       "      <td>200</td>\n",
       "      <td>77</td>\n",
       "    </tr>\n",
       "  </tbody>\n",
       "</table>\n",
       "</div>"
      ],
      "text/plain": [
       "   Visitors  Revenue\n",
       "a        43       64\n",
       "b        45       73\n",
       "c        33       62\n",
       "d        43       64\n",
       "e        78       53\n",
       "f        44       66\n",
       "h       200       77"
      ]
     },
     "execution_count": 63,
     "metadata": {},
     "output_type": "execute_result"
    }
   ],
   "source": [
    "df3 = DataFrame(df2, columns = ['Visitors', 'Revenue'])\n",
    "df3\n",
    "df3.loc['h'] = [200, 77]\n",
    "df3"
   ]
  },
  {
   "cell_type": "markdown",
   "metadata": {},
   "source": [
    "### <Font color = white>Rename Row/Column\n",
    "- 기본 코드 형식 : Change_dict = {'old_name1' : 'new_name1', 'old_name2' : 'new_name2'}\n",
    "- column 명 rename : df.rename(columns = Change_dict) <br>※Change_dict라고 선언한 형식한 걸로 바꿔준다는 뜻\n",
    "- row 명 rename : df.rename(index = Change_dict)\n",
    "***"
   ]
  },
  {
   "cell_type": "code",
   "execution_count": 70,
   "metadata": {},
   "outputs": [
    {
     "data": {
      "text/html": [
       "<div>\n",
       "<style>\n",
       "    .dataframe thead tr:only-child th {\n",
       "        text-align: right;\n",
       "    }\n",
       "\n",
       "    .dataframe thead th {\n",
       "        text-align: left;\n",
       "    }\n",
       "\n",
       "    .dataframe tbody tr th {\n",
       "        vertical-align: top;\n",
       "    }\n",
       "</style>\n",
       "<table border=\"1\" class=\"dataframe\">\n",
       "  <thead>\n",
       "    <tr style=\"text-align: right;\">\n",
       "      <th></th>\n",
       "      <th>new_col_1</th>\n",
       "      <th>new_col_2</th>\n",
       "      <th>new_col_3</th>\n",
       "    </tr>\n",
       "  </thead>\n",
       "  <tbody>\n",
       "    <tr>\n",
       "      <th>0</th>\n",
       "      <td>1</td>\n",
       "      <td>2</td>\n",
       "      <td>3</td>\n",
       "    </tr>\n",
       "    <tr>\n",
       "      <th>1</th>\n",
       "      <td>4</td>\n",
       "      <td>5</td>\n",
       "      <td>6</td>\n",
       "    </tr>\n",
       "    <tr>\n",
       "      <th>2</th>\n",
       "      <td>7</td>\n",
       "      <td>8</td>\n",
       "      <td>9</td>\n",
       "    </tr>\n",
       "  </tbody>\n",
       "</table>\n",
       "</div>"
      ],
      "text/plain": [
       "   new_col_1  new_col_2  new_col_3\n",
       "0          1          2          3\n",
       "1          4          5          6\n",
       "2          7          8          9"
      ]
     },
     "execution_count": 70,
     "metadata": {},
     "output_type": "execute_result"
    }
   ],
   "source": [
    "# colname 바꾸기\n",
    "df = pd.DataFrame({'A' : [1,4,7], 'B' : [2,5,8], 'C' : [3,6,9]})\n",
    "df\n",
    "newcols = {'A':'new_col_1', 'B' : 'new_col_2', 'C' : 'new_col_3'}\n",
    "df.rename(columns = newcols)"
   ]
  },
  {
   "cell_type": "code",
   "execution_count": 69,
   "metadata": {
    "scrolled": true
   },
   "outputs": [
    {
     "data": {
      "text/html": [
       "<div>\n",
       "<style>\n",
       "    .dataframe thead tr:only-child th {\n",
       "        text-align: right;\n",
       "    }\n",
       "\n",
       "    .dataframe thead th {\n",
       "        text-align: left;\n",
       "    }\n",
       "\n",
       "    .dataframe tbody tr th {\n",
       "        vertical-align: top;\n",
       "    }\n",
       "</style>\n",
       "<table border=\"1\" class=\"dataframe\">\n",
       "  <thead>\n",
       "    <tr style=\"text-align: right;\">\n",
       "      <th></th>\n",
       "      <th>A</th>\n",
       "      <th>B</th>\n",
       "      <th>C</th>\n",
       "    </tr>\n",
       "  </thead>\n",
       "  <tbody>\n",
       "    <tr>\n",
       "      <th>0</th>\n",
       "      <td>1</td>\n",
       "      <td>2</td>\n",
       "      <td>3</td>\n",
       "    </tr>\n",
       "    <tr>\n",
       "      <th>a</th>\n",
       "      <td>4</td>\n",
       "      <td>5</td>\n",
       "      <td>6</td>\n",
       "    </tr>\n",
       "    <tr>\n",
       "      <th>2</th>\n",
       "      <td>7</td>\n",
       "      <td>8</td>\n",
       "      <td>9</td>\n",
       "    </tr>\n",
       "  </tbody>\n",
       "</table>\n",
       "</div>"
      ],
      "text/plain": [
       "   A  B  C\n",
       "0  1  2  3\n",
       "a  4  5  6\n",
       "2  7  8  9"
      ]
     },
     "execution_count": 69,
     "metadata": {},
     "output_type": "execute_result"
    }
   ],
   "source": [
    "# rowname 바꾸기\n",
    "df = pd.DataFrame({'A' : [1,4,7], 'B' : [2,5,8], 'C' : [3,6,9]})\n",
    "df\n",
    "df.rename(index = {1:'a'})"
   ]
  },
  {
   "cell_type": "code",
   "execution_count": 87,
   "metadata": {},
   "outputs": [
    {
     "data": {
      "text/html": [
       "<div>\n",
       "<style>\n",
       "    .dataframe thead tr:only-child th {\n",
       "        text-align: right;\n",
       "    }\n",
       "\n",
       "    .dataframe thead th {\n",
       "        text-align: left;\n",
       "    }\n",
       "\n",
       "    .dataframe tbody tr th {\n",
       "        vertical-align: top;\n",
       "    }\n",
       "</style>\n",
       "<table border=\"1\" class=\"dataframe\">\n",
       "  <thead>\n",
       "    <tr style=\"text-align: right;\">\n",
       "      <th></th>\n",
       "      <th>A</th>\n",
       "      <th>B</th>\n",
       "      <th>C</th>\n",
       "    </tr>\n",
       "  </thead>\n",
       "  <tbody>\n",
       "    <tr>\n",
       "      <th>new_row_1</th>\n",
       "      <td>1</td>\n",
       "      <td>2</td>\n",
       "      <td>3</td>\n",
       "    </tr>\n",
       "    <tr>\n",
       "      <th>new_row_2</th>\n",
       "      <td>4</td>\n",
       "      <td>5</td>\n",
       "      <td>6</td>\n",
       "    </tr>\n",
       "    <tr>\n",
       "      <th>new_row_3</th>\n",
       "      <td>7</td>\n",
       "      <td>8</td>\n",
       "      <td>9</td>\n",
       "    </tr>\n",
       "  </tbody>\n",
       "</table>\n",
       "</div>"
      ],
      "text/plain": [
       "           A  B  C\n",
       "new_row_1  1  2  3\n",
       "new_row_2  4  5  6\n",
       "new_row_3  7  8  9"
      ]
     },
     "execution_count": 87,
     "metadata": {},
     "output_type": "execute_result"
    }
   ],
   "source": [
    "df = pd.DataFrame({'A' : [1,4,7], 'B' : [2,5,8], 'C' : [3,6,9]})\n",
    "newrows = { 0 :'new_row_1', 1 : 'new_row_2', 2 : 'new_row_3'}\n",
    "df.rename(index = newrows)"
   ]
  },
  {
   "cell_type": "markdown",
   "metadata": {},
   "source": [
    "#### <Font color = white>※Common Statistical Functions\n",
    "***"
   ]
  },
  {
   "cell_type": "code",
   "execution_count": 71,
   "metadata": {},
   "outputs": [
    {
     "data": {
      "text/html": [
       "<div>\n",
       "<style>\n",
       "    .dataframe thead tr:only-child th {\n",
       "        text-align: right;\n",
       "    }\n",
       "\n",
       "    .dataframe thead th {\n",
       "        text-align: left;\n",
       "    }\n",
       "\n",
       "    .dataframe tbody tr th {\n",
       "        vertical-align: top;\n",
       "    }\n",
       "</style>\n",
       "<table border=\"1\" class=\"dataframe\">\n",
       "  <thead>\n",
       "    <tr style=\"text-align: right;\">\n",
       "      <th></th>\n",
       "      <th>Revenue</th>\n",
       "      <th>Visitors</th>\n",
       "    </tr>\n",
       "  </thead>\n",
       "  <tbody>\n",
       "    <tr>\n",
       "      <th>a</th>\n",
       "      <td>64</td>\n",
       "      <td>43</td>\n",
       "    </tr>\n",
       "    <tr>\n",
       "      <th>b</th>\n",
       "      <td>73</td>\n",
       "      <td>45</td>\n",
       "    </tr>\n",
       "    <tr>\n",
       "      <th>c</th>\n",
       "      <td>62</td>\n",
       "      <td>33</td>\n",
       "    </tr>\n",
       "    <tr>\n",
       "      <th>d</th>\n",
       "      <td>64</td>\n",
       "      <td>43</td>\n",
       "    </tr>\n",
       "    <tr>\n",
       "      <th>e</th>\n",
       "      <td>53</td>\n",
       "      <td>78</td>\n",
       "    </tr>\n",
       "    <tr>\n",
       "      <th>f</th>\n",
       "      <td>66</td>\n",
       "      <td>44</td>\n",
       "    </tr>\n",
       "  </tbody>\n",
       "</table>\n",
       "</div>"
      ],
      "text/plain": [
       "   Revenue  Visitors\n",
       "a       64        43\n",
       "b       73        45\n",
       "c       62        33\n",
       "d       64        43\n",
       "e       53        78\n",
       "f       66        44"
      ]
     },
     "execution_count": 71,
     "metadata": {},
     "output_type": "execute_result"
    }
   ],
   "source": [
    "df2"
   ]
  },
  {
   "cell_type": "code",
   "execution_count": 72,
   "metadata": {},
   "outputs": [
    {
     "data": {
      "text/plain": [
       "Revenue     2\n",
       "Visitors    2\n",
       "dtype: int64"
      ]
     },
     "execution_count": 72,
     "metadata": {},
     "output_type": "execute_result"
    }
   ],
   "source": [
    "# count할 때는 Mask를 씌워줘야함.\n",
    "df2[df2['Revenue']>65].count()"
   ]
  },
  {
   "cell_type": "code",
   "execution_count": 73,
   "metadata": {},
   "outputs": [
    {
     "data": {
      "text/plain": [
       "63.666666666666664"
      ]
     },
     "execution_count": 73,
     "metadata": {},
     "output_type": "execute_result"
    }
   ],
   "source": [
    "df2['Revenue'].mean()"
   ]
  },
  {
   "cell_type": "code",
   "execution_count": 88,
   "metadata": {
    "scrolled": true
   },
   "outputs": [
    {
     "data": {
      "text/html": [
       "<div>\n",
       "<style>\n",
       "    .dataframe thead tr:only-child th {\n",
       "        text-align: right;\n",
       "    }\n",
       "\n",
       "    .dataframe thead th {\n",
       "        text-align: left;\n",
       "    }\n",
       "\n",
       "    .dataframe tbody tr th {\n",
       "        vertical-align: top;\n",
       "    }\n",
       "</style>\n",
       "<table border=\"1\" class=\"dataframe\">\n",
       "  <thead>\n",
       "    <tr style=\"text-align: right;\">\n",
       "      <th></th>\n",
       "      <th>Revenue</th>\n",
       "      <th>Visitors</th>\n",
       "    </tr>\n",
       "  </thead>\n",
       "  <tbody>\n",
       "    <tr>\n",
       "      <th>Revenue</th>\n",
       "      <td>41.866667</td>\n",
       "      <td>-67.133333</td>\n",
       "    </tr>\n",
       "    <tr>\n",
       "      <th>Visitors</th>\n",
       "      <td>-67.133333</td>\n",
       "      <td>239.866667</td>\n",
       "    </tr>\n",
       "  </tbody>\n",
       "</table>\n",
       "</div>"
      ],
      "text/plain": [
       "            Revenue    Visitors\n",
       "Revenue   41.866667  -67.133333\n",
       "Visitors -67.133333  239.866667"
      ]
     },
     "execution_count": 88,
     "metadata": {},
     "output_type": "execute_result"
    }
   ],
   "source": [
    "df2.cov()\n",
    "# 여기서 1행1열 및 2행2열 자기자신의 분산을 뜻한다."
   ]
  },
  {
   "cell_type": "code",
   "execution_count": 7,
   "metadata": {},
   "outputs": [
    {
     "name": "stdout",
     "output_type": "stream",
     "text": [
      "0 A    1\n",
      "B    2\n",
      "C    3\n",
      "Name: 0, dtype: int32\n",
      "1 A    4\n",
      "B    5\n",
      "C    6\n",
      "Name: 1, dtype: int32\n",
      "2 A    7\n",
      "B    8\n",
      "C    9\n",
      "Name: 2, dtype: int32\n"
     ]
    }
   ],
   "source": [
    "import pandas as pd\n",
    "import numpy as np\n",
    "df = pd.DataFrame(data=np.array([[1,2,3],[4,5,6],[7,8,9]]), columns = ['A','B','C'])\n",
    "for index, row in df.iterrows():\n",
    "                  print(index, row)"
   ]
  },
  {
   "cell_type": "markdown",
   "metadata": {},
   "source": [
    "### <Font color = red>__Groupby and Aggregation__ : Pandas의 강점 중 하나\n",
    "- 지정할변수 = df.groupby(col명1, col명2) : input으로 column명이 들어와야한다\n",
    "- 지정한변수.mean() , 지정한변수.sum() 가능 : 이때 수치형자료들만 가지고 계산해준다\n",
    "- 지정한변수.get_group('그룹내의 컨텐츠') : 그룹내의 컨텐츠에 해당하는 값들만 따로 볼 수 있다.\n",
    "***"
   ]
  },
  {
   "cell_type": "code",
   "execution_count": 9,
   "metadata": {},
   "outputs": [
    {
     "data": {
      "text/html": [
       "<div>\n",
       "<style>\n",
       "    .dataframe thead tr:only-child th {\n",
       "        text-align: right;\n",
       "    }\n",
       "\n",
       "    .dataframe thead th {\n",
       "        text-align: left;\n",
       "    }\n",
       "\n",
       "    .dataframe tbody tr th {\n",
       "        vertical-align: top;\n",
       "    }\n",
       "</style>\n",
       "<table border=\"1\" class=\"dataframe\">\n",
       "  <thead>\n",
       "    <tr style=\"text-align: right;\">\n",
       "      <th></th>\n",
       "      <th>A</th>\n",
       "      <th>B</th>\n",
       "      <th>C</th>\n",
       "      <th>D</th>\n",
       "    </tr>\n",
       "  </thead>\n",
       "  <tbody>\n",
       "    <tr>\n",
       "      <th>0</th>\n",
       "      <td>foo</td>\n",
       "      <td>one</td>\n",
       "      <td>0.327308</td>\n",
       "      <td>-0.123099</td>\n",
       "    </tr>\n",
       "    <tr>\n",
       "      <th>1</th>\n",
       "      <td>bar</td>\n",
       "      <td>one</td>\n",
       "      <td>-1.571095</td>\n",
       "      <td>1.384021</td>\n",
       "    </tr>\n",
       "    <tr>\n",
       "      <th>2</th>\n",
       "      <td>foo</td>\n",
       "      <td>two</td>\n",
       "      <td>-0.438812</td>\n",
       "      <td>-0.366677</td>\n",
       "    </tr>\n",
       "    <tr>\n",
       "      <th>3</th>\n",
       "      <td>bar</td>\n",
       "      <td>three</td>\n",
       "      <td>2.027967</td>\n",
       "      <td>0.446959</td>\n",
       "    </tr>\n",
       "    <tr>\n",
       "      <th>4</th>\n",
       "      <td>foo</td>\n",
       "      <td>two</td>\n",
       "      <td>-1.663129</td>\n",
       "      <td>0.317726</td>\n",
       "    </tr>\n",
       "    <tr>\n",
       "      <th>5</th>\n",
       "      <td>bar</td>\n",
       "      <td>two</td>\n",
       "      <td>-1.834201</td>\n",
       "      <td>1.176692</td>\n",
       "    </tr>\n",
       "    <tr>\n",
       "      <th>6</th>\n",
       "      <td>foo</td>\n",
       "      <td>one</td>\n",
       "      <td>-0.604886</td>\n",
       "      <td>0.817233</td>\n",
       "    </tr>\n",
       "    <tr>\n",
       "      <th>7</th>\n",
       "      <td>foo</td>\n",
       "      <td>three</td>\n",
       "      <td>1.533295</td>\n",
       "      <td>0.764672</td>\n",
       "    </tr>\n",
       "  </tbody>\n",
       "</table>\n",
       "</div>"
      ],
      "text/plain": [
       "     A      B         C         D\n",
       "0  foo    one  0.327308 -0.123099\n",
       "1  bar    one -1.571095  1.384021\n",
       "2  foo    two -0.438812 -0.366677\n",
       "3  bar  three  2.027967  0.446959\n",
       "4  foo    two -1.663129  0.317726\n",
       "5  bar    two -1.834201  1.176692\n",
       "6  foo    one -0.604886  0.817233\n",
       "7  foo  three  1.533295  0.764672"
      ]
     },
     "execution_count": 9,
     "metadata": {},
     "output_type": "execute_result"
    }
   ],
   "source": [
    "df = pd.DataFrame({'A' : ['foo','bar','foo','bar','foo','bar','foo','foo'],\n",
    "                  'B' : ['one', 'one','two','three','two','two','one','three'],\n",
    "                  'C' : np.random.randn(8),\n",
    "                  'D' : np.random.randn(8)})\n",
    "df"
   ]
  },
  {
   "cell_type": "code",
   "execution_count": 10,
   "metadata": {},
   "outputs": [
    {
     "name": "stdout",
     "output_type": "stream",
     "text": [
      "<pandas.core.groupby.DataFrameGroupBy object at 0x0000020D8323F4A8>\n",
      "     A      B         C         D\n",
      "0  foo    one  0.327308 -0.123099\n",
      "2  foo    two -0.438812 -0.366677\n",
      "4  foo    two -1.663129  0.317726\n",
      "6  foo    one -0.604886  0.817233\n",
      "7  foo  three  1.533295  0.764672\n",
      "\n",
      "     A      B         C         D\n",
      "1  bar    one -1.571095  1.384021\n",
      "3  bar  three  2.027967  0.446959\n",
      "5  bar    two -1.834201  1.176692\n",
      "\n",
      "            C         D\n",
      "A                      \n",
      "bar -0.459110  1.002557\n",
      "foo -0.169245  0.281971\n"
     ]
    }
   ],
   "source": [
    "grouped = df.groupby('A')\n",
    "print(grouped) #이렇게해선 어떻게 groupby됐는지 보기힘들다.\n",
    "print(df[df['A'] == 'foo'])\n",
    "print()\n",
    "print(df[df['A'] == 'bar'])\n",
    "print()\n",
    "print(grouped.mean())"
   ]
  },
  {
   "cell_type": "code",
   "execution_count": 11,
   "metadata": {},
   "outputs": [
    {
     "data": {
      "text/html": [
       "<div>\n",
       "<style>\n",
       "    .dataframe thead tr:only-child th {\n",
       "        text-align: right;\n",
       "    }\n",
       "\n",
       "    .dataframe thead th {\n",
       "        text-align: left;\n",
       "    }\n",
       "\n",
       "    .dataframe tbody tr th {\n",
       "        vertical-align: top;\n",
       "    }\n",
       "</style>\n",
       "<table border=\"1\" class=\"dataframe\">\n",
       "  <thead>\n",
       "    <tr style=\"text-align: right;\">\n",
       "      <th></th>\n",
       "      <th></th>\n",
       "      <th>C</th>\n",
       "      <th>D</th>\n",
       "    </tr>\n",
       "    <tr>\n",
       "      <th>A</th>\n",
       "      <th>B</th>\n",
       "      <th></th>\n",
       "      <th></th>\n",
       "    </tr>\n",
       "  </thead>\n",
       "  <tbody>\n",
       "    <tr>\n",
       "      <th rowspan=\"3\" valign=\"top\">bar</th>\n",
       "      <th>one</th>\n",
       "      <td>-1.571095</td>\n",
       "      <td>1.384021</td>\n",
       "    </tr>\n",
       "    <tr>\n",
       "      <th>three</th>\n",
       "      <td>2.027967</td>\n",
       "      <td>0.446959</td>\n",
       "    </tr>\n",
       "    <tr>\n",
       "      <th>two</th>\n",
       "      <td>-1.834201</td>\n",
       "      <td>1.176692</td>\n",
       "    </tr>\n",
       "    <tr>\n",
       "      <th rowspan=\"3\" valign=\"top\">foo</th>\n",
       "      <th>one</th>\n",
       "      <td>-0.138789</td>\n",
       "      <td>0.347067</td>\n",
       "    </tr>\n",
       "    <tr>\n",
       "      <th>three</th>\n",
       "      <td>1.533295</td>\n",
       "      <td>0.764672</td>\n",
       "    </tr>\n",
       "    <tr>\n",
       "      <th>two</th>\n",
       "      <td>-1.050971</td>\n",
       "      <td>-0.024475</td>\n",
       "    </tr>\n",
       "  </tbody>\n",
       "</table>\n",
       "</div>"
      ],
      "text/plain": [
       "                  C         D\n",
       "A   B                        \n",
       "bar one   -1.571095  1.384021\n",
       "    three  2.027967  0.446959\n",
       "    two   -1.834201  1.176692\n",
       "foo one   -0.138789  0.347067\n",
       "    three  1.533295  0.764672\n",
       "    two   -1.050971 -0.024475"
      ]
     },
     "execution_count": 11,
     "metadata": {},
     "output_type": "execute_result"
    }
   ],
   "source": [
    "# 이렇게 groupby할 것을 2개 써줄 수 있다.\n",
    "grouped2 = df.groupby(['A','B'])\n",
    "grouped2.mean()"
   ]
  },
  {
   "cell_type": "code",
   "execution_count": 12,
   "metadata": {
    "scrolled": true
   },
   "outputs": [
    {
     "data": {
      "text/html": [
       "<div>\n",
       "<style>\n",
       "    .dataframe thead tr:only-child th {\n",
       "        text-align: right;\n",
       "    }\n",
       "\n",
       "    .dataframe thead th {\n",
       "        text-align: left;\n",
       "    }\n",
       "\n",
       "    .dataframe tbody tr th {\n",
       "        vertical-align: top;\n",
       "    }\n",
       "</style>\n",
       "<table border=\"1\" class=\"dataframe\">\n",
       "  <thead>\n",
       "    <tr style=\"text-align: right;\">\n",
       "      <th></th>\n",
       "      <th>A</th>\n",
       "      <th>B</th>\n",
       "      <th>C</th>\n",
       "      <th>D</th>\n",
       "    </tr>\n",
       "  </thead>\n",
       "  <tbody>\n",
       "    <tr>\n",
       "      <th>1</th>\n",
       "      <td>bar</td>\n",
       "      <td>one</td>\n",
       "      <td>-1.571095</td>\n",
       "      <td>1.384021</td>\n",
       "    </tr>\n",
       "    <tr>\n",
       "      <th>3</th>\n",
       "      <td>bar</td>\n",
       "      <td>three</td>\n",
       "      <td>2.027967</td>\n",
       "      <td>0.446959</td>\n",
       "    </tr>\n",
       "    <tr>\n",
       "      <th>5</th>\n",
       "      <td>bar</td>\n",
       "      <td>two</td>\n",
       "      <td>-1.834201</td>\n",
       "      <td>1.176692</td>\n",
       "    </tr>\n",
       "  </tbody>\n",
       "</table>\n",
       "</div>"
      ],
      "text/plain": [
       "     A      B         C         D\n",
       "1  bar    one -1.571095  1.384021\n",
       "3  bar  three  2.027967  0.446959\n",
       "5  bar    two -1.834201  1.176692"
      ]
     },
     "execution_count": 12,
     "metadata": {},
     "output_type": "execute_result"
    }
   ],
   "source": [
    "grouped.get_group('bar')\n",
    "# groupby한 A의 컨텐츠인 bar에 해당하는 값들을 볼 수 있음(get_group())"
   ]
  },
  {
   "cell_type": "markdown",
   "metadata": {},
   "source": [
    "### <Font color = white>Mergin(joining) DataFrames\n",
    "- 형식 : pd.merge(left, right, how = , left/right_index = True, left/right_on = col명, on ='key')\n",
    "- 예 : df5 = pd.merge(df3, df4, how ='inner' or 'left', left_index = True, right_index=True, right_on = 'col명', left_on='col'명\n",
    "- df3.head() : df3의 앞부분을 볼 수 있다.\n",
    "***"
   ]
  },
  {
   "cell_type": "markdown",
   "metadata": {},
   "source": [
    "#### <Font color = white>Time Series Data\n",
    "***"
   ]
  },
  {
   "cell_type": "code",
   "execution_count": 103,
   "metadata": {},
   "outputs": [
    {
     "data": {
      "text/plain": [
       "0    Jul 31, 2009\n",
       "1      2010-01-10\n",
       "2            None\n",
       "dtype: object"
      ]
     },
     "execution_count": 103,
     "metadata": {},
     "output_type": "execute_result"
    }
   ],
   "source": [
    "import pandas as pd\n",
    "pd.Series(['Jul 31, 2009', '2010-01-10',None])"
   ]
  },
  {
   "cell_type": "code",
   "execution_count": 105,
   "metadata": {},
   "outputs": [
    {
     "data": {
      "text/plain": [
       "0   2009-07-31\n",
       "1   2010-01-10\n",
       "2          NaT\n",
       "dtype: datetime64[ns]"
      ]
     },
     "execution_count": 105,
     "metadata": {},
     "output_type": "execute_result"
    }
   ],
   "source": [
    "pd.to_datetime(pd.Series(['Jul 31, 2009', '2010-01-10',None]))"
   ]
  },
  {
   "cell_type": "code",
   "execution_count": 106,
   "metadata": {},
   "outputs": [
    {
     "data": {
      "text/plain": [
       "DatetimeIndex(['2005-11-23', '2010-12-31'], dtype='datetime64[ns]', freq=None)"
      ]
     },
     "execution_count": 106,
     "metadata": {},
     "output_type": "execute_result"
    }
   ],
   "source": [
    "#list를 입력할경우 DatetimeIndex가 생성된다\n",
    "pd.to_datetime(['2005/11/23','2010.12.31'])"
   ]
  },
  {
   "cell_type": "code",
   "execution_count": 108,
   "metadata": {},
   "outputs": [
    {
     "name": "stdout",
     "output_type": "stream",
     "text": [
      "DatetimeIndex(['2011-01-01 00:00:00', '2011-01-01 01:00:00',\n",
      "               '2011-01-01 02:00:00', '2011-01-01 03:00:00',\n",
      "               '2011-01-01 04:00:00', '2011-01-01 05:00:00',\n",
      "               '2011-01-01 06:00:00', '2011-01-01 07:00:00',\n",
      "               '2011-01-01 08:00:00', '2011-01-01 09:00:00',\n",
      "               '2011-01-01 10:00:00', '2011-01-01 11:00:00',\n",
      "               '2011-01-01 12:00:00', '2011-01-01 13:00:00',\n",
      "               '2011-01-01 14:00:00', '2011-01-01 15:00:00',\n",
      "               '2011-01-01 16:00:00', '2011-01-01 17:00:00',\n",
      "               '2011-01-01 18:00:00', '2011-01-01 19:00:00',\n",
      "               '2011-01-01 20:00:00', '2011-01-01 21:00:00',\n",
      "               '2011-01-01 22:00:00', '2011-01-01 23:00:00',\n",
      "               '2011-01-02 00:00:00', '2011-01-02 01:00:00',\n",
      "               '2011-01-02 02:00:00', '2011-01-02 03:00:00',\n",
      "               '2011-01-02 04:00:00', '2011-01-02 05:00:00',\n",
      "               '2011-01-02 06:00:00', '2011-01-02 07:00:00',\n",
      "               '2011-01-02 08:00:00', '2011-01-02 09:00:00',\n",
      "               '2011-01-02 10:00:00', '2011-01-02 11:00:00',\n",
      "               '2011-01-02 12:00:00', '2011-01-02 13:00:00',\n",
      "               '2011-01-02 14:00:00', '2011-01-02 15:00:00',\n",
      "               '2011-01-02 16:00:00', '2011-01-02 17:00:00',\n",
      "               '2011-01-02 18:00:00', '2011-01-02 19:00:00',\n",
      "               '2011-01-02 20:00:00', '2011-01-02 21:00:00',\n",
      "               '2011-01-02 22:00:00', '2011-01-02 23:00:00',\n",
      "               '2011-01-03 00:00:00', '2011-01-03 01:00:00',\n",
      "               '2011-01-03 02:00:00', '2011-01-03 03:00:00',\n",
      "               '2011-01-03 04:00:00', '2011-01-03 05:00:00',\n",
      "               '2011-01-03 06:00:00', '2011-01-03 07:00:00',\n",
      "               '2011-01-03 08:00:00', '2011-01-03 09:00:00',\n",
      "               '2011-01-03 10:00:00', '2011-01-03 11:00:00',\n",
      "               '2011-01-03 12:00:00', '2011-01-03 13:00:00',\n",
      "               '2011-01-03 14:00:00', '2011-01-03 15:00:00',\n",
      "               '2011-01-03 16:00:00', '2011-01-03 17:00:00',\n",
      "               '2011-01-03 18:00:00', '2011-01-03 19:00:00',\n",
      "               '2011-01-03 20:00:00', '2011-01-03 21:00:00',\n",
      "               '2011-01-03 22:00:00', '2011-01-03 23:00:00'],\n",
      "              dtype='datetime64[ns]', freq='H')\n",
      "\n"
     ]
    },
    {
     "data": {
      "text/plain": [
       "DatetimeIndex(['2011-01-01 00:00:00', '2011-01-01 01:00:00',\n",
       "               '2011-01-01 02:00:00', '2011-01-01 03:00:00',\n",
       "               '2011-01-01 04:00:00'],\n",
       "              dtype='datetime64[ns]', freq='H')"
      ]
     },
     "execution_count": 108,
     "metadata": {},
     "output_type": "execute_result"
    }
   ],
   "source": [
    "import pandas as pd\n",
    "\n",
    "rng = pd.date_range('1/1/2011', periods = 72, freq = 'H')\n",
    "print(rng)\n",
    "print()\n",
    "rng[:5]"
   ]
  },
  {
   "cell_type": "code",
   "execution_count": 110,
   "metadata": {},
   "outputs": [
    {
     "data": {
      "text/plain": [
       "2011-01-01 00:00:00    0.746033\n",
       "2011-01-01 01:00:00   -0.348095\n",
       "2011-01-01 02:00:00   -0.897945\n",
       "2011-01-01 03:00:00   -0.521610\n",
       "2011-01-01 04:00:00   -0.156220\n",
       "Freq: H, dtype: float64"
      ]
     },
     "execution_count": 110,
     "metadata": {},
     "output_type": "execute_result"
    }
   ],
   "source": [
    "import pandas as pd\n",
    "ts = pd.Series(np.random.randn(len(rng)),index=rng)\n",
    "ts.head()"
   ]
  },
  {
   "cell_type": "code",
   "execution_count": 112,
   "metadata": {},
   "outputs": [
    {
     "data": {
      "text/plain": [
       "2011-01-02 00:00:00    0.918271\n",
       "2011-01-02 01:00:00   -2.136851\n",
       "2011-01-02 02:00:00    1.249372\n",
       "2011-01-02 03:00:00    0.163342\n",
       "2011-01-02 04:00:00    0.544781\n",
       "2011-01-02 05:00:00    0.003264\n",
       "2011-01-02 06:00:00   -2.273816\n",
       "2011-01-02 07:00:00   -0.550806\n",
       "2011-01-02 08:00:00    1.215268\n",
       "2011-01-02 09:00:00    0.314831\n",
       "2011-01-02 10:00:00   -0.714579\n",
       "2011-01-02 11:00:00   -0.860815\n",
       "2011-01-02 12:00:00   -0.252944\n",
       "2011-01-02 13:00:00   -1.686924\n",
       "2011-01-02 14:00:00    0.372907\n",
       "2011-01-02 15:00:00   -0.698992\n",
       "2011-01-02 16:00:00   -0.712861\n",
       "2011-01-02 17:00:00    0.678361\n",
       "2011-01-02 18:00:00    0.134395\n",
       "2011-01-02 19:00:00   -0.428092\n",
       "2011-01-02 20:00:00   -0.602283\n",
       "2011-01-02 21:00:00   -0.935038\n",
       "2011-01-02 22:00:00    0.814636\n",
       "2011-01-02 23:00:00    1.334731\n",
       "2011-01-03 00:00:00    0.464847\n",
       "Freq: H, dtype: float64"
      ]
     },
     "execution_count": 112,
     "metadata": {},
     "output_type": "execute_result"
    }
   ],
   "source": [
    "#truncate : 아래나 위를 잘라서 길이를 줄이다.\n",
    "ts.truncate(before = '01/02/2011', after ='01/03/2011')\n",
    "# ts에서 before부터 after까지 있는 시간들을 지우는것"
   ]
  },
  {
   "cell_type": "code",
   "execution_count": null,
   "metadata": {
    "collapsed": true
   },
   "outputs": [],
   "source": []
  }
 ],
 "metadata": {
  "kernelspec": {
   "display_name": "Python 3",
   "language": "python",
   "name": "python3"
  },
  "language_info": {
   "codemirror_mode": {
    "name": "ipython",
    "version": 3
   },
   "file_extension": ".py",
   "mimetype": "text/x-python",
   "name": "python",
   "nbconvert_exporter": "python",
   "pygments_lexer": "ipython3",
   "version": "3.6.1"
  }
 },
 "nbformat": 4,
 "nbformat_minor": 2
}
