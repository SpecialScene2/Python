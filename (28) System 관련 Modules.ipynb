{
 "cells": [
  {
   "cell_type": "markdown",
   "metadata": {},
   "source": [
    "## (28) System 관련 Modules"
   ]
  },
  {
   "cell_type": "markdown",
   "metadata": {},
   "source": [
    "### 1. OS module\n",
    "- 환경변수, directory, file등 OS자원을 제어할 수 있는 모듈\n",
    "- Path를 새로 Build 하는데 사용할 수 있음 : path 설정을 해주면 상세경로를 다 입력 안해줘도 됨"
   ]
  },
  {
   "cell_type": "code",
   "execution_count": 1,
   "metadata": {},
   "outputs": [
    {
     "data": {
      "text/plain": [
       "'nt'"
      ]
     },
     "execution_count": 1,
     "metadata": {},
     "output_type": "execute_result"
    }
   ],
   "source": [
    "import os\n",
    "os.name\n",
    "# os.name했을때 윈도우는 nt로 나옴."
   ]
  },
  {
   "cell_type": "markdown",
   "metadata": {},
   "source": [
    "os.environ<br>\n",
    "<br>"
   ]
  },
  {
   "cell_type": "code",
   "execution_count": 3,
   "metadata": {},
   "outputs": [
    {
     "data": {
      "text/plain": [
       "'C:\\\\Users\\\\Genius Scene\\\\Anaconda3\\\\Library\\\\bin;C:\\\\Users\\\\Genius Scene\\\\Anaconda3\\\\Library\\\\bin;C:\\\\Users\\\\Genius Scene\\\\Anaconda3\\\\Scripts;C:\\\\Users\\\\Genius Scene\\\\Anaconda3\\\\Library\\\\bin;C:\\\\Users\\\\Genius Scene\\\\Anaconda3;C:\\\\Users\\\\Genius Scene\\\\Anaconda3\\\\Library\\\\mingw-w64\\\\bin;C:\\\\Users\\\\Genius Scene\\\\Anaconda3\\\\Library\\\\usr\\\\bin;C:\\\\Users\\\\Genius Scene\\\\Anaconda3\\\\Library\\\\bin;C:\\\\Users\\\\Genius Scene\\\\Anaconda3\\\\Scripts;C:\\\\Program Files (x86)\\\\Intel\\\\iCLS Client\\\\;C:\\\\Program Files\\\\Intel\\\\iCLS Client\\\\;C:\\\\WINDOWS\\\\system32;C:\\\\WINDOWS;C:\\\\WINDOWS\\\\System32\\\\Wbem;C:\\\\WINDOWS\\\\System32\\\\WindowsPowerShell\\\\v1.0\\\\;C:\\\\Program Files (x86)\\\\Intel\\\\Intel(R) Management Engine Components\\\\DAL;C:\\\\Program Files\\\\Intel\\\\Intel(R) Management Engine Components\\\\DAL;C:\\\\Program Files (x86)\\\\Intel\\\\Intel(R) Management Engine Components\\\\IPT;C:\\\\Program Files\\\\Intel\\\\Intel(R) Management Engine Components\\\\IPT;C:\\\\Program Files\\\\Intel\\\\WiFi\\\\bin\\\\;C:\\\\Program Files\\\\Common Files\\\\Intel\\\\WirelessCommon\\\\;C:\\\\Program Files\\\\Git\\\\cmd;C:\\\\Program Files\\\\MiKTeX 2.9\\\\miktex\\\\bin\\\\x64\\\\;C:\\\\Users\\\\Genius Scene\\\\Anaconda3;C:\\\\Users\\\\Genius Scene\\\\Anaconda3\\\\Library\\\\mingw-w64\\\\bin;C:\\\\Users\\\\Genius Scene\\\\Anaconda3\\\\Library\\\\usr\\\\bin;C:\\\\Users\\\\Genius Scene\\\\Anaconda3\\\\Library\\\\bin;C:\\\\Users\\\\Genius Scene\\\\Anaconda3\\\\Scripts;C:\\\\Program Files\\\\Intel\\\\WiFi\\\\bin\\\\;C:\\\\Program Files\\\\Common Files\\\\Intel\\\\WirelessCommon\\\\;C:\\\\Users\\\\Genius Scene\\\\AppData\\\\Local\\\\Microsoft\\\\WindowsApps;C:\\\\Users\\\\Genius Scene\\\\AppData\\\\Local\\\\atom\\\\bin;C:\\\\ProgramData\\\\Microsoft\\\\Windows\\\\Start Menu\\\\Programs\\\\Anaconda3 (64-bit);C:\\\\Program Files (x86)\\\\Graphviz\\\\bin;C:\\\\Program Files (x86)\\\\Graphviz;C:\\\\Users\\\\Genius Scene\\\\AppData\\\\Local\\\\Pandoc\\\\'"
      ]
     },
     "execution_count": 3,
     "metadata": {},
     "output_type": "execute_result"
    }
   ],
   "source": [
    "import os\n",
    "os.environ # 환경변수들을 return해줌\n",
    "os.environ['PATH'] # PATH 설정 되어있는 것을 return해줌(딕션어리 포멧으로)\n",
    "\n",
    "# 특정 SW의 실행이 가능한지를 알아보려면 OS environ이 필요"
   ]
  },
  {
   "cell_type": "markdown",
   "metadata": {},
   "source": [
    "__os.getcwd(), os.chdir(), os.listdir(path)__<br>\n",
    "<br>"
   ]
  },
  {
   "cell_type": "code",
   "execution_count": 2,
   "metadata": {},
   "outputs": [
    {
     "data": {
      "text/plain": [
       "'F:\\\\workspace(jupyter)\\\\Python Study'"
      ]
     },
     "execution_count": 2,
     "metadata": {},
     "output_type": "execute_result"
    }
   ],
   "source": [
    "import os\n",
    "os.getcwd()"
   ]
  },
  {
   "cell_type": "code",
   "execution_count": null,
   "metadata": {
    "collapsed": true
   },
   "outputs": [],
   "source": [
    "import os\n",
    "os.getcwd()\n",
    "#os.chdir('XML') # 폴더가 만들어져 있지 않으면 에러 발생!!!\n",
    "os.getcwd()"
   ]
  },
  {
   "cell_type": "code",
   "execution_count": null,
   "metadata": {
    "collapsed": true
   },
   "outputs": [],
   "source": [
    "# os.listdir('path') : 입력한 path에 어떠한 폴더 및 파일이 있는지 list형식으로 return해줌\n",
    "# '.'을 input으로 넣어주면 현재 디렉토리, '..'은 하나 위 상위 디렉토리에 어떤 폴더 및 파일이 있는지 return해줌\n",
    "os.listdir('F:\\\\workspace(jupyter)\\\\Python Study\\\\2학기 중간고사')\n",
    "os.listdir('.')\n",
    "os.listdir('..') #상위폴더에 "
   ]
  },
  {
   "cell_type": "markdown",
   "metadata": {},
   "source": [
    "__ - os.system() : 시스템 자체의 프로그램이나 명령어를 파이썬에서 호출해줄때 사용하는 함수__<br>\n",
    "__ - os.popen() : 시스템 명령어를 실행시킨 결과값을 읽기 모드 형태의 파일 객체로 리턴한다__"
   ]
  },
  {
   "cell_type": "code",
   "execution_count": 4,
   "metadata": {},
   "outputs": [
    {
     "data": {
      "text/plain": [
       "1"
      ]
     },
     "execution_count": 4,
     "metadata": {},
     "output_type": "execute_result"
    }
   ],
   "source": [
    "# os.system() : OS system call하기\n",
    "# os.system('dir')\n",
    "os.system('time out 5')"
   ]
  },
  {
   "cell_type": "code",
   "execution_count": 5,
   "metadata": {},
   "outputs": [
    {
     "name": "stdout",
     "output_type": "stream",
     "text": [
      " F 드라이브의 볼륨에는 이름이 없습니다.\n",
      " 볼륨 일련 번호: 3233-3432\n",
      "\n",
      " F:\\workspace(jupyter)\\Python Study 디렉터리\n",
      "\n",
      "2017-08-17  오전 11:50    <DIR>          .\n",
      "2017-08-17  오전 11:50    <DIR>          ..\n",
      "2017-08-15  오후 10:05    <DIR>          .ipynb_checkpoints\n",
      "2017-09-13  오전 10:44            22,688 (28) System 관련 Modules.ipynb\n",
      "2017-09-10  오후 11:52                40 test.txt\n",
      "2017-09-12  오전 08:57            60,497 (30-B) Pandas.ipynb\n",
      "2017-08-17  오전 11:58    <DIR>          team_hw1(~0823)\n",
      "2017-09-12  오전 08:59    <DIR>          hw10(Numpy&Pandas)\n",
      "2017-09-13  오전 10:35            31,618 (22) Data Structure Modules.ipynb\n",
      "2017-09-04  오후 08:42            12,197 Untitled.ipynb\n",
      "2017-09-04  오후 08:41             9,611 Untitled1.ipynb\n",
      "2017-09-06  오후 04:22            23,938 Untitled2.ipynb\n",
      "2017-09-10  오전 12:31    <DIR>          2학기 중간고사\n",
      "2017-09-11  오후 04:04            24,416 (30-A) Numpy Modules.ipynb\n",
      "               8개 파일             185,005 바이트\n",
      "               6개 디렉터리  122,844,741,632 바이트 남음\n",
      "\n"
     ]
    }
   ],
   "source": [
    "# os.popen()\n",
    "f = os.popen('dir')\n",
    "print(f.read())"
   ]
  },
  {
   "cell_type": "markdown",
   "metadata": {},
   "source": [
    "__ - OS.PATH Submodule_Functions_1__<br>\n",
    "- os.path.isfile(x) : x가 파일 경로면 TRUE 아니면 (디렉토리인 경우)FALSE return 함.\n",
    "- os.path.isdir(x) : x가 디렉토리 이면 TRUE 아니면 (파일인 경우) FALSE return 함.\n"
   ]
  },
  {
   "cell_type": "code",
   "execution_count": null,
   "metadata": {
    "collapsed": true
   },
   "outputs": [],
   "source": [
    "print(os.path.isdir('F:\\\\workspace(jupyter)\\\\Python Study\\\\2학기 중간고사'))\n",
    "print(os.path.isfile('F:\\\\workspace(jupyter)\\\\Python Study\\\\2학기 중간고사\\\\(21) Data_Structure.ipynb'))"
   ]
  },
  {
   "cell_type": "markdown",
   "metadata": {},
   "source": [
    "__ - OS.PATH Submodule_Functions_2__<br>\n",
    "- os.path.exists(x) : x가 path에 추가되어있으면 True 없으면 False return 함.\n",
    "- os.path.split(x) : x에 file part와 경로 part를 나누어서 return 함.\n",
    "- os.path.join(x, a) : x(경로), a(파일)을 합쳐서 보여줌"
   ]
  },
  {
   "cell_type": "code",
   "execution_count": null,
   "metadata": {
    "collapsed": true
   },
   "outputs": [],
   "source": [
    "print(os.path.exists('C:\\\\Program Files (x86)\\\\Graphviz'))\n",
    "print(os.path.split('F:\\\\workspace(jupyter)\\\\Python Study\\\\2학기 중간고사\\\\(21) Data_Structure.ipynb'))\n",
    "print(os.path.join('F:\\\\workspace(jupyter)\\\\Python Study\\\\2학기 중간고사', '(21) Data_Structure.ipynb'))"
   ]
  },
  {
   "cell_type": "markdown",
   "metadata": {},
   "source": [
    "__ - Example Using OS.Path Submodule__<br>\n",
    "<br>"
   ]
  },
  {
   "cell_type": "code",
   "execution_count": 6,
   "metadata": {},
   "outputs": [
    {
     "name": "stdout",
     "output_type": "stream",
     "text": [
      "time_form :  time.struct_time(tm_year=2017, tm_mon=9, tm_mday=13, tm_hour=10, tm_min=52, tm_sec=21, tm_wday=2, tm_yday=256, tm_isdst=0)\n",
      "file name :  9_13_17.txt\n",
      "OK, done!\n"
     ]
    }
   ],
   "source": [
    "# Create a 'Month_Day_Year.txt'file\n",
    "# Within file, 30 blank lines\n",
    "\n",
    "import time as t\n",
    "from os import path\n",
    "\n",
    "def createFile(dest):\n",
    "    time_form = t.localtime(t.time())\n",
    "    print('time_form : ', time_form)\n",
    "    \n",
    "    filename = '%d_%d_%d.txt' % (time_form[1], time_form[2], (time_form[0]%100)) \n",
    "    # (time_form[0]%100)은 2017에서 17만 뽑아내려고 쓴 식임\n",
    "    print('file name : ', filename)\n",
    "    \n",
    "    if not(path.isfile(dest + filename)) :\n",
    "        f = open(dest + filename, 'w')\n",
    "        f.write('\\n' * 30)\n",
    "        f.close()\n",
    "\n",
    "if __name__ == '__main__':\n",
    "    destination = 'F:\\\\workspace(jupyter)\\\\Python Study\\\\2학기 중간고사\\\\'\n",
    "    createFile(destination)\n",
    "    print('OK, done!')"
   ]
  },
  {
   "cell_type": "markdown",
   "metadata": {},
   "source": [
    "### 2. sys Module\n",
    "- sys는 Python Interpreter를 뜻함.\n",
    "- Python Interpreter가 제공하는 변수 & 함수들을 제어 하는 Module"
   ]
  },
  {
   "cell_type": "markdown",
   "metadata": {},
   "source": [
    "__ - sys.exit(), sys.path는 control+Z 나 control+D를 눌러서 Python interpreter를 종료하는것과 같다.__<br>\n",
    "- sys.exit()는 control+Z 나 control+D를 눌러서 Python interpreter를 종료하는것과 같다\n",
    "- sys.path는 Python module이 저장되어 있는 위치를 path로 보여준다.(python에 등록된 path들을 다 보여주는 것 같다\n",
    "- sys.path.append : Python Interpreter에 경로를 추가하여 그 경로에 있는 py file들을 import할 수 있다."
   ]
  },
  {
   "cell_type": "code",
   "execution_count": null,
   "metadata": {
    "collapsed": true
   },
   "outputs": [],
   "source": [
    "import sys\n",
    "sys.path"
   ]
  },
  {
   "cell_type": "code",
   "execution_count": null,
   "metadata": {
    "collapsed": true
   },
   "outputs": [],
   "source": [
    "import sys\n",
    "#sys.path.append('F:\\\\workspace(pycharm)') : append하는건 append한 그 순간에만 유효하고 껏다 키면 추가했던 건 사라짐\n",
    "sys.path"
   ]
  },
  {
   "cell_type": "markdown",
   "metadata": {},
   "source": [
    "__ sys.argv : 스크린샷 참고할 것(cmd에서 실행해야함__<br>\n",
    "<br>"
   ]
  },
  {
   "cell_type": "markdown",
   "metadata": {},
   "source": [
    "### 3. Glob Module\n",
    "- glob : 긁어온다\n",
    "- glob Module을 이용해서 폴더 내에 있는 모든 파일들을 찾아 파일명을 나열할 수 있다.\n",
    "- glob.glob('경로')과 glob.iglob('경로') (※iglob은 iterable하게 결과값을 return해준다. next()를 쓸 수 있음)"
   ]
  },
  {
   "cell_type": "markdown",
   "metadata": {},
   "source": [
    "#### (중요!!) * , ? 등의 메타 문자 사용\n",
    "- q* : q뒤에 0개 이상의 character가 있는 string\n",
    "- q? : q +1개의 character가 있는 string"
   ]
  },
  {
   "cell_type": "code",
   "execution_count": null,
   "metadata": {
    "collapsed": true
   },
   "outputs": [],
   "source": [
    "import glob\n",
    "glob.glob('F:\\\\workspace(jupyter)\\\\t*')"
   ]
  },
  {
   "cell_type": "code",
   "execution_count": null,
   "metadata": {
    "collapsed": true
   },
   "outputs": [],
   "source": [
    "import glob\n",
    "pyFiles = glob.iglob('F:\\\\workspace(jupyter)\\\\*.py')\n",
    "for pyFile in pyFiles:\n",
    "    print(type(pyFile))\n",
    "    print(pyFile)"
   ]
  },
  {
   "cell_type": "markdown",
   "metadata": {},
   "source": [
    "### 4. threading(=process) Module\n",
    "- 컴퓨터에서 동작하는 program을 Process라고 함.\n",
    "- 보통 1개의 Process는 1가지 일을 하지만, Thread를 이용하면 1 process에서 여러가지 작업들의 병렬수행이 가능.\n",
    "- thread는 독자적으로 돈다, thread를 일단 만들어 놓으면 남이라고 생각!!"
   ]
  },
  {
   "cell_type": "code",
   "execution_count": null,
   "metadata": {
    "collapsed": true
   },
   "outputs": [],
   "source": [
    "import threading\n",
    "x = 0\n",
    "def inc():\n",
    "    global x\n",
    "    for i in range(1000000):\n",
    "        x = x + 1\n",
    "        \n",
    "def dec():\n",
    "    global x\n",
    "    for i in range(1000000):\n",
    "        x = x - 1\n",
    "\n",
    "t1 = threading.Thread(target = inc)\n",
    "t2 = threading.Thread(target = dec)\n",
    "t1.start() # .start() : do other work, Thread가 실행되는거\n",
    "t2.start()\n",
    "# t1과 t2가 따로따로 시작했기 때문에 매번 print(x)하면 다른 숫자가 나온다(독립적으로 움직인다는 뜻이다.)\n",
    "# 독립적이지 않고 같이 움직인다면 +1 -1이 만나서 항상 0이 나와야한다.\n",
    "t1.join() # .join() : waits for thread to exit\n",
    "t2.join()\n",
    "# 질문! join() 종료시 까지 대기인데 x가 엎치락 뒤치락 계속 바뀌니깐 종료하지못하고 계속 도는 건가?\n",
    "print(x)"
   ]
  },
  {
   "cell_type": "markdown",
   "metadata": {},
   "source": [
    "__ threading Module_functions_1 __<br>\n",
    " - Thread.start() : Start the thread's activity.<br>예) a = threading.Thread(target= , args= )입력해서 a라고 Thred선언해주고 a.start()해서 thread를 실행한다\n",
    " - threading.active_count : 현재 몇개의 thread가 돌고있는지 count해준다"
   ]
  },
  {
   "cell_type": "code",
   "execution_count": null,
   "metadata": {
    "collapsed": true
   },
   "outputs": [],
   "source": [
    "import threading\n",
    "\n",
    "# num이 thread 번호라고 생각하면 됨.\n",
    "def worker(num):\n",
    "    print('Worker: %s\\n' % num)\n",
    "    return\n",
    "\n",
    "threads = []\n",
    "for i in range(3):\n",
    "    t = threading.Thread(target=worker, args=(i,))\n",
    "    threads.append(t)\n",
    "    t.start()\n",
    "    "
   ]
  },
  {
   "cell_type": "code",
   "execution_count": null,
   "metadata": {
    "collapsed": true
   },
   "outputs": [],
   "source": [
    "# normal condition일때 : <_MainThread(MainThread, started 11864)> 이게 return됨\n",
    "# main_thread() : 지금 돌고있는 main_thread가 먼지 return해줌\n",
    "import threading\n",
    "threading.main_thread()"
   ]
  },
  {
   "cell_type": "code",
   "execution_count": 26,
   "metadata": {},
   "outputs": [
    {
     "name": "stdout",
     "output_type": "stream",
     "text": [
      "Worker: 0\n",
      "\n",
      "Worker: 1\n",
      "\n",
      "Worker: 2\n",
      "\n",
      "Now Thread is :  6\n"
     ]
    }
   ],
   "source": [
    "import threading\n",
    "\n",
    "# num이 thread 번호라고 생각하면 됨.\n",
    "def worker(num):\n",
    "    print('Worker: %s\\n' % num)\n",
    "    return\n",
    "\n",
    "threads = []\n",
    "for i in range(3):\n",
    "    t = threading.Thread(target=worker, args=(i,))\n",
    "    threads.append(t)\n",
    "    t.start()\n",
    "    \n",
    "print('Now Thread is : ',threading.active_count())\n",
    "\n",
    "#나중에 위에셀하고 이것만 실행해보자"
   ]
  },
  {
   "cell_type": "markdown",
   "metadata": {},
   "source": [
    "__ threading Module_functions_2 __<br>\n",
    " - threading.enumerate() : 현재 돌고있는 모든 Thread object들을 return해줌 \n",
    " - threading.current_thread() : 현재 돌고있는 Thread object를 return해줌 (여기선 for문을 통해서 매칭시켜줌)"
   ]
  },
  {
   "cell_type": "code",
   "execution_count": 19,
   "metadata": {},
   "outputs": [
    {
     "name": "stdout",
     "output_type": "stream",
     "text": [
      "[<_MainThread(MainThread, started 872)>, <Thread(Thread-4, started daemon 13192)>, <Heartbeat(Thread-5, started daemon 10764)>, <HistorySavingThread(IPythonHistorySavingThread, started 640)>, <ParentPollerWindows(Thread-3, started daemon 4572)>, <Thread(Thread-44, started 14800)>]Worker: 0\n",
      "Worker: 1\n",
      "Worker: 2\n",
      "\n",
      "\n",
      "\n",
      "\n"
     ]
    }
   ],
   "source": [
    "import threading\n",
    "\n",
    "def worker(num):\n",
    "    print('Worker: %s\\n' % num)\n",
    "    return\n",
    "\n",
    "threads = []\n",
    "for i in range(3):\n",
    "    t = threading.Thread(target=worker, args=(i,))\n",
    "    threads.append(t)\n",
    "    t.start()\n",
    "\n",
    "print(threading.enumerate())"
   ]
  },
  {
   "cell_type": "code",
   "execution_count": 40,
   "metadata": {},
   "outputs": [
    {
     "name": "stdout",
     "output_type": "stream",
     "text": [
      "Worker: <Thread(Thread-105, started 12628)>\n",
      "\n",
      "Worker: <Thread(Thread-106, started 13080)>\n",
      "\n",
      "Worker: <Thread(Thread-107, started 12904)>\n",
      "\n"
     ]
    }
   ],
   "source": [
    "import threading\n",
    "\n",
    "def worker(num):\n",
    "    print('Worker: %s\\n' % threading.current_thread()) \n",
    "    # threading.current_thread()를 여기에 써줘서 worker()를 돌리고있는 thread가 먼지 print하면 볼 수 있음\n",
    "    # 이거 실행하면서 시작된 Thread이니 위의 셀과 일치할 수 없음 위의셀은 위의 셀에서 돌렸을때 쓴 Thread를 보여줌.\n",
    "    return\n",
    "\n",
    "threads = []\n",
    "for i in range(3):\n",
    "    t = threading.Thread(target=worker, args=(i,))\n",
    "    threads.append(t)\n",
    "    t.start()\n"
   ]
  },
  {
   "cell_type": "markdown",
   "metadata": {},
   "source": [
    "__ threading Module_functions_3 __<br>\n",
    " - threading.get_ident : 현재 돌고있는 thread object의 thread identifier(숫자로 나타남)을 return해줌"
   ]
  },
  {
   "cell_type": "code",
   "execution_count": 37,
   "metadata": {
    "scrolled": true
   },
   "outputs": [
    {
     "name": "stdout",
     "output_type": "stream",
     "text": [
      "Worker: 10668\n",
      "\n",
      "Worker: 7176\n",
      "Worker: 10836\n",
      "\n",
      "\n"
     ]
    }
   ],
   "source": [
    "import threading\n",
    "\n",
    "def worker(num):\n",
    "    print('Worker: %s\\n' % threading.get_ident()) \n",
    "    # threading.current_thread()를 여기에 써줘서 worker()를 돌리고있는 thread가 먼지 print하면 볼 수 있음\n",
    "    # 이거 실행하면서 시작된 Thread이니 위의 셀과 일치할 수 없음 위의셀은 위의 셀에서 돌렸을때 쓴 Thread를 보여줌.\n",
    "    return\n",
    "\n",
    "threads = []\n",
    "for i in range(3):\n",
    "    t = threading.Thread(target=worker, args=(i,))\n",
    "    threads.append(t)\n",
    "    t.start()"
   ]
  },
  {
   "cell_type": "code",
   "execution_count": 42,
   "metadata": {},
   "outputs": [
    {
     "name": "stdout",
     "output_type": "stream",
     "text": [
      "0\n",
      "youlovepython\n",
      "\n",
      "\n",
      "1\n",
      "2\n",
      "3\n",
      "4\n",
      "5\n",
      "6\n",
      "7\n",
      "8\n",
      "9youlove\n",
      "python\n",
      "\n",
      "\n",
      "pythonyoulove\n",
      "\n",
      "\n",
      "10\n",
      "11\n",
      "12\n",
      "13\n",
      "14\n",
      "15\n",
      "16\n",
      "17\n",
      "18\n",
      "love\n",
      "youpython\n",
      "\n",
      "19\n",
      "lovepythonyou\n",
      "\n",
      "\n",
      "20\n",
      "21\n",
      "22\n",
      "23\n",
      "24\n",
      "25\n",
      "26\n",
      "27\n",
      "28\n",
      "love\n",
      "python\n",
      "you\n",
      "29\n",
      "youpython\n",
      "\n",
      "love\n",
      "30\n",
      "31\n",
      "32\n",
      "33\n",
      "34\n",
      "35\n",
      "36\n",
      "37\n",
      "38\n",
      "love\n",
      "python\n",
      "you\n",
      "39\n",
      "youpython\n",
      "\n",
      "love\n",
      "40\n",
      "41\n",
      "42\n",
      "43\n",
      "44\n",
      "45\n",
      "46\n",
      "47\n",
      "48\n",
      "love\n",
      "youpython\n",
      "\n",
      "49\n",
      "youpython\n",
      "\n",
      "love\n",
      "50\n",
      "51\n",
      "52\n",
      "53\n",
      "54\n",
      "55\n",
      "56\n",
      "57\n",
      "58\n",
      "love\n",
      "youpython\n",
      "\n",
      "59\n",
      "youpython\n",
      "\n",
      "love\n",
      "60\n",
      "61\n",
      "62\n",
      "63\n",
      "64\n",
      "65\n",
      "66\n",
      "67\n",
      "68\n",
      "love\n",
      "youpython\n",
      "\n",
      "69\n",
      "youpython\n",
      "\n",
      "love\n",
      "70\n",
      "71\n",
      "72\n",
      "73\n",
      "74\n",
      "75\n",
      "76\n",
      "77\n",
      "78\n",
      "love\n",
      "pythonyou\n",
      "\n",
      "79\n",
      "pythonyou\n",
      "\n",
      "love\n",
      "80\n",
      "81\n",
      "82\n",
      "83\n",
      "84\n",
      "85\n",
      "86\n",
      "87\n",
      "88\n",
      "love\n",
      "youpython\n",
      "\n",
      "89\n",
      "python\n",
      "loveyou\n",
      "\n",
      "90\n",
      "91\n",
      "92\n",
      "93\n",
      "94\n",
      "95\n",
      "96\n",
      "97\n",
      "98\n",
      "love\n",
      "pythonyou\n",
      "\n",
      "99\n",
      "python\n",
      "youlove\n",
      "\n",
      "love\n",
      "youpython\n",
      "\n",
      "python\n",
      "youlove\n",
      "\n",
      "love\n",
      "python\n",
      "you\n",
      "python\n",
      "youlove\n",
      "\n",
      "loveyoupython\n",
      "\n",
      "\n",
      "python\n",
      "loveyou\n",
      "\n",
      "youlovepython\n",
      "\n",
      "\n",
      "youlovepython\n",
      "\n",
      "\n",
      "youpythonlove\n",
      "\n",
      "\n",
      "love\n",
      "youpython\n",
      "\n",
      "youpythonlove\n",
      "\n",
      "\n",
      "love\n",
      "pythonyou\n",
      "\n",
      "youlovepython\n",
      "\n",
      "\n",
      "pythonyoulove\n",
      "\n",
      "\n",
      "loveyou\n",
      "\n",
      "python\n",
      "loveyoupython\n",
      "\n",
      "\n",
      "youlove\n",
      "python\n",
      "\n",
      "youpython\n",
      "\n",
      "love\n",
      "youpythonlove\n",
      "\n",
      "\n",
      "loveyoupython\n",
      "\n",
      "\n",
      "loveyoupython\n",
      "\n",
      "\n",
      "youpython\n",
      "\n",
      "love\n",
      "you\n",
      "lovepython\n",
      "\n",
      "pythonyoulove\n",
      "\n",
      "\n",
      "you\n",
      "pythonlove\n",
      "\n",
      "you\n",
      "pythonlove\n",
      "\n",
      "you\n",
      "lovepython\n",
      "\n",
      "pythonyoulove\n",
      "\n",
      "\n"
     ]
    }
   ],
   "source": [
    "import threading\n",
    "import time\n",
    "\n",
    "def say(msg):\n",
    "    while True:\n",
    "        time.sleep(1)\n",
    "        print(msg)\n",
    "\n",
    "for msg in [\"you\", \"love\", \"python\"]:\n",
    "    t = threading.Thread(target = say, args=(msg,))\n",
    "    t.daemon = True\n",
    "    t.start()\n",
    "\n",
    "for i in range(100):\n",
    "    time.sleep(0.1)\n",
    "    print(i)"
   ]
  },
  {
   "cell_type": "markdown",
   "metadata": {},
   "source": [
    "### 5. pickle Module\n",
    "- user defined class의 object들은 저장하여 reuse나 transfer 하는 것이 어려우므로 pickle module이 필요!"
   ]
  },
  {
   "cell_type": "code",
   "execution_count": 38,
   "metadata": {
    "collapsed": true
   },
   "outputs": [],
   "source": [
    "# write하는 과정\n",
    "\n",
    "import pickle                     \n",
    "f = open('test.txt','wb') # wb는 byte단위로 write하는 것을 뜻함\n",
    "data = {1:'python', 2:'you need'}\n",
    "pickle.dump(data, f) #python study 폴더에 'test.txt'파일이 생성됨\n",
    "f.close()"
   ]
  },
  {
   "cell_type": "code",
   "execution_count": 40,
   "metadata": {},
   "outputs": [
    {
     "name": "stdout",
     "output_type": "stream",
     "text": [
      "{1: 'python', 2: 'you need'}\n"
     ]
    }
   ],
   "source": [
    "f = open('test.txt', 'rb')\n",
    "data = pickle.load(f)\n",
    "print(data)\n",
    "# load된 것을 확인할 수 있다."
   ]
  },
  {
   "cell_type": "markdown",
   "metadata": {},
   "source": [
    "### 6. shutil Module : 파일을 복사해주는 모듈임\n",
    "- shutil.copy(src, dst): src라는 이름의 file을 dst로 복사한다. 만약 dst가 directory이름이라면, src라는 file이름으로 dst라는 directory에 복사하고 동일한 file이 있으면 덮어쓴다."
   ]
  },
  {
   "cell_type": "code",
   "execution_count": 42,
   "metadata": {},
   "outputs": [
    {
     "ename": "FileNotFoundError",
     "evalue": "[Errno 2] No such file or directory: 'src.txt'",
     "output_type": "error",
     "traceback": [
      "\u001b[1;31m---------------------------------------------------------------------------\u001b[0m",
      "\u001b[1;31mFileNotFoundError\u001b[0m                         Traceback (most recent call last)",
      "\u001b[1;32m<ipython-input-42-331d67b8a412>\u001b[0m in \u001b[0;36m<module>\u001b[1;34m()\u001b[0m\n\u001b[0;32m      1\u001b[0m \u001b[1;32mimport\u001b[0m \u001b[0mshutil\u001b[0m\u001b[1;33m\u001b[0m\u001b[0m\n\u001b[1;32m----> 2\u001b[1;33m \u001b[0mshutil\u001b[0m\u001b[1;33m.\u001b[0m\u001b[0mcopy\u001b[0m\u001b[1;33m(\u001b[0m\u001b[1;34m'src.txt'\u001b[0m\u001b[1;33m,\u001b[0m \u001b[1;34m'dst.txt'\u001b[0m\u001b[1;33m)\u001b[0m\u001b[1;33m\u001b[0m\u001b[0m\n\u001b[0m\u001b[0;32m      3\u001b[0m \u001b[1;31m#src.txt파일이 있었으면 그 파일이 같은경로에 dst.txt라고 복사됨\u001b[0m\u001b[1;33m\u001b[0m\u001b[1;33m\u001b[0m\u001b[0m\n",
      "\u001b[1;32mC:\\Users\\Genius Scene\\Anaconda3\\lib\\shutil.py\u001b[0m in \u001b[0;36mcopy\u001b[1;34m(src, dst, follow_symlinks)\u001b[0m\n\u001b[0;32m    239\u001b[0m     \u001b[1;32mif\u001b[0m \u001b[0mos\u001b[0m\u001b[1;33m.\u001b[0m\u001b[0mpath\u001b[0m\u001b[1;33m.\u001b[0m\u001b[0misdir\u001b[0m\u001b[1;33m(\u001b[0m\u001b[0mdst\u001b[0m\u001b[1;33m)\u001b[0m\u001b[1;33m:\u001b[0m\u001b[1;33m\u001b[0m\u001b[0m\n\u001b[0;32m    240\u001b[0m         \u001b[0mdst\u001b[0m \u001b[1;33m=\u001b[0m \u001b[0mos\u001b[0m\u001b[1;33m.\u001b[0m\u001b[0mpath\u001b[0m\u001b[1;33m.\u001b[0m\u001b[0mjoin\u001b[0m\u001b[1;33m(\u001b[0m\u001b[0mdst\u001b[0m\u001b[1;33m,\u001b[0m \u001b[0mos\u001b[0m\u001b[1;33m.\u001b[0m\u001b[0mpath\u001b[0m\u001b[1;33m.\u001b[0m\u001b[0mbasename\u001b[0m\u001b[1;33m(\u001b[0m\u001b[0msrc\u001b[0m\u001b[1;33m)\u001b[0m\u001b[1;33m)\u001b[0m\u001b[1;33m\u001b[0m\u001b[0m\n\u001b[1;32m--> 241\u001b[1;33m     \u001b[0mcopyfile\u001b[0m\u001b[1;33m(\u001b[0m\u001b[0msrc\u001b[0m\u001b[1;33m,\u001b[0m \u001b[0mdst\u001b[0m\u001b[1;33m,\u001b[0m \u001b[0mfollow_symlinks\u001b[0m\u001b[1;33m=\u001b[0m\u001b[0mfollow_symlinks\u001b[0m\u001b[1;33m)\u001b[0m\u001b[1;33m\u001b[0m\u001b[0m\n\u001b[0m\u001b[0;32m    242\u001b[0m     \u001b[0mcopymode\u001b[0m\u001b[1;33m(\u001b[0m\u001b[0msrc\u001b[0m\u001b[1;33m,\u001b[0m \u001b[0mdst\u001b[0m\u001b[1;33m,\u001b[0m \u001b[0mfollow_symlinks\u001b[0m\u001b[1;33m=\u001b[0m\u001b[0mfollow_symlinks\u001b[0m\u001b[1;33m)\u001b[0m\u001b[1;33m\u001b[0m\u001b[0m\n\u001b[0;32m    243\u001b[0m     \u001b[1;32mreturn\u001b[0m \u001b[0mdst\u001b[0m\u001b[1;33m\u001b[0m\u001b[0m\n",
      "\u001b[1;32mC:\\Users\\Genius Scene\\Anaconda3\\lib\\shutil.py\u001b[0m in \u001b[0;36mcopyfile\u001b[1;34m(src, dst, follow_symlinks)\u001b[0m\n\u001b[0;32m    118\u001b[0m         \u001b[0mos\u001b[0m\u001b[1;33m.\u001b[0m\u001b[0msymlink\u001b[0m\u001b[1;33m(\u001b[0m\u001b[0mos\u001b[0m\u001b[1;33m.\u001b[0m\u001b[0mreadlink\u001b[0m\u001b[1;33m(\u001b[0m\u001b[0msrc\u001b[0m\u001b[1;33m)\u001b[0m\u001b[1;33m,\u001b[0m \u001b[0mdst\u001b[0m\u001b[1;33m)\u001b[0m\u001b[1;33m\u001b[0m\u001b[0m\n\u001b[0;32m    119\u001b[0m     \u001b[1;32melse\u001b[0m\u001b[1;33m:\u001b[0m\u001b[1;33m\u001b[0m\u001b[0m\n\u001b[1;32m--> 120\u001b[1;33m         \u001b[1;32mwith\u001b[0m \u001b[0mopen\u001b[0m\u001b[1;33m(\u001b[0m\u001b[0msrc\u001b[0m\u001b[1;33m,\u001b[0m \u001b[1;34m'rb'\u001b[0m\u001b[1;33m)\u001b[0m \u001b[1;32mas\u001b[0m \u001b[0mfsrc\u001b[0m\u001b[1;33m:\u001b[0m\u001b[1;33m\u001b[0m\u001b[0m\n\u001b[0m\u001b[0;32m    121\u001b[0m             \u001b[1;32mwith\u001b[0m \u001b[0mopen\u001b[0m\u001b[1;33m(\u001b[0m\u001b[0mdst\u001b[0m\u001b[1;33m,\u001b[0m \u001b[1;34m'wb'\u001b[0m\u001b[1;33m)\u001b[0m \u001b[1;32mas\u001b[0m \u001b[0mfdst\u001b[0m\u001b[1;33m:\u001b[0m\u001b[1;33m\u001b[0m\u001b[0m\n\u001b[0;32m    122\u001b[0m                 \u001b[0mcopyfileobj\u001b[0m\u001b[1;33m(\u001b[0m\u001b[0mfsrc\u001b[0m\u001b[1;33m,\u001b[0m \u001b[0mfdst\u001b[0m\u001b[1;33m)\u001b[0m\u001b[1;33m\u001b[0m\u001b[0m\n",
      "\u001b[1;31mFileNotFoundError\u001b[0m: [Errno 2] No such file or directory: 'src.txt'"
     ]
    }
   ],
   "source": [
    "import shutil\n",
    "shutil.copy('src.txt', 'dst.txt')\n",
    "#src.txt파일이 있었으면 그 파일이 같은경로에 dst.txt라고 복사됨\n",
    "#src.txt파일 없으면 에러남"
   ]
  },
  {
   "cell_type": "code",
   "execution_count": null,
   "metadata": {
    "collapsed": true
   },
   "outputs": [],
   "source": []
  },
  {
   "cell_type": "code",
   "execution_count": null,
   "metadata": {
    "collapsed": true
   },
   "outputs": [],
   "source": []
  }
 ],
 "metadata": {
  "kernelspec": {
   "display_name": "Python 3",
   "language": "python",
   "name": "python3"
  },
  "language_info": {
   "codemirror_mode": {
    "name": "ipython",
    "version": 3
   },
   "file_extension": ".py",
   "mimetype": "text/x-python",
   "name": "python",
   "nbconvert_exporter": "python",
   "pygments_lexer": "ipython3",
   "version": "3.6.1"
  }
 },
 "nbformat": 4,
 "nbformat_minor": 2
}
