{
 "cells": [
  {
   "cell_type": "markdown",
   "metadata": {},
   "source": [
    "## (21) Data Structure(17.08.25)"
   ]
  },
  {
   "cell_type": "markdown",
   "metadata": {},
   "source": [
    "### 1. Linked List\n",
    "#### - 각 노드가 데이터와 포인터를 가지고 한 줄로 연결되어 있는 방식"
   ]
  },
  {
   "cell_type": "code",
   "execution_count": null,
   "metadata": {
    "collapsed": true
   },
   "outputs": [],
   "source": [
    "class Stack:\n",
    "    def __init__(self):\n",
    "        self.items = []\n",
    "    def push(self, item):\n",
    "        self.items.append(item)\n",
    "    def pop(self):\n",
    "        return self.items.pop()\n",
    "    def isEmpty(self):\n",
    "        if self.items == []:\n",
    "            return True\n",
    "        else:\n",
    "            return False\n",
    "    def peek(self):\n",
    "        return self.items[len(self.items)-1] #인덱스니깐 len()에서 빼기 1 해줘야함.\n",
    "    # but! myStack.peek해도 주소값만나오고 책에서처럼 'Kim'이 나오진 않는다.\n",
    "\n",
    "myStack = Stack()\n",
    "myStack.push('John')\n",
    "myStack.push('Kim')\n",
    "myStack.items # self.items 변수를 불러오는거"
   ]
  },
  {
   "cell_type": "markdown",
   "metadata": {},
   "source": [
    "### 2. Queue()\n",
    "#### - 리스트의 한쪽 끝에서는 원소들이 삭제되고 반대쪽 끝에서는 원소들의 삽입만 가능하게 만든 순서화된 리스트(리스트의 한쪽 끝에서만 삽입과 삭제가 일어나는 스택과 다르다)\n",
    "#### - 종류 : FIFO(First In First Out), LIFO(Last In First Out), Priority"
   ]
  },
  {
   "cell_type": "code",
   "execution_count": 1,
   "metadata": {},
   "outputs": [
    {
     "name": "stdout",
     "output_type": "stream",
     "text": [
      "4\n",
      "['Bob', 'Brodie', 'Carrie', 'Tanya']\n",
      "Bob\n",
      "['Brodie', 'Carrie', 'Tanya']\n"
     ]
    }
   ],
   "source": [
    "# 여기서 선언한 class Queue는 FIFO이다\n",
    "\n",
    "class Queue:\n",
    "    def __init__(self):\n",
    "        self.items = []\n",
    "    def add(self, item):\n",
    "        self.items.append(item)\n",
    "    def delete(self): #가장 먼저 들어온 element를 지움\n",
    "        itemToDelete = self.items[0]\n",
    "        del self.items[0]\n",
    "        return itemToDelete\n",
    "    def size(self):\n",
    "        return len(self.items)\n",
    "    def report(self):\n",
    "        return self.items\n",
    "\n",
    "myQueue = Queue()\n",
    "myQueue.add('Bob')\n",
    "myQueue.add('Brodie')\n",
    "myQueue.add('Carrie')\n",
    "myQueue.add('Tanya')\n",
    "print(myQueue.size())\n",
    "print(myQueue.report())\n",
    "print(myQueue.delete())\n",
    "print(myQueue.report())"
   ]
  },
  {
   "cell_type": "code",
   "execution_count": null,
   "metadata": {
    "collapsed": true
   },
   "outputs": [],
   "source": [
    "import queue\n",
    "a = queue.Queue(5)\n",
    "b = queue.LifoQueue(5)\n",
    "c = queue.PriorityQueue(5)\n",
    "\n",
    "print('Successfully created 3 queues')"
   ]
  },
  {
   "cell_type": "code",
   "execution_count": 5,
   "metadata": {},
   "outputs": [
    {
     "name": "stdout",
     "output_type": "stream",
     "text": [
      "1\n",
      "python\n",
      "3\n",
      "Scene\n"
     ]
    }
   ],
   "source": [
    "import queue\n",
    "a = queue.Queue(5)\n",
    "b = queue.Queue(3)\n",
    "a.put(1)\n",
    "a.put('python')\n",
    "a.put(b) #Queue안에 Queue를 담은거\n",
    "\n",
    "b.put(3)\n",
    "a.put('Scene')\n",
    "b.put('Kim') \n",
    "\n",
    "print(a.get()) #1번째 get이니 가장 첫번째 들어간 element인 1이 delete and return됨\n",
    "print(a.get()) #남아있는 'python'이라는 element가 delete and return됨\n",
    "print(a.get().get())\n",
    "print(a.get())\n",
    "\n",
    "# 질문! print(a.get().get()) 이걸로 'Kim'을 return해오는 방법은 없나?\n",
    "# : print(a.get().get())이 실행되면서 b Queue도 pop()되는것처럼 없어지면서,\n",
    "#   b의 제일 처음 입력된 element가 튀어나온다. 그래서 뒤에 입력된 'Kim'을 빼올 방법이 없음."
   ]
  },
  {
   "cell_type": "code",
   "execution_count": null,
   "metadata": {
    "collapsed": true
   },
   "outputs": [],
   "source": [
    "# queue.qsize() / queue.empty() / queue.full()\n",
    "\n",
    "import queue\n",
    "\n",
    "a = queue.Queue(3)\n",
    "b = queue.Queue()\n",
    "\n",
    "a.put(1)\n",
    "a.put(2)\n",
    "a.put(3)\n",
    "\n",
    "print('qsize : ')\n",
    "print(a.qsize())\n",
    "print(b.qsize())\n",
    "print()\n",
    "\n",
    "print('Empty?')"
   ]
  },
  {
   "cell_type": "code",
   "execution_count": null,
   "metadata": {
    "collapsed": true
   },
   "outputs": [],
   "source": [
    "import queue\n",
    "a = queue.LifoQueue(3)\n",
    "a.put('Kim')\n",
    "a.put(55)\n",
    "a.put('SNU')\n",
    "a.qsize()\n",
    "a.get()\n",
    "a.qsize()"
   ]
  },
  {
   "cell_type": "code",
   "execution_count": null,
   "metadata": {
    "collapsed": true
   },
   "outputs": [],
   "source": [
    "import queue\n",
    "a = queue.PriorityQueue(3)\n",
    "a.put(20)\n",
    "a.put(1)\n",
    "a.put(9)\n",
    "print(a.qsize())\n",
    "print(a.get()) \n",
    "print(a.qsize())\n",
    "\n",
    "#숫자 오름차순 순으로 data들이 빠져나간다."
   ]
  },
  {
   "cell_type": "code",
   "execution_count": null,
   "metadata": {
    "collapsed": true
   },
   "outputs": [],
   "source": [
    "import queue\n",
    "a = queue.PriorityQueue(3)\n",
    "a.put('C')\n",
    "a.put('A')\n",
    "a.put('B')\n",
    "print(a.qsize())\n",
    "print(a.get()) #단순히 a.get()하면 'A'이 나옴 print하면 A가 나옴.\n",
    "print(a.qsize())\n",
    "\n",
    "#문자는 알파벳 오름차순 순으로 data들이 빠져나간다."
   ]
  },
  {
   "cell_type": "code",
   "execution_count": null,
   "metadata": {
    "collapsed": true
   },
   "outputs": [],
   "source": [
    "#example_PriorityQueue\n",
    "try:\n",
    "    import Queue as Q  # ver. < 3.0\n",
    "except ImportError:\n",
    "    import queue as Q\n",
    "# 10,1,5가 우선순위가 된다\n",
    "q = Q.PriorityQueue()\n",
    "q.put((10,'ten'))\n",
    "q.put((1,'one'))\n",
    "q.put((5,'five'))\n",
    "while not q.empty():\n",
    "    print(q.get())"
   ]
  },
  {
   "cell_type": "code",
   "execution_count": null,
   "metadata": {
    "collapsed": true
   },
   "outputs": [],
   "source": [
    "D = {}\n",
    "\n",
    "D['a'] = 1\n",
    "D['b'] = 1\n",
    "D['c'] = 1\n",
    "D\n",
    "#D['b']"
   ]
  },
  {
   "cell_type": "code",
   "execution_count": null,
   "metadata": {
    "collapsed": true
   },
   "outputs": [],
   "source": [
    "D = {}\n",
    "\n",
    "D['a'] = 1\n",
    "D['b'] = 1\n",
    "D['c'] = 1\n",
    "for k in D.keys():\n",
    "    print(D[k])"
   ]
  },
  {
   "cell_type": "code",
   "execution_count": null,
   "metadata": {
    "collapsed": true
   },
   "outputs": [],
   "source": [
    "D = {}\n",
    "\n",
    "D['a'] = 1\n",
    "D['b'] = 1\n",
    "D['c'] = 1\n",
    "for k,v in D.items():\n",
    "    print(k,':',v)"
   ]
  },
  {
   "cell_type": "code",
   "execution_count": null,
   "metadata": {
    "collapsed": true
   },
   "outputs": [],
   "source": [
    "keys = ['a', 'b', 'c']\n",
    "values = [1, 2, 3]\n",
    "hash = {k:v for k, v in zip(keys, values)}\n",
    "hash"
   ]
  },
  {
   "cell_type": "code",
   "execution_count": 4,
   "metadata": {},
   "outputs": [
    {
     "data": {
      "text/plain": [
       "5191758519632346407"
      ]
     },
     "execution_count": 4,
     "metadata": {},
     "output_type": "execute_result"
    }
   ],
   "source": [
    "map(hash, [0, 1, 2, 3])\n",
    "map(hash, ['0','1','2','3'])\n",
    "hash('0')"
   ]
  }
 ],
 "metadata": {
  "kernelspec": {
   "display_name": "Python 3",
   "language": "python",
   "name": "python3"
  },
  "language_info": {
   "codemirror_mode": {
    "name": "ipython",
    "version": 3
   },
   "file_extension": ".py",
   "mimetype": "text/x-python",
   "name": "python",
   "nbconvert_exporter": "python",
   "pygments_lexer": "ipython3",
   "version": "3.6.1"
  }
 },
 "nbformat": 4,
 "nbformat_minor": 2
}
