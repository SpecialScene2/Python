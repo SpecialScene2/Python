{
 "cells": [
  {
   "cell_type": "markdown",
   "metadata": {},
   "source": [
    "## (22) Data Structure Modules"
   ]
  },
  {
   "cell_type": "markdown",
   "metadata": {},
   "source": [
    "## 1. Collections Module \n",
    "- <font color = red>__Counter, deque, OrderedDict Class가 있음.__<br>\n",
    "- <font color = white>파이썬의 기본 데이터형식 기초 위에 추가 데이터 형식 제공.\n",
    "- Object들의 저장소를 보다 더 다양하고 편하게 제공함"
   ]
  },
  {
   "cell_type": "markdown",
   "metadata": {},
   "source": [
    "***\n",
    "#### 1) Counter class : 동일한 value들이 몇개 있는지 알려줌 "
   ]
  },
  {
   "cell_type": "code",
   "execution_count": 2,
   "metadata": {},
   "outputs": [
    {
     "name": "stdout",
     "output_type": "stream",
     "text": [
      "Counter({'dogs': 8, 'cats': 4})\n"
     ]
    }
   ],
   "source": [
    "import collections\n",
    "c = collections.Counter() # empty counter만들어짐\n",
    "c = collections.Counter('gallahad') #iterable한 'gallahad'가 담긴다. \n",
    "# 각 character들이 몇개씩 들어있는지 알려줌.\n",
    "\n",
    "# <키값 혹은 parameter가 얼마의 값을 갖고있는지도 collections.Counter로 보여줄 수 있따.>\n",
    "# c = collections.Counter({'red' : 4, 'blue' : 2})\n",
    "# c = collections.Counter(cats=4, dogs = 8)\n",
    "print(c)"
   ]
  },
  {
   "cell_type": "code",
   "execution_count": 2,
   "metadata": {},
   "outputs": [
    {
     "name": "stdout",
     "output_type": "stream",
     "text": [
      "1\n",
      "2\n",
      "{'eggs': 1, 'ham': 2, 'soy': 1}\n"
     ]
    }
   ],
   "source": [
    "# Counter Class 쓰지 않은 예제\n",
    "c = {}\n",
    "def addCounter(obj):\n",
    "    if obj not in c:\n",
    "        c[obj] = 1\n",
    "    else:\n",
    "        c[obj] += 1\n",
    "\n",
    "addCounter('eggs')\n",
    "addCounter('ham')\n",
    "addCounter('ham')\n",
    "addCounter('soy')\n",
    "print(c['eggs'])\n",
    "print(c['ham'])\n",
    "print(c)"
   ]
  },
  {
   "cell_type": "code",
   "execution_count": 3,
   "metadata": {},
   "outputs": [
    {
     "name": "stdout",
     "output_type": "stream",
     "text": [
      "1\n",
      "2\n"
     ]
    }
   ],
   "source": [
    "# collections 모듈의 Counter class의 장점을 보여줌\n",
    "# 요소들의 갯수를 쉽게 Count해줌\n",
    "import collections\n",
    "c = collections.Counter(['eggs', 'ham', 'ham', 'soy'])\n",
    "print(c['eggs'])\n",
    "print(c['ham'])"
   ]
  },
  {
   "cell_type": "markdown",
   "metadata": {},
   "source": [
    "***\n",
    "#### 2) deque class : que 양쪽 끝에서 요소들을 넣고 뺄 수 있음\n",
    " - .leftappend() / .popleft() / .rotate() 등이 있음"
   ]
  },
  {
   "cell_type": "code",
   "execution_count": 5,
   "metadata": {},
   "outputs": [
    {
     "name": "stdout",
     "output_type": "stream",
     "text": [
      "Deque :  deque(['a', 'b', 'c', 'd', 'e', 'f', 'g'])\n",
      "Length :  7\n",
      "Left end :  a\n",
      "Right end :  g\n",
      "remove(c) :  deque(['a', 'b', 'd', 'e', 'f', 'g'])\n",
      "append(h) :  deque(['a', 'b', 'd', 'e', 'f', 'g', 'h'])\n",
      "appendleft(X) :  deque(['X', 'a', 'b', 'd', 'e', 'f', 'g', 'h'])\n"
     ]
    }
   ],
   "source": [
    "import collections\n",
    "d = collections.deque('abcdefg')\n",
    "print('Deque : ', d)\n",
    "print('Length : ', len(d))\n",
    "print('Left end : ', d[0])\n",
    "print('Right end : ', d[-1])\n",
    "\n",
    "d.remove('c')\n",
    "print('remove(c) : ', d)\n",
    "\n",
    "d.append('h')\n",
    "print('append(h) : ', d)\n",
    "\n",
    "#appendleft 매우 특이!!\n",
    "d.appendleft('X')\n",
    "print('appendleft(X) : ', d)"
   ]
  },
  {
   "cell_type": "code",
   "execution_count": 4,
   "metadata": {},
   "outputs": [
    {
     "name": "stdout",
     "output_type": "stream",
     "text": [
      "Deque :  deque(['a', 'b', 'c', 'd', 'e', 'f', 'g'])\n",
      "Length :  7\n",
      "Left end :  a\n",
      "Right end :  g\n",
      "g\n",
      "deque(['a', 'b', 'c', 'd', 'e', 'f'])\n",
      "a\n",
      "deque(['b', 'c', 'd', 'e', 'f'])\n"
     ]
    }
   ],
   "source": [
    "import collections\n",
    "d = collections.deque('abcdefg')\n",
    "print('Deque : ', d)\n",
    "print('Length : ', len(d))\n",
    "print('Left end : ', d[0])\n",
    "print('Right end : ', d[-1])\n",
    "\n",
    "print(d.pop())\n",
    "print(d)\n",
    "\n",
    "print(d.popleft())\n",
    "print(d)"
   ]
  },
  {
   "cell_type": "code",
   "execution_count": 7,
   "metadata": {},
   "outputs": [
    {
     "name": "stdout",
     "output_type": "stream",
     "text": [
      "Deque :  deque(['a', 'b', 'c', 'd', 'e', 'f', 'g'])\n",
      "Length :  7\n",
      "Left end :  a\n",
      "Right end :  g\n",
      "deque(['f', 'g', 'a', 'b', 'c', 'd', 'e'])\n",
      "deque(['a', 'b', 'c', 'd', 'e', 'f', 'g'])\n"
     ]
    }
   ],
   "source": [
    "import collections\n",
    "\n",
    "d = collections.deque('abcdefg')\n",
    "print('Deque : ', d)\n",
    "print('Length : ', len(d))\n",
    "print('Left end : ', d[0])\n",
    "print('Right end : ', d[-1])\n",
    "\n",
    "d.rotate(2)\n",
    "print(d)\n",
    "\n",
    "d.rotate(-2)\n",
    "print(d)"
   ]
  },
  {
   "cell_type": "markdown",
   "metadata": {},
   "source": [
    "***\n",
    "#### 4) OrderedDict class : items들이 insert된 순서를 기억한다.\n",
    "##### <font color = red>__ - .leftappend() / .popleft()는 특이한 것이니 잘 알아두자__"
   ]
  },
  {
   "cell_type": "code",
   "execution_count": 8,
   "metadata": {},
   "outputs": [
    {
     "name": "stdout",
     "output_type": "stream",
     "text": [
      "OrderedDict([('a', 4), ('abc', 3), ('b', 1), ('cd', 2)])\n",
      "OrderedDict([('b', 1), ('cd', 2), ('abc', 3), ('a', 4)])\n",
      "OrderedDict([('a', 4), ('b', 1), ('cd', 2), ('abc', 3)])\n",
      "OrderedDict([('abc', 'a'), ('a', 'b'), ('b', 'c'), ('cd', 'd')])\n"
     ]
    }
   ],
   "source": [
    "from collections import OrderedDict\n",
    "# 보통 딕셔너리는 다음과 같다.\n",
    "d = {'abc' : 3, 'a' : 4, 'b': 1, 'cd': 2}\n",
    "d2 = {'abc' : 'a', 'a' : 'b', 'b': 'c', 'cd': 'd'}\n",
    "\n",
    "#OrderedDict 사용한 경우\n",
    "print(OrderedDict(sorted(d.items(), key = lambda t : t[0]))) # key를 기준으로 sort한 ordereddict를 보여준다\n",
    "print(OrderedDict(sorted(d.items(), key = lambda t : t[1]))) # value를 기준으로 sort한 ordereddict를 보여준다\n",
    "print(OrderedDict(sorted(d.items(), key = lambda t : len(t[0])))) # key의 길이를 기준으로 sort한 ordereddict를 보여준다\n",
    "print(OrderedDict(sorted(d2.items(), key = lambda t : len(t[1]))))\n",
    "# 같은길이일땐 사전 순서에 앞에 있는게 먼저 나온다.\n",
    "# print(OrderedDict(sorted(d.items(), key = lambda t : len(t[1]))))\n",
    "# 질문! len(t[1])하면 오류가 나는 이유는???? : int인 경우는 error난다"
   ]
  },
  {
   "cell_type": "markdown",
   "metadata": {},
   "source": [
    "## 2. Array Module\n",
    "- 1차원, 2차원, 3차원 수치형 데이터를 표현할 수 있는 고정된 형식이다.\n",
    "- list보다 속도가 빠르다. 그렇기때문에 여러 데이터타입을 함께 저장 할 수 없다. only single type만 가능"
   ]
  },
  {
   "cell_type": "code",
   "execution_count": 19,
   "metadata": {},
   "outputs": [
    {
     "name": "stdout",
     "output_type": "stream",
     "text": [
      "As string :  This is the array.\n",
      "As array :  array('u', 'This is the array.')\n"
     ]
    }
   ],
   "source": [
    "import array\n",
    "s = 'This is the array.'\n",
    "a = array.array('u', s)\n",
    "\n",
    "print('As string : ', s)\n",
    "print('As array : ', a)"
   ]
  },
  {
   "cell_type": "code",
   "execution_count": 20,
   "metadata": {},
   "outputs": [
    {
     "name": "stdout",
     "output_type": "stream",
     "text": [
      "10\n",
      "20\n",
      "30\n"
     ]
    }
   ],
   "source": [
    "from array import array\n",
    "a = array('i', [10, 20, 30])\n",
    "for value in a :\n",
    "    print(value)"
   ]
  },
  {
   "cell_type": "markdown",
   "metadata": {},
   "source": [
    "***\n",
    "##### array.itemsize"
   ]
  },
  {
   "cell_type": "code",
   "execution_count": 23,
   "metadata": {
    "scrolled": true
   },
   "outputs": [
    {
     "name": "stdout",
     "output_type": "stream",
     "text": [
      "array('u', 'This is the array')\n",
      "size is 2\n"
     ]
    }
   ],
   "source": [
    "import array\n",
    "\n",
    "s = 'This is the array'\n",
    "a = array.array('u', s)\n",
    "print(a)\n",
    "\n",
    "b = a.itemsize\n",
    "print('size is', b) # size를 사용자가 직접 계산할 수 있는 방법도 있나?"
   ]
  },
  {
   "cell_type": "markdown",
   "metadata": {},
   "source": [
    "***\n",
    "##### array.append : array끝에 붙여줌 ★array.append는 'u'에만 쓰임★"
   ]
  },
  {
   "cell_type": "code",
   "execution_count": 11,
   "metadata": {},
   "outputs": [
    {
     "name": "stdout",
     "output_type": "stream",
     "text": [
      "array('u', 'This is the array.')\n",
      "New array is  array('u', 'This is the array.kkkkkkkkkkkkkkkkkkkkkkkkkkkkkkkkkkkkkkkkkkkkkkkkkkkkkkkkkkkkkkkkkkkkkkkkkkkkkkkkkkkkkkkkkkkkkkkkkkkk')\n",
      "size is 2\n",
      "2\n"
     ]
    }
   ],
   "source": [
    "import array\n",
    "\n",
    "s1 = 'This is the array.'\n",
    "s2 = [1,2,3,4,5,6,7,8,3,4,5,6,7,7,8,1,2,3,4,6,7,78,1,2,3]\n",
    "a = array.array('u', s1)\n",
    "a2 = array.array('i', s2)\n",
    "#a3 = array.array([1])\n",
    "\n",
    "print(a)\n",
    "\n",
    "for i in range(100):\n",
    "    a.append('k') # append해도 size는 여전히 2 이다\n",
    "# a.append('k')\n",
    "# a.append('k')\n",
    "# a.append('k')\n",
    "# a.append('k')\n",
    "# a.append('k')\n",
    "# a.append('k')\n",
    "# a.append('k')\n",
    "# a.append('k')\n",
    "# a.append('k')\n",
    "# a.append('k')\n",
    "# a.append('k')\n",
    "# a.append('k')\n",
    "# a.append('k')\n",
    "# a.append('k')\n",
    "# a.append('k')\n",
    "# a.append('k')\n",
    "# a.append('k')\n",
    "# a.append('k')\n",
    "# a.append('k')\n",
    "# a.append('k')\n",
    "# a.append('k')\n",
    "# a.append('k')\n",
    "# a.append('k')\n",
    "# a.append('k')\n",
    "# a.append('k')\n",
    "# a.append('k')\n",
    "# a.append('k')\n",
    "# a.append('k')\n",
    "# a.append('k')\n",
    "# a.append('k')\n",
    "# a.append('k')\n",
    "# a.append('k')\n",
    "# a.append('k')\n",
    "# a.append('k')\n",
    "# a.append('k')\n",
    "# a.append('k')\n",
    "b=a.itemsize\n",
    "b2=a.itemsize\n",
    "print('New array is ', a)\n",
    "print('size is', b)\n",
    "print(b2)\n"
   ]
  },
  {
   "cell_type": "markdown",
   "metadata": {},
   "source": [
    "***\n",
    "##### array.extend : array.append와 유사한데, 다른 type의 array들이 결합할때도 쓰인다 \n",
    "##### but! 결합하는 array들은 같은 타입이어야함"
   ]
  },
  {
   "cell_type": "code",
   "execution_count": 26,
   "metadata": {},
   "outputs": [
    {
     "name": "stdout",
     "output_type": "stream",
     "text": [
      "array('u', 'This is  the array.')\n",
      "array('u', 'Hello world')\n",
      "extend :  array('u', 'This is  the array.Hello world')\n"
     ]
    }
   ],
   "source": [
    "import array\n",
    "\n",
    "s1 = 'This is  the array.'\n",
    "s2 = 'Hello world'\n",
    "\n",
    "a = array.array('u', s1)\n",
    "b = array.array('u', s2)\n",
    "\n",
    "print(a)\n",
    "print(b)\n",
    "\n",
    "a.extend(b)\n",
    "\n",
    "print('extend : ', a)"
   ]
  },
  {
   "cell_type": "markdown",
   "metadata": {},
   "source": [
    "***\n",
    "##### array.count : array내에서  elemets가 몇번있는지 return해줌\n",
    "##### (예) a.count('i') : a array에서 'i'가 몇번있는지 알려줌"
   ]
  },
  {
   "cell_type": "code",
   "execution_count": 27,
   "metadata": {},
   "outputs": [
    {
     "name": "stdout",
     "output_type": "stream",
     "text": [
      "We have  2  i in s1\n",
      "We have  1  A in s1\n"
     ]
    }
   ],
   "source": [
    "import array\n",
    "\n",
    "s1 = 'This is the array. Apple'\n",
    "a = array.array('u', s1)\n",
    "\n",
    "icount = a.count('i')\n",
    "Acount = a.count('A')\n",
    "\n",
    "print('We have ', icount, ' i in s1')\n",
    "print('We have ', Acount, ' A in s1')"
   ]
  },
  {
   "cell_type": "markdown",
   "metadata": {},
   "source": [
    "***\n",
    "##### array.remove : 앞에서부터 봤을때 처음으로 나오는 element를 지워줌"
   ]
  },
  {
   "cell_type": "code",
   "execution_count": 29,
   "metadata": {},
   "outputs": [
    {
     "name": "stdout",
     "output_type": "stream",
     "text": [
      "Original array :  array('u', 'This is the array. haha')\n",
      "New array :  array('u', 'Tis is the array. haha')\n"
     ]
    }
   ],
   "source": [
    "import array\n",
    "\n",
    "s1 = 'This is the array. haha'\n",
    "a = array.array('u', s1)\n",
    "\n",
    "print('Original array : ', a)\n",
    "\n",
    "a.remove('h')\n",
    "\n",
    "print('New array : ', a) #This에서 h가 없어짐"
   ]
  },
  {
   "cell_type": "markdown",
   "metadata": {},
   "source": [
    "***\n",
    "##### array.index : elemet를 입력하면 index중에서 가장 작은 index를 return해줌"
   ]
  },
  {
   "cell_type": "code",
   "execution_count": 30,
   "metadata": {},
   "outputs": [
    {
     "name": "stdout",
     "output_type": "stream",
     "text": [
      "Array :  array('u', 'This is the array. haha')\n",
      "1\n",
      "12\n"
     ]
    }
   ],
   "source": [
    "import array\n",
    "\n",
    "s1 = 'This is the array. haha'\n",
    "a = array.array('u', s1)\n",
    "\n",
    "print('Array : ', a)\n",
    "\n",
    "print(a.index('h'))\n",
    "print(a.index('a'))"
   ]
  },
  {
   "cell_type": "markdown",
   "metadata": {},
   "source": [
    "***\n",
    "##### array.insert(i,x) : i위치에 x element를 insert함<br>i가 negative value이면 맨뒤첫글쨰 기준으로 몇번쨰 떨어져있는지임 -1은 맨 뒤에글자에서 1칸 떨어진것임"
   ]
  },
  {
   "cell_type": "code",
   "execution_count": 4,
   "metadata": {},
   "outputs": [
    {
     "name": "stdout",
     "output_type": "stream",
     "text": [
      "Array :  array('u', 'This is the array. haha')\n",
      "array('u', 'WThis is the array. haha')\n",
      "array('u', 'XWThis is the array. haha')\n",
      "array('u', 'XWThis is the array. hahHa')\n",
      "array('u', 'XWThis is the array. hahHaj')\n"
     ]
    }
   ],
   "source": [
    "import array\n",
    "\n",
    "s1 = 'This is the array. haha'\n",
    "a = array.array('u', s1)\n",
    "\n",
    "print('Array : ', a)\n",
    "\n",
    "a.insert(0, 'W')\n",
    "print(a)\n",
    "\n",
    "a.insert(-0, 'X')\n",
    "print(a)\n",
    "\n",
    "a.insert(-1, 'H')\n",
    "print(a)\n",
    "\n",
    "#질문! 맨뒤에다가 넣을 수 있는 방법은 없을까? /append나 extend말고\n",
    "a.insert( len(a), 'j')\n",
    "print(a)\n",
    "\n"
   ]
  },
  {
   "cell_type": "code",
   "execution_count": 15,
   "metadata": {},
   "outputs": [
    {
     "name": "stdout",
     "output_type": "stream",
     "text": [
      "4\n",
      "Original :  array('i', [100, 200, 300, 400])\n",
      "Insert(1, 900) : array('i', [100, 900, 200, 300, 400])\n",
      "Remove(200) :  array('i', [100, 900, 300, 400])\n",
      "1\n"
     ]
    }
   ],
   "source": [
    "import array\n",
    "# array 종합\n",
    "# New int array\n",
    "a = array.array('i')\n",
    "\n",
    "a.append(100)\n",
    "a.append(200)\n",
    "a.append(300)\n",
    "print(a.itemsize)\n",
    "print('Original : ', a)\n",
    "\n",
    "a.insert(1, 900)\n",
    "print('Insert(1, 900) :', a)\n",
    "\n",
    "a.remove(200)\n",
    "print('Remove(200) : ', a)\n",
    "\n",
    "print(a.count(900))"
   ]
  },
  {
   "cell_type": "markdown",
   "metadata": {},
   "source": [
    "## 3. Queue Module\n",
    "- collections module의 deque랑 구별해서 알아두자 / deque는 que 양쪽 끝에서 요소들을 넣고 뺄 수 있음\n",
    "- Queue Module의 장점은 세가지 대표 queue종류를 한번에 지원한다"
   ]
  },
  {
   "cell_type": "code",
   "execution_count": 39,
   "metadata": {},
   "outputs": [
    {
     "name": "stdout",
     "output_type": "stream",
     "text": [
      "Suceessfully created 3 queues\n"
     ]
    }
   ],
   "source": [
    "import queue\n",
    "\n",
    "a = queue.Queue(5)\n",
    "b = queue.LifoQueue(5)\n",
    "c = queue.PriorityQueue(5)\n",
    "\n",
    "print('Suceessfully created 3 queues')"
   ]
  },
  {
   "cell_type": "markdown",
   "metadata": {},
   "source": [
    "***\n",
    "#### 1) Queue() Class\n",
    "##### queue.Queue() : FIFO Queue이다 <br> ※Queue안에 Queue 형식을 집어 넣어 줄 수 있다."
   ]
  },
  {
   "cell_type": "code",
   "execution_count": 40,
   "metadata": {},
   "outputs": [
    {
     "name": "stdout",
     "output_type": "stream",
     "text": [
      "1\n",
      "python\n",
      "3\n"
     ]
    }
   ],
   "source": [
    "import queue\n",
    "\n",
    "a = queue.Queue(5)\n",
    "b = queue.Queue(5)\n",
    "\n",
    "a.put(1)\n",
    "a.put('python')\n",
    "a.put(b)\n",
    "\n",
    "b.put(3)\n",
    "\n",
    "print(a.get())\n",
    "print(a.get())\n",
    "print(a.get().get())"
   ]
  },
  {
   "cell_type": "markdown",
   "metadata": {},
   "source": [
    "***\n",
    "##### queue Module의 Functions\n",
    "- queueu.qsize() : queue가 몇개의 elements들이 현재 담겨져있는지 return함.\n",
    "- queueu.empty() : queue가 비었으면 True 아니면 False return\n",
    "- queueu.full() : queue가 full이면 True 아니면 False retrun"
   ]
  },
  {
   "cell_type": "code",
   "execution_count": 41,
   "metadata": {},
   "outputs": [
    {
     "name": "stdout",
     "output_type": "stream",
     "text": [
      "qsize?\n",
      "a :  3\n",
      "b :  0\n",
      "\n",
      "Empty?\n",
      "a :  False\n",
      "b :  True\n",
      "\n",
      "Full?\n",
      "a :  True\n",
      "b :  False\n"
     ]
    }
   ],
   "source": [
    "import queue\n",
    "a = queue.Queue(3)\n",
    "b = queue.Queue() # 이렇게 size를 입력안해주면 size는 무한이다.\n",
    "\n",
    "a.put(1)\n",
    "a.put(2)\n",
    "a.put(3)\n",
    "\n",
    "print('qsize?')\n",
    "print('a : ', a.qsize())\n",
    "print('b : ', b.qsize())\n",
    "print()\n",
    "\n",
    "print('Empty?')\n",
    "print('a : ', a.empty())\n",
    "print('b : ', b.empty())\n",
    "print()\n",
    "\n",
    "print('Full?')\n",
    "print('a : ', a.full())\n",
    "print('b : ', b.full())"
   ]
  },
  {
   "cell_type": "markdown",
   "metadata": {},
   "source": [
    "***\n",
    "#### 2) LifoQueue() Class\n",
    "##### queue.LifoQueue() : LIFO Queue이다 "
   ]
  },
  {
   "cell_type": "code",
   "execution_count": 43,
   "metadata": {},
   "outputs": [
    {
     "name": "stdout",
     "output_type": "stream",
     "text": [
      "3\n",
      "SNU\n",
      "2\n"
     ]
    }
   ],
   "source": [
    "import queue\n",
    "a = queue.LifoQueue(3)\n",
    "a.put('Kim')\n",
    "a.put(55)\n",
    "a.put('SNU')\n",
    "print(a.qsize())\n",
    "print(a.get()) # Last in인 SNU가 나온다.\n",
    "print(a.qsize())"
   ]
  },
  {
   "cell_type": "markdown",
   "metadata": {},
   "source": [
    "***\n",
    "#### 3) PriorityQueue() Class\n",
    "##### queue.PriorityQueue() : 오름차순 순으로 정렬되서 queue를 생성한다."
   ]
  },
  {
   "cell_type": "code",
   "execution_count": 45,
   "metadata": {},
   "outputs": [
    {
     "name": "stdout",
     "output_type": "stream",
     "text": [
      "3\n",
      "1\n",
      "2\n"
     ]
    }
   ],
   "source": [
    "import queue\n",
    "a = queue.PriorityQueue(3)\n",
    "a.put(20)\n",
    "a.put(1)\n",
    "a.put(9)\n",
    "print(a.qsize())\n",
    "print(a.get()) #제일 작은 숫자인 1이 return된다\n",
    "print(a.qsize()) "
   ]
  },
  {
   "cell_type": "markdown",
   "metadata": {},
   "source": [
    "## 4. heapq Module\n",
    "- min Heap or Priority Queue라고도 불림\n",
    "- Heap은 Complete binary tree이다.(parent는 child보다 같거나 작다.)\n",
    "- 가장작은 값이 root이다."
   ]
  },
  {
   "cell_type": "markdown",
   "metadata": {},
   "source": [
    "***\n",
    "##### heapq module의 Fuctions_1\n",
    "##### - heapq.push(heap, item) : heap에 item이라는 value를 넣는다.\n",
    "##### - heapq.pop(heap) : heap에서 가장 작은 item을 return한다.\n",
    "##### - heapq.pushpop(heap, item) : heap에 item을 넣고(heap형식에 맞게 들어감) 가장 작은 item을 return 한다"
   ]
  },
  {
   "cell_type": "code",
   "execution_count": 46,
   "metadata": {},
   "outputs": [
    {
     "name": "stdout",
     "output_type": "stream",
     "text": [
      "(1, 'write sepc')\n",
      "(3, 'create tests')\n",
      "[(5, 'write code'), (7, 'release product'), (11, 'push pop')]\n"
     ]
    }
   ],
   "source": [
    "from heapq import *\n",
    "h = []\n",
    "heappush(h, (5, 'write code')) # (5, 'write code')라는 tuple을 push한 것.\n",
    "heappush(h, (7, 'release product'))\n",
    "heappush(h, (1, 'write sepc'))\n",
    "heappush(h, (3, 'create tests'))\n",
    "\n",
    "print(heappop(h)) # h에서 제일 작은 (1, 'write sepc) 튜플이 return됨\n",
    "print(heappushpop(h, (11, 'push pop'))) # h에 (11, 'push pop') 튜플이 들어가고 제일 작은 튜플이 return됨\n",
    "\n",
    "print(h)"
   ]
  },
  {
   "cell_type": "markdown",
   "metadata": {},
   "source": [
    "***\n",
    "##### heapq module의 Fuctions_2\n",
    "##### - heapq.heapify(x) : list x를 heap형식에 맞게 변형해준다\n",
    "##### - heapq.heapreplace(heap, item) : heappushpop()은 push를 먼저해주고 pop()을해주는데 <br> heapreplace는 pop하고 push해줌"
   ]
  },
  {
   "cell_type": "code",
   "execution_count": 15,
   "metadata": {},
   "outputs": [
    {
     "name": "stdout",
     "output_type": "stream",
     "text": [
      "[1, 3, 7, 5, 3]\n"
     ]
    }
   ],
   "source": [
    "from heapq import *\n",
    "# 질문! heapify는 언제 쓰는거지? :google\n",
    "# 적용방식이 잘못됐었음 이렇게 되면 됨.\n",
    "a = [3,5,7,1,3]\n",
    "heapify(a)\n",
    "print(a)# -> 이렇게 하면 heapify됨 [1,3,3,5,7]\n",
    "heappop(a) # 질문! 이건 왜 return값이 5지?"
   ]
  },
  {
   "cell_type": "code",
   "execution_count": 59,
   "metadata": {},
   "outputs": [
    {
     "name": "stdout",
     "output_type": "stream",
     "text": [
      "(0, 'heap')\n",
      "[(1, 'write sepc'), (3, 'create tests'), (5, 'write code'), (7, 'release product')]\n"
     ]
    }
   ],
   "source": [
    "#heappushpop()\n",
    "from heapq import *\n",
    "\n",
    "h = []\n",
    "\n",
    "heappush(h, (5, 'write code')) # (5, 'write code')라는 tuple을 push한 것.\n",
    "heappush(h, (7, 'release product'))\n",
    "heappush(h, (1, 'write sepc'))\n",
    "heappush(h, (3, 'create tests'))\n",
    "\n",
    "print(heappushpop(h, (0, 'heap'))) # h에 (11, 'push pop') 튜플이 들어가고 제일 작은 튜플이 return됨\n",
    "print(h)"
   ]
  },
  {
   "cell_type": "code",
   "execution_count": 61,
   "metadata": {},
   "outputs": [
    {
     "name": "stdout",
     "output_type": "stream",
     "text": [
      "(1, 'write sepc')\n",
      "[(0, 'heap'), (3, 'create tests'), (5, 'write code'), (7, 'release product')]\n"
     ]
    }
   ],
   "source": [
    "#heapreplace()\n",
    "from heapq import *\n",
    "\n",
    "h = []\n",
    "\n",
    "heappush(h, (5, 'write code')) # (5, 'write code')라는 tuple을 push한 것.\n",
    "heappush(h, (7, 'release product'))\n",
    "heappush(h, (1, 'write sepc'))\n",
    "heappush(h, (3, 'create tests'))\n",
    "\n",
    "print(heapreplace(h, (0, 'heap'))) # h에 (11, 'push pop') 튜플이 들어가고 제일 작은 튜플이 return됨\n",
    "print(h)"
   ]
  },
  {
   "cell_type": "markdown",
   "metadata": {},
   "source": [
    "***\n",
    "##### heapq module의 Fuctions_3\n",
    "##### - heapq.nlargest(n, iterable, key = None) : n개만큼 h에서 가장 큰 요소들을 return \n",
    "##### - heapq.nsmallest(n, iterable, key = None) : n개만큼 h에서 가장 작은 요소들을 return  "
   ]
  },
  {
   "cell_type": "code",
   "execution_count": 62,
   "metadata": {},
   "outputs": [
    {
     "name": "stdout",
     "output_type": "stream",
     "text": [
      "[(7, 'release product'), (5, 'write code'), (3, 'create tests')]\n",
      "\n",
      "[(1, 'write sepc'), (3, 'create tests'), (5, 'write code')]\n"
     ]
    }
   ],
   "source": [
    "from heapq import *\n",
    "h = []\n",
    "heappush(h, (5, 'write code')) # (5, 'write code')라는 tuple을 push한 것.\n",
    "heappush(h, (7, 'release product'))\n",
    "heappush(h, (1, 'write sepc'))\n",
    "heappush(h, (3, 'create tests'))\n",
    "\n",
    "print(nlargest(3, h))\n",
    "print()\n",
    "print(nsmallest(3, h))"
   ]
  },
  {
   "cell_type": "markdown",
   "metadata": {},
   "source": [
    "## 5. bisect Module\n",
    "- 정렬된 리스트를 관리위한 함수로 항목 추가를 위한 insort와 검색을 위한 bisect 함수를 제공하여 별도의 정렬이 필요없도록 한다.\n",
    "- \n",
    "- "
   ]
  },
  {
   "cell_type": "code",
   "execution_count": 70,
   "metadata": {},
   "outputs": [
    {
     "name": "stdout",
     "output_type": "stream",
     "text": [
      "C\n",
      "C\n",
      "D\n",
      "D\n",
      "F\n"
     ]
    },
    {
     "data": {
      "text/plain": [
       "['E', 'A', 'B', 'E', 'F', 'A']"
      ]
     },
     "execution_count": 70,
     "metadata": {},
     "output_type": "execute_result"
    }
   ],
   "source": [
    "from bisect import bisect\n",
    "grades = 'FEDCBA'\n",
    "breakpoints = [30, 44, 66, 75, 85]\n",
    "def grade(total):\n",
    "    return grades[bisect(breakpoints, total)]\n",
    "print(grade(74))\n",
    "print(grade(66))\n",
    "print(grade(65))\n",
    "print(grade(44))\n",
    "print(grade(29))\n",
    "\n",
    "grade_map = map(grade, [33, 99 ,77, 33, 12 ,88])\n",
    "grade_map\n",
    "list(grade_map) # [33, 99 ,77, 33, 12 ,88]가 grade함수에 적용된 모습을 list형식으로 return해서 보여준다."
   ]
  },
  {
   "cell_type": "markdown",
   "metadata": {},
   "source": [
    "***\n",
    "##### bisect module의 Fuctions_1<br>\n",
    "##### - bisect.bisect(a, x, lo=0, hi=len(a) : x는 어디 group(partition)에 속하냐? <br>    bisect는 a의 element가 시작점이 되어 구역을 나눈다<br>\n",
    "##### - bisect.bisect_left(a, x, lo=0, hi=len(a)) : x는 어디 group(partition)에 속하냐? <br>   bisect_left는 a의 element가 끝점이 되어 구역을 나눈다<br>"
   ]
  },
  {
   "cell_type": "code",
   "execution_count": 76,
   "metadata": {},
   "outputs": [
    {
     "name": "stdout",
     "output_type": "stream",
     "text": [
      "[10, 20, 30, 40, 50]\n",
      "20 bisect_left group # :  1\n",
      "20 bisect group # :  2\n",
      "10 bisect_left group # :  0\n",
      "10 bisect group # :  1\n"
     ]
    }
   ],
   "source": [
    "\\from bisect import bisect, bisect_left\n",
    "\n",
    "lst = [10, 20, 30, 40, 50]\n",
    "\n",
    "print(lst)\n",
    "print('20 bisect_left group # : ', bisect_left(lst, 20))\n",
    "print('20 bisect group # : ', bisect(lst, 20))\n",
    "print('10 bisect_left group # : ', bisect_left(lst, 10))\n",
    "print('10 bisect group # : ', bisect(lst, 10))"
   ]
  },
  {
   "cell_type": "markdown",
   "metadata": {},
   "source": [
    "***\n",
    "# 질문!!!!!!!! bisect insort\n",
    "##### bisect module의 Fuctions_2<br>\n",
    "##### - bisect.insort_left(a, x, lo=0, hi=len(a)) <br>    bisect는 a의 element가 시작점이 되어 구역을 나눈다<br>\n",
    "##### - bisect.bisect_left(a, x, lo=0, hi=len(a)) : x는 어디 group(partition)에 속하냐? <br>   bisect_left는 a의 element가 끝점이 되어 구역을 나눈다<br>"
   ]
  },
  {
   "cell_type": "code",
   "execution_count": 20,
   "metadata": {},
   "outputs": [
    {
     "name": "stdout",
     "output_type": "stream",
     "text": [
      " 4  0 [4]\n",
      " 6  1 [4, 6]\n",
      " 6  2 [4, 6, 6]\n",
      " 6  3 [4, 6, 6, 6]\n",
      "24  4 [4, 6, 6, 6, 24]\n"
     ]
    }
   ],
   "source": [
    "import bisect\n",
    "import random\n",
    "random.seed(2)\n",
    "\n",
    "l = []\n",
    "r = [4,6,6,6,24,11]\n",
    "for i in range(5) :\n",
    "    pos = bisect.bisect(l, r[i])\n",
    "    bisect.insort(l,r[i])\n",
    "    print('%2d %2d' % (r[i], pos), l)"
   ]
  },
  {
   "cell_type": "code",
   "execution_count": 18,
   "metadata": {},
   "outputs": [
    {
     "name": "stdout",
     "output_type": "stream",
     "text": [
      " 4  0 [4]\n",
      " 6  1 [4, 6]\n",
      " 6  1 [4, 6, 6]\n",
      "24  3 [4, 6, 6, 24]\n",
      "11  3 [4, 6, 6, 11, 24]\n"
     ]
    }
   ],
   "source": [
    "import bisect\n",
    "import random\n",
    "random.seed(2)\n",
    "\n",
    "l = []\n",
    "for i in range(5) :\n",
    "    r = random.randint(1, 50)\n",
    "    pos = bisect.bisect_left(l, r)\n",
    "    bisect.insort_left(l,r)\n",
    "    print('%2d %2d' % (r, pos), l)"
   ]
  },
  {
   "cell_type": "code",
   "execution_count": 24,
   "metadata": {},
   "outputs": [
    {
     "name": "stdout",
     "output_type": "stream",
     "text": [
      " 4  0 [4]\n",
      " 6  1 [4, 6]\n",
      " 6  2 [4, 6, 6]\n",
      " 6  3 [4, 6, 6, 6]\n",
      " 6  4 [4, 6, 6, 6, 6]\n",
      "24  5 [4, 6, 6, 6, 6, 24]\n",
      "11  5 [4, 6, 6, 6, 6, 11, 24]\n"
     ]
    }
   ],
   "source": [
    "import bisect\n",
    "import random\n",
    "random.seed(2)\n",
    "\n",
    "l = []\n",
    "r = [4,6,6,6,6,24,11]\n",
    "for i in range(7) :\n",
    "    pos = bisect.bisect(l, r[i])\n",
    "    bisect.insort(l,r[i])\n",
    "    print('%2d %2d' % (r[i], pos), l)"
   ]
  },
  {
   "cell_type": "code",
   "execution_count": 25,
   "metadata": {},
   "outputs": [
    {
     "name": "stdout",
     "output_type": "stream",
     "text": [
      " 4  0 [4]\n",
      " 6  1 [4, 6]\n",
      " 6  1 [4, 6, 6]\n",
      " 6  1 [4, 6, 6, 6]\n",
      " 6  1 [4, 6, 6, 6, 6]\n",
      "24  5 [4, 6, 6, 6, 6, 24]\n",
      "11  5 [4, 6, 6, 6, 6, 11, 24]\n"
     ]
    }
   ],
   "source": [
    "import bisect\n",
    "import random\n",
    "random.seed(2)\n",
    "\n",
    "l = []\n",
    "r = [4,6,6,6,6,24,11]\n",
    "for i in range(7) :\n",
    "    pos = bisect.bisect_left(l, r[i])\n",
    "    bisect.insort_left(l,r[i])\n",
    "    print('%2d %2d' % (r[i], pos), l)"
   ]
  }
 ],
 "metadata": {
  "kernelspec": {
   "display_name": "Python 3",
   "language": "python",
   "name": "python3"
  },
  "language_info": {
   "codemirror_mode": {
    "name": "ipython",
    "version": 3
   },
   "file_extension": ".py",
   "mimetype": "text/x-python",
   "name": "python",
   "nbconvert_exporter": "python",
   "pygments_lexer": "ipython3",
   "version": "3.6.1"
  }
 },
 "nbformat": 4,
 "nbformat_minor": 2
}
