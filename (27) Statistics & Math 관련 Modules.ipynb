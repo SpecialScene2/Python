{
 "cells": [
  {
   "cell_type": "markdown",
   "metadata": {},
   "source": [
    "## (27) Statistics & Math 관련 Modules"
   ]
  },
  {
   "cell_type": "markdown",
   "metadata": {},
   "source": [
    "### statistics module"
   ]
  },
  {
   "cell_type": "code",
   "execution_count": 3,
   "metadata": {},
   "outputs": [
    {
     "name": "stdout",
     "output_type": "stream",
     "text": [
      "2.8\n",
      "2.625\n",
      "3\n",
      "4.0 \n",
      "\n",
      "3\n",
      "4.0 \n",
      "\n",
      "3\n",
      "5\n",
      "52.5\n"
     ]
    }
   ],
   "source": [
    "from statistics import *\n",
    "\n",
    "print(mean([1,2,3,4,4]))\n",
    "print(mean([-1.0, 2.5, 3.25, 5.75]))\n",
    "# element 홀수개 일때\n",
    "print(median([1, 3, 5]))\n",
    "print(median([1, 3, 5, 7]),'\\n')\n",
    "\n",
    "# element 짝수개 일때 : median(), median_low(), median_high(), medain_grouped()\n",
    "print(median([1,3,5]))\n",
    "print(median([1,3,5,7]),'\\n')\n",
    "\n",
    "#elemnt 홀수개 일때\n",
    "print(median_low([1,3,5,7]))\n",
    "print(median_high([1,3,5,7]))\n",
    "print(median_grouped([52,52,53,54]))\n"
   ]
  },
  {
   "cell_type": "markdown",
   "metadata": {},
   "source": [
    "#### statistics Module - Functions\n",
    "#### mode() : 최빈값\n",
    "#### pstdev() : 모 표준편차\n",
    "#### pvariance() : 모 분산"
   ]
  },
  {
   "cell_type": "code",
   "execution_count": 18,
   "metadata": {},
   "outputs": [
    {
     "name": "stdout",
     "output_type": "stream",
     "text": [
      "3\n",
      "red \n",
      "\n",
      "0.986893273527251\n",
      "1.25\n",
      "1.375\n",
      "1.25 \n",
      "\n"
     ]
    }
   ],
   "source": [
    "from statistics import *\n",
    "#mode\n",
    "print(mode([1, 1, 2, 3, 3, 3, 3, 4])) \n",
    "print(mode(['red','blue','blue','red','greem','red','red']), '\\n')\n",
    "\n",
    "print(pstdev([1.5, 2.5, 2.5, 2.75, 3.25, 4.75]))\n",
    "# 수식으로 구해보기\n",
    "# case = [1.5, 2.5, 2.5, 2.75, 3.25, 4.75]\n",
    "# mu1 = mean(case)\n",
    "# c1=[]\n",
    "# for i in case:\n",
    "#     c1.append((i - mu1) ** 2)\n",
    "# print(((sum(c1)/len(case)) ** 0.5), '\\n')\n",
    "\n",
    "data = [0.0, 0.25, 0.25, 1.25, 1.5, 1.75, 2.75, 3.25]\n",
    "print(pvariance(data))\n",
    "\n",
    "mu = mean(data)\n",
    "print(mu)\n",
    "print(pvariance(data, mu), '\\n')\n",
    "\n",
    "# 수식으로 구해보기\n",
    "# c = []\n",
    "# for i in data:\n",
    "#     c.append((i - mu) ** 2)\n",
    "# print(sum(c)/len(data))"
   ]
  },
  {
   "cell_type": "markdown",
   "metadata": {},
   "source": [
    "#### statistics Module - Functions\n",
    "#### stdev() : 표본 표준편차\n",
    "#### variance() : 표본 분산"
   ]
  },
  {
   "cell_type": "code",
   "execution_count": 23,
   "metadata": {},
   "outputs": [
    {
     "name": "stdout",
     "output_type": "stream",
     "text": [
      "1.0810874155219827\n",
      "0.986893273527251\n",
      "pvariance :  1.1760204081632653\n",
      "sample_variance :  1.3720238095238095\n",
      "1.3720238095238095\n"
     ]
    }
   ],
   "source": [
    "from statistics import *\n",
    "\n",
    "print(stdev([1.5, 2.5, 2.5, 2.75, 3.25, 4.75]))\n",
    "print(pstdev([1.5, 2.5, 2.5, 2.75, 3.25, 4.75]))\n",
    "# 위 두식은 분모에 n이들어오느냐 n-1이들어오느냐가 다르기때문에 다른 값이 나옫다.\n",
    "\n",
    "data = [2.75, 1.75, 1.25, 0.25, 0.5, 1.25, 3.5]\n",
    "print('pvariance : ', pvariance(data))\n",
    "print('sample_variance : ', variance(data))\n",
    "mu = mean(data)\n",
    "print(variance(data,mu))"
   ]
  },
  {
   "cell_type": "markdown",
   "metadata": {},
   "source": [
    "#### Math Module"
   ]
  },
  {
   "cell_type": "code",
   "execution_count": 25,
   "metadata": {},
   "outputs": [
    {
     "name": "stdout",
     "output_type": "stream",
     "text": [
      "ceil of a :  -3\n",
      "floor of a :  -4\n",
      "fabs of a :  3.123\n",
      "factorial of b :  40320\n",
      "fmod of b,c :  2.0\n"
     ]
    }
   ],
   "source": [
    "import math\n",
    "\n",
    "a = -3.123\n",
    "b = 8\n",
    "c = 3\n",
    "\n",
    "print('ceil of a : ', math.ceil(a))\n",
    "print('floor of a : ', math.floor(a))\n",
    "print('fabs of a : ', math.fabs(a))\n",
    "print('factorial of b : ', math.factorial(b))\n",
    "print('fmod of b,c : ', math.fmod(b,c))"
   ]
  },
  {
   "cell_type": "code",
   "execution_count": 26,
   "metadata": {},
   "outputs": [
    {
     "name": "stdout",
     "output_type": "stream",
     "text": [
      "log a b :  2.0\n",
      "pow of a, b :  16.0\n",
      "sqrt of a :  5.0\n",
      "sin(pi) :  1.2246467991473532e-16\n",
      "cos(pi) :  -1.0\n",
      "tan(pi) :  -1.2246467991473532e-16\n"
     ]
    }
   ],
   "source": [
    "import math\n",
    "\n",
    "a = 2\n",
    "b = 4\n",
    "c = 25\n",
    "\n",
    "print('log a b : ', math.log(b, a))\n",
    "print('pow of a, b : ', math.pow(a,b))\n",
    "print('sqrt of a : ', math.sqrt(c))\n",
    "print('sin(pi) : ', math.sin(math.pi))\n",
    "print('cos(pi) : ', math.cos(math.pi))\n",
    "print('tan(pi) : ', math.tan(math.pi))"
   ]
  },
  {
   "cell_type": "code",
   "execution_count": 27,
   "metadata": {},
   "outputs": [
    {
     "name": "stdout",
     "output_type": "stream",
     "text": [
      "degrees of pi :  180.0\n",
      "radians of 180 :  0.05483113556160755\n",
      "cosh of pi :  11.591953275521519\n",
      "sinh of pi :  11.548739357257746\n",
      "tanh of pi :  0.99627207622075\n"
     ]
    }
   ],
   "source": [
    "import math\n",
    "\n",
    "print('degrees of pi : ', math.degrees(math.pi))\n",
    "print('radians of 180 : ', math.radians(math.pi))\n",
    "print('cosh of pi : ', math.cosh(math.pi))\n",
    "print('sinh of pi : ', math.sinh(math.pi))\n",
    "print('tanh of pi : ', math.tanh(math.pi))"
   ]
  },
  {
   "cell_type": "markdown",
   "metadata": {},
   "source": [
    "#### random module"
   ]
  },
  {
   "cell_type": "code",
   "execution_count": 29,
   "metadata": {},
   "outputs": [
    {
     "name": "stdout",
     "output_type": "stream",
     "text": [
      "0.9560342718892494\n",
      "0.9560342718892494\n",
      "0.9560342718892494\n"
     ]
    }
   ],
   "source": [
    "import random\n",
    "\n",
    "random.seed(2)\n",
    "a = random.random()\n",
    "\n",
    "# seed값을 줘서 random값이 일정함을 알 수 있다.\n",
    "print(a)\n",
    "print(a)\n",
    "print(a)"
   ]
  },
  {
   "cell_type": "code",
   "execution_count": 33,
   "metadata": {},
   "outputs": [
    {
     "name": "stdout",
     "output_type": "stream",
     "text": [
      "0.23796462709189137\n",
      "0.5442292252959519\n",
      "0.36995516654807925\n",
      "0.6039200385961945\n",
      "0.625720304108054\n",
      "\n",
      "0.23796462709189137\n",
      "0.5442292252959519\n",
      "0.36995516654807925\n",
      "0.6039200385961945\n",
      "0.625720304108054\n"
     ]
    }
   ],
   "source": [
    "# seed관련 예제 : random값이 일정하게 뽑히는 것을 볼 수 있다.\n",
    "import random\n",
    "random.seed(3)\n",
    "for i in range(5):\n",
    "    print(random.random())\n",
    "\n",
    "print()\n",
    "random.seed(3)\n",
    "for i in range(5):\n",
    "    print(random.random())\n"
   ]
  },
  {
   "cell_type": "code",
   "execution_count": 30,
   "metadata": {},
   "outputs": [
    {
     "name": "stdout",
     "output_type": "stream",
     "text": [
      "seed(3)\n",
      "a :  0.23796462709189137\n",
      "b :  0.23796462709189137\n"
     ]
    }
   ],
   "source": [
    "import random\n",
    "\n",
    "random.seed(3)\n",
    "a = random.random()\n",
    "random.seed(3)\n",
    "b = random.random()\n",
    "\n",
    "#다음결과로 seed가 정해졌을때 random값이 동일하게 뽑히는 것을 알 수 있다.\n",
    "print('seed(3)')\n",
    "print('a : ', a)\n",
    "print('b : ', b)"
   ]
  },
  {
   "cell_type": "code",
   "execution_count": 34,
   "metadata": {},
   "outputs": [
    {
     "name": "stdout",
     "output_type": "stream",
     "text": [
      "seed()\n",
      "c :  0.07658835363707983\n",
      "d :  0.9724437242217252\n"
     ]
    }
   ],
   "source": [
    "import random\n",
    "\n",
    "random.seed()\n",
    "c = random.random()\n",
    "random.seed()\n",
    "d= random.random()\n",
    "\n",
    "print('seed()')\n",
    "print('c : ', c)\n",
    "print('d : ', d)\n",
    "#c와 d가 다른 이유는 시간이 초단위로 달라졌기 때문에"
   ]
  },
  {
   "cell_type": "code",
   "execution_count": 49,
   "metadata": {},
   "outputs": [
    {
     "name": "stdout",
     "output_type": "stream",
     "text": [
      "uniform(3,10) :  7.909352494475736\n",
      "randint(3,10) :  10\n",
      "randrange(10) :  8\n",
      "randrange(0,15,5) :  5\n"
     ]
    }
   ],
   "source": [
    "import random\n",
    "\n",
    "a = random.uniform(3, 10) # [3,10] 범위에서 숫자중 random하게 한개 뽑아줌(floattype)\n",
    "b = random.randint(3, 10) # [3,10] 범위에서 정수 중 random하게 한개 뽑아줌 [3,10]\n",
    "c = random.randrange(10) # [0,10) 범위에서 정수 중 random하게 한개 뽑아줌 [0,10)\n",
    "d = random.randrange(0,15,5) # [0,15) 범위에서 5의배수인 정수 중 random하게 한개 뽑아줌 : 0,5,10 가능\n",
    "\n",
    "print('uniform(3,10) : ', a)\n",
    "print('randint(3,10) : ', b)\n",
    "print('randrange(10) : ', c)\n",
    "print('randrange(0,15,5) : ', d)"
   ]
  },
  {
   "cell_type": "code",
   "execution_count": 50,
   "metadata": {},
   "outputs": [
    {
     "name": "stdout",
     "output_type": "stream",
     "text": [
      "choice(a) :  b\n",
      "shuffle(b) :  [5, 2, 6, 4, 1, 3, 7]\n",
      "sample(c, 3) :  [2, 4, 1]\n"
     ]
    }
   ],
   "source": [
    "import random\n",
    "\n",
    "a = 'abcdefghij'\n",
    "b = [1, 2, 3, 4, 5, 6, 7]\n",
    "random.shuffle(b)\n",
    "c = [1, 2, 3, 4, 5]\n",
    "\n",
    "print('choice(a) : ', random.choice(a)) # 문자 element중 random하게 하나 뽑아줌\n",
    "print('shuffle(b) : ', b) # b를 섞어줌\n",
    "print('sample(c, 3) : ', random.sample(c, 3)) # c에서 3개 random하게 뽑아줌"
   ]
  },
  {
   "cell_type": "code",
   "execution_count": 59,
   "metadata": {},
   "outputs": [
    {
     "name": "stdout",
     "output_type": "stream",
     "text": [
      "1\n",
      "3\n",
      "5\n",
      "4\n",
      "2\n"
     ]
    }
   ],
   "source": [
    "# random_pop.py\n",
    "import random\n",
    "def random_pop(data):\n",
    "    number = random.randint(0, len(data)-1) #data의 index를 random하게 뽑는다.\n",
    "    return data.pop(number)\n",
    "\n",
    "if __name__ == '__main__':\n",
    "    data = [1,2,3,4,5]\n",
    "    while data: print(random_pop(data))"
   ]
  },
  {
   "cell_type": "code",
   "execution_count": 61,
   "metadata": {},
   "outputs": [
    {
     "name": "stdout",
     "output_type": "stream",
     "text": [
      "2\n",
      "1\n",
      "5\n",
      "4\n",
      "3\n"
     ]
    }
   ],
   "source": [
    "# random_pop.py2\n",
    "import random\n",
    "def random_pop(data):\n",
    "    number = random.choice(data) # data의 element를 random하게 뽑는다.\n",
    "    data.remove(number) #그걸 data에서 찾아서 지우고\n",
    "    return number # return 해준다.\n",
    "\n",
    "if __name__ == '__main__':\n",
    "    data = [1,2,3,4,5]\n",
    "    while data:\n",
    "        print(random_pop(data))"
   ]
  }
 ],
 "metadata": {
  "kernelspec": {
   "display_name": "Python 3",
   "language": "python",
   "name": "python3"
  },
  "language_info": {
   "codemirror_mode": {
    "name": "ipython",
    "version": 3
   },
   "file_extension": ".py",
   "mimetype": "text/x-python",
   "name": "python",
   "nbconvert_exporter": "python",
   "pygments_lexer": "ipython3",
   "version": "3.6.1"
  }
 },
 "nbformat": 4,
 "nbformat_minor": 2
}
