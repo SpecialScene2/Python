{
 "cells": [
  {
   "cell_type": "markdown",
   "metadata": {},
   "source": [
    "## (20) Tkinter(17.08.23~24)\n",
    "### - .pack()은 위젯에 적용한다."
   ]
  },
  {
   "cell_type": "code",
   "execution_count": 2,
   "metadata": {
    "collapsed": true
   },
   "outputs": [],
   "source": [
    "from tkinter import *\n",
    "root = Tk()\n",
    "root.title(\"A simple application\")\n",
    "#윈도우창 제일 상단에 A simple applicaiton이라고 제목이 들어간다.\n",
    "root.mainloop()"
   ]
  },
  {
   "cell_type": "code",
   "execution_count": null,
   "metadata": {
    "collapsed": true
   },
   "outputs": [],
   "source": [
    "from tkinter import *\n",
    "\n",
    "root=Tk()\n",
    "#Canvas Class에서 instance \n",
    "canvas = Canvas(root) # root에 Canvas 넣어준다는 뜻"
   ]
  },
  {
   "cell_type": "code",
   "execution_count": null,
   "metadata": {
    "collapsed": true
   },
   "outputs": [],
   "source": [
    "# 실행은 안되지만 이런 parmeter들이 나온다는 것을 알아두자.\n",
    "root = Tk()\n",
    "canvas = Canvas(root, width=width, height=height) #Canvas 크기 정해줄때 이렇게 사용함.\n",
    "canvas.pack()\n",
    "draw(canvas, width, height)\n",
    "root.mainloop()"
   ]
  },
  {
   "cell_type": "code",
   "execution_count": 29,
   "metadata": {
    "collapsed": true
   },
   "outputs": [],
   "source": [
    "import os\n",
    "os.chdir('F:\\\\workspace(jupyter)')\n",
    "\n",
    "from tkinter import *\n",
    "root = Tk()\n",
    "#columnconfigure, rowconfigure가 하는 일을 모르겠음. weight가중치줘서 공간 분할할때 쓴다\n",
    "# 예를들어 3,1 로 주면 공간분할할때 3/4, 1/4로 공간 분할한다.\n",
    "root.columnconfigure(0, weight =0)\n",
    "root.rowconfigure(0, weight = 0)\n",
    "\n",
    "canvas = Canvas(root)\n",
    "canvas.grid(column=0, row=0, sticky=(N,W,E,S)) # sticky옵션 : 정렬 옵션을 뜻한다.\n",
    "photo = PhotoImage(file=\"test.gif\")\n",
    "canvas.create_image(100,100,image=photo)\n",
    "\n",
    "root.mainloop()"
   ]
  },
  {
   "cell_type": "markdown",
   "metadata": {},
   "source": [
    "## Canvas() : Tk class에 도화지를 집어넣는다 생각하자"
   ]
  },
  {
   "cell_type": "code",
   "execution_count": 35,
   "metadata": {
    "collapsed": true,
    "scrolled": true
   },
   "outputs": [],
   "source": [
    "from tkinter import *\n",
    "root = Tk()\n",
    "#columnconfigure : 셀 열에 대한 옵션을 설정\n",
    "root.columnconfigure(0, weight = 1)\n",
    "root.rowconfigure(0, weight = 1)\n",
    "\n",
    "# ★★canvas라는 변수를 Canvas클라스로 지정해준다 / root에 Canvas를 집어넣는다.★★\n",
    "canvas = Canvas(root)\n",
    "\n",
    "# grid를 안해주면 도화지가 형성안된다고 생각하자 grid없이는 line이 안 그려짐.\n",
    "# grid는 에디트텍스트와 텍스트뷰가 표시될 화면 위치를 말합니다.\n",
    "# sticky는 정렬옵션을 나타내는데 여기서는 N,W,E,S어떤걸 써도 변화 없다.\n",
    "canvas.grid(column=0, row=0, sticky=(N))\n",
    "canvas.create_line(10,10,10,100) # create_line(시작x, 시작y, 끝x, 끝y)\n",
    "canvas.create_line(10,10,100,10)\n",
    "canvas.create_rectangle(100,100,150,150) # create_rectangle(시작x, 시작y, 우하단x, 우하단y)\n",
    "canvas.create_oval(200,100,250,150) # create_oval(좌상단x, 좌하단y, 우하단x, 우하단y)\n",
    "canvas.create_arc(200,200,300,300) #arc는 부채꼴을 뜻한다.\n",
    "canvas.create_polygon(280,150,280,100,350,150,360,100,380,250) \n",
    "# create_polygon(x0,y0, x1,y1, ......) :x0~x끝 까지 차례대로 이어준다.\n",
    "canvas.create_text(100,200, text=\"할수있닼\") # create_text(배치위치x, 배치위치y, text = '')\n",
    "\n",
    "# PhotoImage와 canvas.create_image(배치위치x, 배치위치y, image=Photoimage변수) 세트로 알아두자\n",
    "image = PhotoImage(file=\"F:\\\\workspace(jupyter)\\\\Python Course\\\\Canvas\\\\manu.gif\")\n",
    "canvas.create_image(200,40,image=image)\n",
    "\n",
    "root.mainloop()"
   ]
  },
  {
   "cell_type": "code",
   "execution_count": 37,
   "metadata": {},
   "outputs": [
    {
     "name": "stdout",
     "output_type": "stream",
     "text": [
      "bye!\n"
     ]
    }
   ],
   "source": [
    "# Canvas_1\n",
    "# 여기서는 draw함수에 따로 구체적인 것을 정의해준 적이 없기 때문에, 창만 하나뜨고 다른 것은 안 뜬다.\n",
    "# 종료하면 bye!라는 글자만 print됨\n",
    "from tkinter import *\n",
    "\n",
    "def draw(canvas, width, height):\n",
    "    pass\n",
    "\n",
    "def runDrawing(width=300, height = 300):\n",
    "    root = Tk()\n",
    "    canvas = Canvas(root, width=width, height = height)\n",
    "    canvas.pack()\n",
    "    draw(canvas, width, height)\n",
    "    root.mainloop()\n",
    "    print(\"bye!\")\n",
    "\n",
    "runDrawing(400,200)"
   ]
  },
  {
   "cell_type": "code",
   "execution_count": 41,
   "metadata": {},
   "outputs": [
    {
     "name": "stdout",
     "output_type": "stream",
     "text": [
      "bye!\n"
     ]
    }
   ],
   "source": [
    "# Canvas_2 : 네모를 그려보자\n",
    "#create_rectangle(시작점_x, 시작점_y, 끝_x, 끝_y)\n",
    "from tkinter import *\n",
    "\n",
    "def draw(canvas, width, height):\n",
    "    #네모 그리는 부분\n",
    "    canvas.create_rectangle(0,0,10,150, fill=\"yellow\")\n",
    "\n",
    "def runDrawing(width=300, height = 300):\n",
    "    root = Tk()\n",
    "    canvas = Canvas(root, width=width, height = height)\n",
    "    canvas.pack()\n",
    "    draw(canvas, width, height)\n",
    "    root.mainloop()\n",
    "    print(\"bye!\")\n",
    "\n",
    "runDrawing(400,200)"
   ]
  },
  {
   "cell_type": "code",
   "execution_count": 45,
   "metadata": {},
   "outputs": [
    {
     "name": "stdout",
     "output_type": "stream",
     "text": [
      "bye!\n"
     ]
    }
   ],
   "source": [
    "# Canvas_3 : 네모를 그려보자\n",
    "from tkinter import *\n",
    "\n",
    "def draw(canvas, width, height):\n",
    "    canvas.create_rectangle(0,0,150,150, fill = \"yellow\")\n",
    "    #outline 추가\n",
    "    canvas.create_rectangle(100, 50, 250, 100, fill=\"green\", outline=\"red\", width=3)\n",
    "    canvas.create_rectangle(125,25,175, 190, fill = \"purple\", width =0)\n",
    "#     canvas.create_rectangle(125,25,100, 0, fill = \"purple\", width =0)\n",
    "    \n",
    "def runDrawing(width=300, height = 300):\n",
    "    root = Tk()\n",
    "    canvas = Canvas(root, width=width, height = height)\n",
    "    canvas.pack()\n",
    "    draw(canvas, width, height)\n",
    "    root.mainloop()\n",
    "    print(\"bye!\")\n",
    "\n",
    "runDrawing(400,200)"
   ]
  },
  {
   "cell_type": "code",
   "execution_count": 46,
   "metadata": {},
   "outputs": [
    {
     "name": "stdout",
     "output_type": "stream",
     "text": [
      "bye!\n"
     ]
    }
   ],
   "source": [
    "# Canvas_4 : 네모속에 네모 그리기\n",
    "# margin 여백 설정\n",
    "def draw(canvas, width, height):\n",
    "    margin = 10 #여백\n",
    "    #겉 사각형\n",
    "    canvas.create_rectangle(margin, margin, width-margin, height-margin, fill= \"darkGreen\")\n",
    "\n",
    "    #cx, cy는 center\n",
    "    (cx,cy) = (width/2, height/2)\n",
    "    #cx, cy로부터 최단거리로 가로변 혹은 세로변의 길이를 구해서 사각형을 그리는 것이다.\n",
    "    (rectWidth, rectHeight) = (width/4, height/4)\n",
    "    #속 사각형\n",
    "    canvas.create_rectangle(cx - rectWidth/2, cy - rectHeight/2, cx + rectWidth/2, cy + rectHeight/2, fill = \"orange\")\n",
    "    \n",
    "runDrawing(400,200)"
   ]
  },
  {
   "cell_type": "code",
   "execution_count": 48,
   "metadata": {},
   "outputs": [
    {
     "name": "stdout",
     "output_type": "stream",
     "text": [
      "bye!\n"
     ]
    }
   ],
   "source": [
    "# Canvas_5 : 네모 분할 및 색깔 칠하기.\n",
    "from tkinter import *\n",
    "\n",
    "def runDrawing(width=500, height = 300):\n",
    "    root = Tk()\n",
    "    canvas = Canvas(root, width=width, height = height)\n",
    "    canvas.pack()\n",
    "    draw(canvas, width, height)\n",
    "    root.mainloop()\n",
    "    print(\"bye!\")\n",
    "\n",
    "# '#'으로 rgb가 뒤에 나올 것임을 알려주는 것 / 그것을 12진수(=x)로 나타내주는 것이다.\n",
    "def rgbString(red, green, blue):\n",
    "    return \"#%02x%02x%02x\" % (red, green, blue)\n",
    "\n",
    "def draw(canvas, width, height):\n",
    "    #pistachio, maroon은 r/g/b값을 각각 갖고 있다.\n",
    "    pistachio = rgbString(147, 197, 114)\n",
    "    maroon = rgbString(176, 48, 96)\n",
    "    canvas.create_rectangle(0, 0, width/2, height/2, fill = pistachio)\n",
    "    #중앙점에서 시작해서 끝점까지를 범위잡음\n",
    "    canvas.create_rectangle(width/2, height/2, width, height, fill=maroon)\n",
    "    \n",
    "runDrawing()"
   ]
  },
  {
   "cell_type": "code",
   "execution_count": 4,
   "metadata": {},
   "outputs": [
    {
     "name": "stdout",
     "output_type": "stream",
     "text": [
      "bye!\n"
     ]
    }
   ],
   "source": [
    "# Canvas_5 : 네모 분할 및 색깔 칠하기.\n",
    "\n",
    "from tkinter import *\n",
    "\n",
    "def runDrawing(width=500, height = 300):\n",
    "    root = Tk()\n",
    "    canvas = Canvas(root, width=width, height = height)\n",
    "    canvas.pack()\n",
    "    draw(canvas, width, height) # draw함수로 넘어가게해준다\n",
    "    root.mainloop()\n",
    "    print(\"bye!\")\n",
    "    \n",
    "def draw(canvas, width, height):\n",
    "    canvas.create_oval(100, 50, 300, 150, fill='yellow')\n",
    "    canvas.create_polygon(100,30,200,50,300,30,200,10, fill = 'green')\n",
    "    canvas.create_line(100, 50, 300, 150, fill= \"red\", width=50) # width는 선의 폭을 결정한다.\n",
    "    canvas.create_text(200, 100, text=\"Amazing\", fill =\"purple\", font= \"Helvetica 26 bold underline\")\n",
    "    canvas.create_text(200, 100, text=\"Carpe Diem!\", anchor =NW, fill=\"darkBlue\", font=\"Times 28 bold italic\")\n",
    "# anchor : 배치 위치를 결정해준다. / 여기서는 정반대인 곳에 위치함 / 0,0을 좌상단이라 생각해서 그런가???\n",
    "# anchor가 있어서 Amzing과 Carpe Diem의 시작위치는 같지만 글자가 겹치지 않는다.\n",
    "\n",
    "runDrawing()"
   ]
  },
  {
   "cell_type": "code",
   "execution_count": 56,
   "metadata": {},
   "outputs": [
    {
     "name": "stdout",
     "output_type": "stream",
     "text": [
      "bye!\n"
     ]
    }
   ],
   "source": [
    "# Canvas_6 : tuple 및 list를 인수로 활용하기\n",
    "from tkinter import *\n",
    "\n",
    "def runDrawing(width=500, height = 300):\n",
    "    root = Tk()\n",
    "    canvas = Canvas(root, width=width, height = height)\n",
    "    canvas.pack()\n",
    "    draw(canvas, width, height) # draw함수로 넘어가게해준다\n",
    "    root.mainloop()\n",
    "    print(\"bye!\")\n",
    "    \n",
    "def draw(canvas, width, height):\n",
    "    canvas.create_oval((100,0), (0, 150), fill = \"yellow\") \n",
    "    # 위의 코드는 ()없애도 결과는 같다\n",
    "    canvas.create_polygon([(100,30),(200,50), (300,30),(200,10)], fill = 'green')\n",
    "    # 위의 코드는 []로 좌표들을 묶어주고 x,y를 ()로 묶어줌\n",
    "\n",
    "runDrawing()"
   ]
  },
  {
   "cell_type": "code",
   "execution_count": 59,
   "metadata": {},
   "outputs": [
    {
     "name": "stdout",
     "output_type": "stream",
     "text": [
      "bye!\n"
     ]
    }
   ],
   "source": [
    "# Canvas_7 : Belgium\n",
    "\n",
    "from tkinter import *\n",
    "\n",
    "def runDrawing(width=400, height = 400):\n",
    "    root = Tk()\n",
    "    canvas = Canvas(root, width=width, height = height)\n",
    "    canvas.pack()\n",
    "    draw(canvas, width, height)\n",
    "    root.mainloop()\n",
    "    print(\"bye!\")\n",
    "\n",
    "def drawBelgianFlag(canvas,x0,y0,x1,y1):\n",
    "    width = (x1 - x0)\n",
    "    canvas.create_rectangle(x0, y0, x0+width/3, y1, fill='black', width=0) # 첫번째 세로열\n",
    "    canvas.create_rectangle(x0+width/3, y0, x0+width*2/3, y1, fill='yellow', width = 0) # 두번째 세로열\n",
    "    canvas.create_rectangle(x0+width*2/3, y0, x1, y1, fill=\"red\", width=0)\n",
    "\n",
    "def draw(canvas, width, height):\n",
    "    #큰 벨기에 국기\n",
    "    drawBelgianFlag(canvas, 25, 25, 175, 150)\n",
    "    #작은 벨기에 국기\n",
    "    drawBelgianFlag(canvas, 75, 160, 125, 200)\n",
    "    \n",
    "    flagWidth = 30 # 작은 국기의 가로\n",
    "    flagHeight = 25 # 작은 국기의 세로\n",
    "    margin = 5 # margin이 작은 벨기에 깃발들 사이의 간격이 된다.\n",
    "    for row in range(4):\n",
    "        for col in range(6):\n",
    "            # 200, 50을 작은 깃발들이 그려지는 곳의 출발지로 기준으로 삼았음.\n",
    "            left = 200 + col * flagWidth + margin\n",
    "            top = 50 + row * flagHeight + margin\n",
    "            right = left + flagWidth - margin\n",
    "            bottom = top + flagHeight - margin\n",
    "            drawBelgianFlag(canvas, left, top, right, bottom)\n",
    "\n",
    "runDrawing()"
   ]
  },
  {
   "cell_type": "code",
   "execution_count": 60,
   "metadata": {},
   "outputs": [
    {
     "name": "stdout",
     "output_type": "stream",
     "text": [
      "bye!\n"
     ]
    }
   ],
   "source": [
    "# Canvas_8 : 시계그리기\n",
    "\n",
    "from tkinter import *\n",
    "import math\n",
    "\n",
    "def runDrawing(width=300, height = 300):\n",
    "    root = Tk()\n",
    "    canvas = Canvas(root, width=width, height = height)\n",
    "    canvas.pack()\n",
    "    draw(canvas, width, height)\n",
    "    root.mainloop()\n",
    "    print(\"bye!\")\n",
    "\n",
    "def draw(canvas, width, height):\n",
    "    (cx, cy, r) = (width/2, height/2, min(width, height)/3) # 질문 왜 3으로 나누지?\n",
    "    canvas.create_oval(cx-r, cy-r, cx+r, cy+r, fill = 'yellow')\n",
    "    r *=0.85 # 속에 85%만한 원을 하나 더 그린다.\n",
    "    \n",
    "    for hour in range(12):\n",
    "        hourAngle = math.pi/2-(2*math.pi)*(hour/12) #360에서 12등분한거다\n",
    "        hourX = cx + r * math.cos(hourAngle)\n",
    "        hourY = cy - r * math.sin(hourAngle)\n",
    "        label = str(hour if (hour > 0 ) else 12)\n",
    "        canvas.create_text(hourX, hourY, text=label, font=\"Arial 16 bold\")\n",
    "\n",
    "runDrawing()"
   ]
  },
  {
   "cell_type": "markdown",
   "metadata": {
    "collapsed": true
   },
   "source": [
    "## Frame"
   ]
  },
  {
   "cell_type": "code",
   "execution_count": 61,
   "metadata": {
    "collapsed": true
   },
   "outputs": [],
   "source": [
    "from tkinter import *\n",
    "root = Tk()\n",
    "# 윈도우 창 위에 제목이 생긴다. / title은 위젯이 아니다.\n",
    "root.title(\"A simple application\")\n",
    "root.mainloop()"
   ]
  },
  {
   "cell_type": "code",
   "execution_count": 62,
   "metadata": {
    "collapsed": true
   },
   "outputs": [],
   "source": [
    "from tkinter import *\n",
    "root = Tk()\n",
    "w = Label(root, text = \"Hello, world!\") # root안에 label을 넣는거다\n",
    "w.pack() # Put the label into the window / pack을 안하면 window창에 반영이 안된다.\n",
    "root.mainloop()"
   ]
  },
  {
   "cell_type": "code",
   "execution_count": 63,
   "metadata": {
    "collapsed": true
   },
   "outputs": [],
   "source": [
    "from tkinter import *\n",
    "root = Tk()\n",
    "\n",
    "mylabel = Label(root, text = \"Hello, label widget\")\n",
    "mylabel.pack()\n",
    "\n",
    "mybutton = Button(root, text =\"Press me! Button widget\")\n",
    "mybutton.pack()\n",
    "\n",
    "root.mainloop()"
   ]
  },
  {
   "cell_type": "code",
   "execution_count": 1,
   "metadata": {
    "collapsed": true
   },
   "outputs": [],
   "source": [
    "from tkinter import *\n",
    "\n",
    "root = Tk()\n",
    "# FRAME구성\n",
    "frame = Frame(root) # root에 Frame을 넣는다. : 다른 위젯들을 그룹화 할 때 쓴다.\n",
    "frame.pack()\n",
    "bottomframe = Frame(root)\n",
    "bottomframe.pack(side = BOTTOM)\n",
    "\n",
    "redbutton = Button(frame, text = \"RED\", fg = 'red') #fg = 글씨색을 변경해줌\n",
    "redbutton.pack(side = LEFT)\n",
    "\n",
    "greenbutton = Button(frame, text = \"BROWN\", bg = 'brown')\n",
    "greenbutton.pack(side = LEFT)\n",
    "\n",
    "bluebutton = Button(frame, text = \"BLUE\", fg = 'blue')\n",
    "bluebutton.pack(side = LEFT)\n",
    "# 위에것들은 frame에 배치되고\n",
    "\n",
    "#여기서는 frame자리에 bottomframe이 들어가서 다른 frame에 위치하게 된다.\n",
    "blackbutton = Button(bottomframe, text = \"BLACK\", fg = 'black')\n",
    "blackbutton.pack(side = BOTTOM)\n",
    "\n",
    "root.mainloop()"
   ]
  },
  {
   "cell_type": "markdown",
   "metadata": {},
   "source": [
    "## Text관련 위젯"
   ]
  },
  {
   "cell_type": "code",
   "execution_count": 3,
   "metadata": {
    "collapsed": true
   },
   "outputs": [],
   "source": [
    "# Entry widget\n",
    "from tkinter import *\n",
    "\n",
    "root = Tk()\n",
    "\n",
    "w = Label(root, text = \"이름을 입력하세요\", height = 7)\n",
    "w.grid(row=1, column=1)\n",
    "\n",
    "tBox = Entry(root)\n",
    "tBox.grid(row=1, column=2, padx = 10) \n",
    "# padx -> padx값이 주어지면 위젯사이에 수평으로 간격이 생긴다  / Entry위젯의 좌측 공백이라 생각하면됨.\n",
    "\n",
    "root.mainloop()"
   ]
  },
  {
   "cell_type": "code",
   "execution_count": null,
   "metadata": {
    "collapsed": true
   },
   "outputs": [],
   "source": [
    "# function 활용해서 위젯추가하기\n",
    "# 이 코드는 Entry를 먼저만들고 나중에 Label을 만든 것이다.\n",
    "\n",
    "from tkinter import *\n",
    "\n",
    "root = Tk()\n",
    "\n",
    "def createTextBox(parent):\n",
    "    tBox = Entry(parent)\n",
    "    tBox.grid(row=1, column=2, padx = 10)\n",
    "\n",
    "createTextBox(root)\n",
    "\n",
    "w =  Label(root, text = \"이름을 입력하세요\", height = 10) # height 길이 얼마짜리로 만들건지 정해준다\n",
    "w.grid(row=1, column =1)\n",
    "\n",
    "root.mainloop()"
   ]
  },
  {
   "cell_type": "code",
   "execution_count": 69,
   "metadata": {
    "collapsed": true
   },
   "outputs": [],
   "source": [
    "from tkinter import *\n",
    "#Text위젯 : 메모장 같은게 root에 삽입된다고 생각하자.\n",
    "\n",
    "root = Tk()\n",
    "T = Text(root, height = 2, width = 30)\n",
    "T.pack()\n",
    "T.insert(END, \"Just a text Widget \\n in two lines \\n\")\n",
    "#T.insert(END, \"Just a text Widget \\n in two lines\") :이거랑 결과값이 같다.\n",
    "mainloop()"
   ]
  },
  {
   "cell_type": "markdown",
   "metadata": {},
   "source": [
    "## Button 위젯"
   ]
  },
  {
   "cell_type": "code",
   "execution_count": 70,
   "metadata": {
    "collapsed": true
   },
   "outputs": [],
   "source": [
    "\n",
    "from tkinter import *\n",
    "\n",
    "root = Tk()\n",
    "\n",
    "b1 = Button(root, text = \"OK\", height = 5, width = 20)\n",
    "b1.grid(row = 1, column = 1)\n",
    "b2 = Button(root, text = \"Cancel\", height = 5, width = 20)\n",
    "b2.grid(row = 2, column = 1)\n",
    "\n",
    "root.mainloop()"
   ]
  },
  {
   "cell_type": "markdown",
   "metadata": {},
   "source": [
    "## Event Binding 매우중요!!!"
   ]
  },
  {
   "cell_type": "code",
   "execution_count": 72,
   "metadata": {},
   "outputs": [
    {
     "name": "stdout",
     "output_type": "stream",
     "text": [
      "Single Click, Button-1\n",
      "Single Click, Button-1\n",
      "Double Click, so let's stop\n"
     ]
    }
   ],
   "source": [
    "# Event Binding Example\n",
    "# root.quit()보다는 root.destroy()가  더 효과적이다.\n",
    "from tkinter import *\n",
    "root = Tk()\n",
    "\n",
    "def hello(event):\n",
    "    print(\"Single Click, Button-1\")\n",
    "def quit(event):\n",
    "    print(\"Double Click, so let's stop\")\n",
    "    root.destroy()\n",
    "\n",
    "wbutton = Button(root, text = \"Mouse Clicks\")\n",
    "wbutton.pack()\n",
    "\n",
    "#bind(event, event일어나면 수행할거)\n",
    "wbutton.bind('<Button-1>', hello)\n",
    "wbutton.bind('<Double-Button-1>', quit)\n",
    "\n",
    "root.mainloop()"
   ]
  },
  {
   "cell_type": "code",
   "execution_count": 73,
   "metadata": {},
   "outputs": [
    {
     "name": "stdout",
     "output_type": "stream",
     "text": [
      "244 141\n",
      "52 164\n",
      "316 75\n"
     ]
    }
   ],
   "source": [
    "# Mouse Event Example\n",
    "\n",
    "from tkinter import *\n",
    "\n",
    "lastx, lasty = 0, 0\n",
    "\n",
    "# def xy는 처음시작점(마우스 클릭했을 때 좌표)을 지정해주는 것이다.\n",
    "# lastx, lasty에 처음시작점(x,y)가 들어있다. : addLine()실행될 때 시작위치가 된다.\n",
    "def xy(event):\n",
    "    global lastx, lasty\n",
    "    lastx, lasty = event.x, event.y\n",
    "    print(lastx, lasty)\n",
    "    \n",
    "def addLine(event):\n",
    "    global lastx, lasty\n",
    "    canvas.create_line((lastx, lasty, event.x, event.y)) #def xy에서 지정해준 lastx, lasty를 사용한다.\n",
    "    lastx, lasty = event.x, event.y\n",
    "\n",
    "root = Tk()\n",
    "root.columnconfigure(0, weight=1)\n",
    "root.rowconfigure(0, weight = 1)\n",
    "\n",
    "canvas = Canvas(root)\n",
    "canvas.grid(column = 0, row = 0, sticky=(N, W, E, S))\n",
    "canvas.bind(\"<Button-1>\", xy) #클릭했을땐 시작점설정\n",
    "canvas.bind(\"<B1-Motion>\", addLine) #드래그 할땐 선그리기\n",
    "\n",
    "root.mainloop()"
   ]
  },
  {
   "cell_type": "code",
   "execution_count": null,
   "metadata": {
    "collapsed": true
   },
   "outputs": [],
   "source": [
    "#Keyboard Event example\n",
    "\n",
    "from tkinter import *\n",
    "tk = Tk()\n",
    "\n",
    "canvas = Canvas(tk, width = 400, height = 400)\n",
    "canvas.pack()\n",
    "Arrow = 0\n",
    "\n",
    "def printarrow(event):\n",
    "    global Arrow\n",
    "    canvas.delete(Arrow) # 생성되어있던 화살표를 지우는 식\n",
    "    if event.keysym == 'Up':\n",
    "        Arrow = canvas.create_polygon(210, 200, 190, 200, 190, 180, 180, 180, 200, 160, 220, 180, 210, 180,\n",
    "                                      fill='yellow', outline = 'black')\n",
    "    elif event.keysym == 'Down':\n",
    "        Arrow = canvas.create_polygon(210, 200, 190, 200, 190, 220, 180, 220, 200, 240, 220, 220, 210, 220,\n",
    "                                     fill = 'pink', outline = 'black')\n",
    "    elif event.keysym =='Left':\n",
    "        Arrow = canvas.create_polygon(200, 190, 200, 210, 180, 210, 180, 220, 160, 200, 180, 180, 180, 190,\n",
    "                                     fill = 'lightblue', outline = 'black')\n",
    "    else:\n",
    "        Arrow = canvas.create_polygon(200, 190, 200, 210, 220, 210, 220, 220, 240, 200, 220, 180, 220, 190,\n",
    "                                     fill = 'white', outline = 'black')\n",
    "    \n",
    "canvas.bind_all('<KeyPress-Up>', printarrow)\n",
    "canvas.bind_all('<KeyPress-Down>', printarrow)\n",
    "canvas.bind_all('<KeyPress-Left>', printarrow)\n",
    "canvas.bind_all('<KeyPress-Right>', printarrow)\n",
    "\n",
    "tk.mainloop()"
   ]
  },
  {
   "cell_type": "code",
   "execution_count": null,
   "metadata": {
    "collapsed": true
   },
   "outputs": [],
   "source": [
    "from tkinter import Tk, Button\n",
    "from time import strftime, localtime\n",
    "\n",
    "# time에서 배운거\n",
    "def clicked(): \n",
    "    time = strftime(\"Day: %d %b %Y \\n Time: %H : %M : %S %p \\n\", localtime()) \n",
    "    #대소문자까지 구별해서 포맷이 정해짐\n",
    "    print(time)\n",
    "\n",
    "root = Tk()\n",
    "\n",
    "but = Button(root, text = 'click it', command = clicked) \n",
    "# command : 버튼이 눌러졌을때 발생할 function, method, object 등을 써준다.\n",
    "# 질문! bind랑은 어떻게 다른지 알아두자. \n",
    "#  : bind로 다양한 evnet와 연결해서 써줄 수 있음 command는 click_event에 국한되어 있음.\n",
    "but.pack()\n",
    "root.mainloop()"
   ]
  },
  {
   "cell_type": "markdown",
   "metadata": {},
   "source": [
    "## [ Tkinter Variables ]\n",
    "### StringVar() / IntVar() /  BooleanVar() /  DoubleVar()"
   ]
  },
  {
   "cell_type": "markdown",
   "metadata": {},
   "source": [
    "#### Radiobutton과 Checkbutton은 다르다\n",
    "#### Radiobuttoon은 중복해서 check못하고\n",
    "#### Checkbutton은 option을 통해서 중복 check가능"
   ]
  },
  {
   "cell_type": "code",
   "execution_count": 1,
   "metadata": {
    "collapsed": true
   },
   "outputs": [],
   "source": [
    "\n",
    "from tkinter import *\n",
    "def sel():\n",
    "    selection = \"You selected the option\" + str(var.get()) \n",
    "    # str(var.get()) : Radiobutton 선언할 때 썻었던 value 값을 가져온다.\n",
    "    label.config(text = selection)\n",
    "    # label을 통해서 selection에 있는 text들을 띄워준다.\n",
    "\n",
    "root = Tk()\n",
    "var = IntVar() #int인 것만 가져온다고 보자.\n",
    "\n",
    "R1 = Radiobutton(root, text = 'Option 1', variable = var, value = 123 , command= sel)\n",
    "# R1.value로 value값을 확인 할 수 있다. 그외에는 의미없음.\n",
    "R1.pack(anchor = W)\n",
    "\n",
    "R2 = Radiobutton(root, text=\"Option 2\", variable = var, value=2, command = sel)\n",
    "R2.pack(anchor = E)\n",
    "\n",
    "R3 = Radiobutton(root, text = \"Option 3\", variable = var, value = 3, command = sel)\n",
    "R3.pack(anchor = W)\n",
    "\n",
    "label = Label(root)\n",
    "label.pack()\n",
    "\n",
    "root.mainloop()"
   ]
  },
  {
   "cell_type": "code",
   "execution_count": 76,
   "metadata": {
    "collapsed": true
   },
   "outputs": [],
   "source": [
    "\n",
    "from tkinter import *\n",
    "\n",
    "top = Tk()\n",
    "CheckVar1 = IntVar()\n",
    "CheckVar2 = IntVar()\n",
    "\n",
    "C1 = Checkbutton(top, text = \"Music\", variable = CheckVar1, onvalue = 1, offvalue = 0, height = 5, \n",
    "                 width = 20)\n",
    "C2 = Checkbutton(top, text = \"Video\", variable = CheckVar2, onvalue = 1, offvalue = 0, height = 5,\n",
    "                width = 20)\n",
    "\n",
    "C1.pack()\n",
    "C2.pack()\n",
    "\n",
    "top.mainloop()"
   ]
  },
  {
   "cell_type": "markdown",
   "metadata": {},
   "source": [
    "## [ Label Widget ]\n",
    "### - text or image를 보여주는 가장 기본적인 방법\n",
    "### - StringVar Class를 이용하여 text값을 저장\n",
    "### - PhotoImage Class or BitmapImage Class를 이용하여 image를 저장"
   ]
  },
  {
   "cell_type": "markdown",
   "metadata": {},
   "source": [
    " #### 1) Listbox widget_example"
   ]
  },
  {
   "cell_type": "code",
   "execution_count": 77,
   "metadata": {
    "collapsed": true
   },
   "outputs": [],
   "source": [
    "from tkinter import *\n",
    "\n",
    "root = Tk()\n",
    "\n",
    "var = StringVar()\n",
    "label = Label(root, textvariable=var, relief=RAISED) \n",
    "#root 는 master가 root라는 얘기 mater = root라고 해줘도 됨.\n",
    "# relief=RAISED : label이 화면에서 튀어나와 보이게 해줌\n",
    "# textvariable : 변수로 할당한 text를 받을때 사용함 , text와 구별해서 알아두자.\n",
    "# text = var하면 Hey!? How are you doing?이 안나오고 단순히 text주소값 같은게 나온다\n",
    "\n",
    "var.set(\"Hey!? How are you doing?\") # var에 이 글자들을 setting한다고 이해하자.\n",
    "label.pack()\n",
    "root.mainloop()"
   ]
  },
  {
   "cell_type": "code",
   "execution_count": 78,
   "metadata": {
    "collapsed": true
   },
   "outputs": [],
   "source": [
    "from tkinter import *\n",
    "\n",
    "root = Tk()\n",
    "\n",
    "#image삽입 : Phtoimage()사용\n",
    "photo = PhotoImage(file ='F:\\\\workspace(jupyter)\\\\test.gif')\n",
    "peace = Label(root, image = photo, width = 350, height = 700)\n",
    "\n",
    "peace.pack()\n",
    "root.mainloop()"
   ]
  },
  {
   "cell_type": "code",
   "execution_count": 79,
   "metadata": {
    "collapsed": true
   },
   "outputs": [],
   "source": [
    "from tkinter import *\n",
    "\n",
    "top = Tk()\n",
    "\n",
    "# 질문! 숫자들이 insert()안에 입력하는 숫자가 의미하는게 머지?\n",
    "# 단순히 value값들이라고 생각하자. 정렬하고는 관계없음\n",
    "Lb1 = Listbox(top)\n",
    "Lb1.insert(10, \"Python\")\n",
    "Lb1.insert(2, 'Perl')\n",
    "Lb1.insert(3, 'C')\n",
    "Lb1.insert(4, 'PHP')\n",
    "Lb1.insert(5, 'JSP')\n",
    "Lb1.insert(6, 'Ruby')\n",
    "\n",
    "Lb1.pack()\n",
    "top.mainloop()"
   ]
  },
  {
   "cell_type": "markdown",
   "metadata": {},
   "source": [
    " ## 2) Menu widget_example"
   ]
  },
  {
   "cell_type": "code",
   "execution_count": 2,
   "metadata": {
    "collapsed": true
   },
   "outputs": [],
   "source": [
    "from tkinter import *\n",
    "def donothing():\n",
    "    #menu중에 하나 클릭하면 이 버튼이 생성됨 Toplevel로\n",
    "    filewin = Toplevel(root)\n",
    "    button = Button(filewin, text = \"Do nothing button\")\n",
    "    button.pack()\n",
    "\n",
    "root = Tk()\n",
    "menubar = Menu(root)\n",
    "\n",
    "#file 메뉴 세부내용 생성\n",
    "# 질문! tearoff가 의미 하는게 머지? : 스크린샷 참조!\n",
    "filemenu = Menu(menubar, tearoff = 1)\n",
    "filemenu.add_command(label= 'New', command= donothing)\n",
    "filemenu.add_command(label = 'Open', command = donothing)\n",
    "filemenu.add_command(label = 'Save', command = donothing)\n",
    "filemenu.add_command(label = 'Save as...', command = donothing)\n",
    "filemenu.add_command(label = 'Close', command = donothing)\n",
    "filemenu.add_separator() # 위 5개와 아래 1개가 separator()로 인해서 분리됨\n",
    "filemenu.add_command(label='Exit', command = root.destroy)\n",
    "#이게 어떻게 동작하는거지? : 맨윗줄에 File이라는 메뉴 만들어줌.\n",
    "# 질문! add_cascade가 뜻하는게 머지? : add_cascade하면 윈도우창 상단에  File이라는 뜨지 않음.\n",
    "menubar.add_cascade(label = 'File', menu = filemenu)\n",
    "\n",
    "#edit 메뉴 세부내용 생성\n",
    "editmenu = Menu(menubar, tearoff = 1)\n",
    "editmenu.add_command(label = 'Undo', command = donothing)\n",
    "editmenu.add_separator()\n",
    "editmenu.add_command(label = 'Cut', command = donothing)\n",
    "editmenu.add_command(label = 'Copy', command = donothing)\n",
    "editmenu.add_command(label = 'Paste', command = donothing)\n",
    "editmenu.add_command(label = 'Delete', command = donothing)\n",
    "editmenu.add_command(label = 'Select All', command = donothing)\n",
    "menubar.add_cascade(label = 'Edit', menu =  editmenu)\n",
    "\n",
    "#help 메뉴 세부내용 생성\n",
    "helpmenu = Menu(menubar, tearoff = 0)\n",
    "helpmenu.add_command(label = \"Help Index\", command=donothing)\n",
    "helpmenu.add_command(label = \"About..\", command=donothing)\n",
    "menubar.add_cascade(label=\"Help\", menu=helpmenu)\n",
    "\n",
    "root.config(menu = menubar)\n",
    "root.mainloop()"
   ]
  },
  {
   "cell_type": "markdown",
   "metadata": {},
   "source": [
    "### Geometry Management : pack(), grid()"
   ]
  },
  {
   "cell_type": "markdown",
   "metadata": {},
   "source": [
    "#### pack() :단순히 위에서부터 아래로 겹겹이 쌓는다고 생각하자"
   ]
  },
  {
   "cell_type": "code",
   "execution_count": null,
   "metadata": {
    "collapsed": true
   },
   "outputs": [],
   "source": [
    "from tkinter import *\n",
    "\n",
    "colours = ['red', 'green', 'orange', 'white', 'yellow', 'blue']\n",
    "\n",
    "for c in colours:\n",
    "    Label(text=c, relief = RIDGE, width = 15).pack()\n",
    "    Entry(bg=c, relief = SUNKEN, width = 10).pack()\n",
    "mainloop()"
   ]
  },
  {
   "cell_type": "markdown",
   "metadata": {},
   "source": [
    "#### grid(row=, col=) : 좌표를 줘서 쌓는다고 생각하자"
   ]
  },
  {
   "cell_type": "code",
   "execution_count": 83,
   "metadata": {
    "collapsed": true
   },
   "outputs": [],
   "source": [
    "from tkinter import *\n",
    "\n",
    "colours = ['red', 'green', 'orange', 'white', 'yellow', 'blue']\n",
    "\n",
    "r=0\n",
    "for c in colours:\n",
    "    Label(text=c, relief = RIDGE, width = 15).grid(row = r , column = 0)\n",
    "    Entry(bg=c, relief = SUNKEN, width = 10).grid(row = r , column = 1)\n",
    "    r += 1\n",
    "mainloop()"
   ]
  },
  {
   "cell_type": "code",
   "execution_count": null,
   "metadata": {
    "collapsed": true
   },
   "outputs": [],
   "source": [
    "#Layout Example\n",
    "import tkinter\n",
    "\n",
    "top = tkinter.Tk()\n",
    "\n",
    "B = tkinter.Button(top, text = 'Hello')\n",
    "\n",
    "B.pack()\n",
    "#B.place로 Button의 크기를 정해줄 수 있다.\n",
    "B.place(height = 200, width = 200)\n",
    "top.mainloop()"
   ]
  },
  {
   "cell_type": "code",
   "execution_count": null,
   "metadata": {
    "collapsed": true
   },
   "outputs": [],
   "source": []
  },
  {
   "cell_type": "code",
   "execution_count": null,
   "metadata": {
    "collapsed": true
   },
   "outputs": [],
   "source": [
    "from tkinter import *\n",
    "\n",
    "root = Tk()\n",
    "\n",
    "var = StringVar()\n",
    "label = Label(root, textvariable = var, relief = RAISED)\n",
    "\n",
    "var.set(\"Hey!? How are you doing?\")\n",
    "label.pack()\n",
    "root.mainloop()"
   ]
  },
  {
   "cell_type": "code",
   "execution_count": null,
   "metadata": {
    "collapsed": true
   },
   "outputs": [],
   "source": [
    "import os\n",
    "os.chdir('F:\\\\workspace(jupyter)\\\\Python Course\\\\Canvas')\n",
    "from tkinter import *\n",
    "\n",
    "root = Tk()\n",
    "photo = PhotoImage(file=\"manu.gif\")\n",
    "#photo = PhotoImage(file=\"F:\\\\workspace(jupyter)\\\\Python Course\\\\Canvas\\\\manu.gif\")\n",
    "\n",
    "peace = Label(master = root, image = photo, width = 350, height = 700)\n",
    "\n",
    "peace.pack()\n",
    "root.mainloop()\n"
   ]
  },
  {
   "cell_type": "code",
   "execution_count": null,
   "metadata": {
    "collapsed": true
   },
   "outputs": [],
   "source": [
    "from tkinter import *\n",
    "\n",
    "def donothing():\n",
    "    filewin = Toplevel(root)\n",
    "    button = Button(filewin, text = \"Do nothing button\")\n",
    "    button.pack()\n",
    "    \n",
    "root = Tk()\n",
    "menubar = Menu(root)\n",
    "\n",
    "filemenu = Menu(menubar, tearoff=0)\n",
    "filemenu.add_command(label=\"New\", command = donothing)\n",
    "filemenu.add_command(label=\"Open\", command = donothing)\n",
    "filemenu.add_command(label=\"Save\", command = donothing)\n",
    "filemenu.add_command(label=\"Save as...\", command = donothing)\n",
    "filemenu.add_command(label=\"Close\", command = donothing)\n",
    "filemenu.add_separator()\n",
    "filemenu.add_command(label=\"Exit\", command = root.destroy)\n",
    "menubar.add_cascade(label=\"File\", menu=filemenu)\n",
    "\n",
    "root.config(menu= menubar)\n",
    "root.mainloop()"
   ]
  },
  {
   "cell_type": "code",
   "execution_count": null,
   "metadata": {
    "collapsed": true
   },
   "outputs": [],
   "source": [
    "from tkinter import *\n",
    "\n",
    "colours = ['red', 'green', 'orange', 'white', 'yellow', 'blue']\n",
    "\n",
    "for c in colours:\n",
    "    Label(text=c, relief = RIDGE, width=15).pack()\n",
    "    Entry(bg=c, relief=SUNKEN, width=10).pack() #타이핑 하는거\n",
    "mainloop()"
   ]
  },
  {
   "cell_type": "code",
   "execution_count": null,
   "metadata": {
    "collapsed": true
   },
   "outputs": [],
   "source": [
    "from tkinter import *\n",
    "\n",
    "colours = ['red', 'green', 'orange', 'white', 'yellow', 'blue']\n",
    "\n",
    "r=0\n",
    "for c in colours:\n",
    "    Label(text=c, relief = RIDGE, width=15).grid(row=r, column=0)\n",
    "    Entry(bg=c, relief=SUNKEN, width=10).grid(row=r, column=1) #타이핑 하는거\n",
    "    r = r+1\n",
    "mainloop()"
   ]
  },
  {
   "cell_type": "code",
   "execution_count": null,
   "metadata": {
    "collapsed": true
   },
   "outputs": [],
   "source": [
    "from tkinter import *\n",
    "from tkinter.colorchooser import*\n",
    "\n",
    "def callback():\n",
    "    result = askcolor(color=\"#6A9662\", title = \"Colour Chooser\")\n",
    "    print(result)\n",
    "\n",
    "root = Tk()\n",
    "\n",
    "Button(root, text='Chooser Color')"
   ]
  },
  {
   "cell_type": "markdown",
   "metadata": {
    "collapsed": true
   },
   "source": [
    "## 과제 초기 test 코드"
   ]
  },
  {
   "cell_type": "code",
   "execution_count": null,
   "metadata": {
    "collapsed": true
   },
   "outputs": [],
   "source": [
    "from tkinter import *\n",
    "import time\n",
    "\n",
    "root = Tk()\n",
    "\n",
    "def chgimg1(event):\n",
    "    #clock.sleep(3)\n",
    "    but1.config(image=aft_photo1)\n",
    "    but1.image = aft_photo1\n",
    "    time.sleep(3)\n",
    "#     but1.config(image=pre_photo1)\n",
    "#     but1.image = pre_photo1\n",
    "\n",
    "    #root.after_idle(3, callback)\n",
    "    #but1.config(image=pre_photo1)\n",
    "    #but1.image = pre_photo1\n",
    "    #but1 = Button(root, text='asdaft_photo2')\n",
    "    #but1.config(image=aft_photo1)\n",
    "    #a.grid(row=1, column=1)\n",
    "\n",
    "def comeback():\n",
    "    but1.config(image=pre_photo1)\n",
    "    but1.image = pre_photo1\n",
    "    \n",
    "def chgimg2(event):\n",
    "    aft_photo2 = PhotoImage(file=\"F:\\\\workspace(jupyter)\\\\Python Course\\\\Canvas\\\\chg\\\\2.gif\")\n",
    "    but2 = Button(root, image=aft_photo2)\n",
    "    but2.grid(row=1, column=2)\n",
    "\n",
    "aft_photo1 = PhotoImage(file=\"F:\\\\workspace(jupyter)\\\\Python Course\\\\Canvas\\\\chg\\\\1.gif\")\n",
    "pre_photo1 = PhotoImage(file=\"F:\\\\workspace(jupyter)\\\\Python Course\\\\Canvas\\\\alphabet\\\\1.gif\")\n",
    "but1 = Button(root, image=pre_photo1)\n",
    "but1.grid(row=1, column=1)\n",
    "\n",
    "pre_photo2 = PhotoImage(file=\"F:\\\\workspace(jupyter)\\\\Python Course\\\\Canvas\\\\alphabet\\\\2.gif\")\n",
    "but2 = Button(root, image=pre_photo2)\n",
    "but2.grid(row=1, column=2)\n",
    "\n",
    "but1.bind('<Button-1>', chgimg1)\n",
    "but2.bind('<Button-1>', chgimg2)\n",
    "\n",
    "root.mainloop()\n",
    "#peace = Label(master = root, image = photo, width = 350, height = 700)"
   ]
  }
 ],
 "metadata": {
  "kernelspec": {
   "display_name": "Python 3",
   "language": "python",
   "name": "python3"
  },
  "language_info": {
   "codemirror_mode": {
    "name": "ipython",
    "version": 3
   },
   "file_extension": ".py",
   "mimetype": "text/x-python",
   "name": "python",
   "nbconvert_exporter": "python",
   "pygments_lexer": "ipython3",
   "version": "3.6.1"
  }
 },
 "nbformat": 4,
 "nbformat_minor": 2
}
