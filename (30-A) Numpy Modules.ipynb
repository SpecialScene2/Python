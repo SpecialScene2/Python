{
 "cells": [
  {
   "cell_type": "markdown",
   "metadata": {},
   "source": [
    "## (30) Numpy Module\n",
    "#### <font color = white>__- Numpy Module은 숫자 data의 large array or matrix 를 다루고, 계산하는데 도움을 주는 Module이다.<br>-Numpy Module 사용하는 방식을 활용해서 scipy Module도 다룰 수 있음__"
   ]
  },
  {
   "cell_type": "code",
   "execution_count": 1,
   "metadata": {},
   "outputs": [
    {
     "data": {
      "text/plain": [
       "78"
      ]
     },
     "execution_count": 1,
     "metadata": {},
     "output_type": "execute_result"
    }
   ],
   "source": [
    "# Numpy안 쓰고 matrix표현하기\n",
    "\n",
    "data = [[1,2,3,4], [5,6,7,8], [9,10,11,12]]\n",
    "\n",
    "def sum_matrix(table):\n",
    "    sum = 0\n",
    "    for row in range(0, len(table)):\n",
    "        for col in range(0, len(table[row])):\n",
    "            sum = sum + table[row][col]\n",
    "    return sum\n",
    "\n",
    "sum_matrix(data)"
   ]
  },
  {
   "cell_type": "markdown",
   "metadata": {},
   "source": [
    "***\n",
    "#### Numpy Array Creation"
   ]
  },
  {
   "cell_type": "code",
   "execution_count": 101,
   "metadata": {},
   "outputs": [
    {
     "name": "stdout",
     "output_type": "stream",
     "text": [
      "[ 1.  4.  5.  8.]\n"
     ]
    },
    {
     "data": {
      "text/plain": [
       "numpy.ndarray"
      ]
     },
     "execution_count": 101,
     "metadata": {},
     "output_type": "execute_result"
    }
   ],
   "source": [
    "import numpy as np\n",
    "a = np.array([1,4,5,8], float) #[1,4,5,8]을 float형식의 array로 만든 것임 / 숫자 형식 default = int임\n",
    "print(a)\n",
    "type(a)"
   ]
  },
  {
   "cell_type": "code",
   "execution_count": 7,
   "metadata": {},
   "outputs": [
    {
     "name": "stdout",
     "output_type": "stream",
     "text": [
      "[[ 1.  2.  3.]\n",
      " [ 4.  5.  6.]]\n",
      "1.0\n",
      "2.0\n"
     ]
    }
   ],
   "source": [
    "import numpy as np\n",
    "\n",
    "a = np.array([[1,2,3], [4,5,6]], float)\n",
    "print(a)\n",
    "print(a[0,0])\n",
    "print(a[0,1])"
   ]
  },
  {
   "cell_type": "code",
   "execution_count": null,
   "metadata": {
    "collapsed": true
   },
   "outputs": [],
   "source": [
    "import numpy as np\n",
    "np.array(list)\n",
    "# np.array(list) : input으로 array형식으로 들어있어야한다.\n",
    "# np.array(1,2,3,4) WRONG!!!!\n",
    "# np.array([1,2,3,4]) It's okay!"
   ]
  },
  {
   "cell_type": "code",
   "execution_count": 9,
   "metadata": {},
   "outputs": [
    {
     "name": "stdout",
     "output_type": "stream",
     "text": [
      "[10 15 20 25]\n",
      "[ 0.   0.3  0.6  0.9  1.2  1.5  1.8]\n"
     ]
    }
   ],
   "source": [
    "import numpy as np\n",
    "#arange -> array range라고 생각하자\n",
    "print(np.arange(10, 30, 5)) # 10부터 5씩간격을 둔 array를 만드는데 30은 포함안된다 / 범위:[10,30)임\n",
    "print(np.arange(0, 2, 0.3))"
   ]
  },
  {
   "cell_type": "code",
   "execution_count": 1,
   "metadata": {},
   "outputs": [
    {
     "name": "stdout",
     "output_type": "stream",
     "text": [
      "[[ 0.  0.  0.  0.]\n",
      " [ 0.  0.  0.  0.]\n",
      " [ 0.  0.  0.  0.]]\n",
      "[ 0.  0.  0.]\n",
      "\n",
      "[[ 1.  1.  1.]\n",
      " [ 1.  1.  1.]\n",
      " [ 1.  1.  1.]\n",
      " [ 1.  1.  1.]]\n",
      "[ 1.  1.  1.  1.]\n"
     ]
    }
   ],
   "source": [
    "import numpy as np\n",
    "# numpy.zeros(array_size_tuple) : 0으로 채워진 array를 만들어 준다.\n",
    "print(np.zeros((3,4)))\n",
    "print(np.zeros((3)))\n",
    "print()\n",
    "#numpy.ones(array_size_tuple) : 1로 채워진 array를 만들어 준다.\n",
    "print(np.ones((4,3)))\n",
    "print(np.ones((4)))"
   ]
  },
  {
   "cell_type": "code",
   "execution_count": 17,
   "metadata": {},
   "outputs": [
    {
     "data": {
      "text/plain": [
       "array([[ 1.,  0.,  0.,  0.,  0.],\n",
       "       [ 0.,  1.,  0.,  0.,  0.],\n",
       "       [ 0.,  0.,  1.,  0.,  0.],\n",
       "       [ 0.,  0.,  0.,  1.,  0.],\n",
       "       [ 0.,  0.,  0.,  0.,  1.]])"
      ]
     },
     "execution_count": 17,
     "metadata": {},
     "output_type": "execute_result"
    }
   ],
   "source": [
    "import numpy as np\n",
    "# numpy.full(array_size_tuple, value) : 입력한 value로 채워진 array를 size에 맞게 생성함\n",
    "np.full((5,2), 3)\n",
    "\n",
    "# numpy.eye(array_size_tuple) : array_size에 맞는 Identity matrix를 생성함\n",
    "np.eye((5))"
   ]
  },
  {
   "cell_type": "code",
   "execution_count": 11,
   "metadata": {},
   "outputs": [
    {
     "name": "stdout",
     "output_type": "stream",
     "text": [
      "[[ 0.36359411  0.18577638  0.57545057]\n",
      " [ 0.57105654  0.36309675  0.11648654]\n",
      " [ 0.58532555  0.0558317   0.92049407]]\n",
      "[[ 0.85674418  0.62934975  0.31690884]\n",
      " [ 0.62333692  0.68254331  0.12486674]\n",
      " [ 0.05921079  0.80101954  0.69226256]]\n"
     ]
    },
    {
     "data": {
      "text/plain": [
       "array([ 0.40029115,  0.35649658,  0.27397836])"
      ]
     },
     "execution_count": 11,
     "metadata": {},
     "output_type": "execute_result"
    }
   ],
   "source": [
    "import numpy as np\n",
    "\n",
    "# 질문! random.rand와 random.random을 굳이 나눠서 쓰는 이유가 머지? randn이랑 ranom이랑\n",
    "\n",
    "# numpy.random.rand(array_size_tuple) : Array filled with normal distribution values\n",
    "a = np.random.rand(3,3)\n",
    "#a = np.random.rand(3) = np.random.rand(3)\n",
    "print(a) # print하면 array라는 표시가 사라짐\n",
    "\n",
    "# numpy.random.random(array_size_tuple)\n",
    "a = np.random.random((3,3))\n",
    "print(a)\n",
    "np.random.random(3)"
   ]
  },
  {
   "cell_type": "code",
   "execution_count": 69,
   "metadata": {},
   "outputs": [
    {
     "data": {
      "text/plain": [
       "array([[ 1.,  2.,  3.],\n",
       "       [ 4.,  5.,  6.]])"
      ]
     },
     "execution_count": 69,
     "metadata": {},
     "output_type": "execute_result"
    }
   ],
   "source": [
    "import numpy as np\n",
    "\n",
    "a3 = np.array([[1,2,3],[4,5,6]],float)\n",
    "a3"
   ]
  },
  {
   "cell_type": "code",
   "execution_count": 70,
   "metadata": {},
   "outputs": [
    {
     "data": {
      "text/plain": [
       "array(['1', '2', '3', 'four', 'five'], \n",
       "      dtype='<U11')"
      ]
     },
     "execution_count": 70,
     "metadata": {},
     "output_type": "execute_result"
    }
   ],
   "source": [
    "import numpy as np\n",
    "\n",
    "a4 = np.array([1,2,3,'four','five'])\n",
    "a4"
   ]
  },
  {
   "cell_type": "code",
   "execution_count": 72,
   "metadata": {},
   "outputs": [
    {
     "name": "stdout",
     "output_type": "stream",
     "text": [
      "<class 'numpy.ndarray'>\n",
      "<class 'numpy.ndarray'>\n"
     ]
    }
   ],
   "source": [
    "print(type(a3))\n",
    "print(type(a4))"
   ]
  },
  {
   "cell_type": "markdown",
   "metadata": {},
   "source": [
    "***\n",
    "#### Numpy Array Manipulation"
   ]
  },
  {
   "cell_type": "markdown",
   "metadata": {},
   "source": [
    "1) Array Slicing"
   ]
  },
  {
   "cell_type": "code",
   "execution_count": 5,
   "metadata": {},
   "outputs": [
    {
     "name": "stdout",
     "output_type": "stream",
     "text": [
      "[[ 1.  2.  3.]\n",
      " [ 4.  5.  6.]]\n",
      "\n",
      "[ 4.  5.  6.]\n",
      "\n",
      "[ 3.  6.]\n",
      "\n",
      "[[ 5.  6.]]\n",
      "\n",
      "[[ 1.]]\n"
     ]
    }
   ],
   "source": [
    "import numpy as np\n",
    "\n",
    "a = np.array([[1,2,3], [4,5,6]], float)\n",
    "print(a)\n",
    "print()\n",
    "print(a[1,:])\n",
    "print()\n",
    "print(a[:,2])\n",
    "print()\n",
    "print(a[-1:,-2:]) # 뒤에서 1번째 행, 뒤에서 2번째열 선택한 것임\n",
    "print()\n",
    "print(a[0:1,0:1])"
   ]
  },
  {
   "cell_type": "markdown",
   "metadata": {},
   "source": [
    "2) Transpose an 2D Array"
   ]
  },
  {
   "cell_type": "code",
   "execution_count": 84,
   "metadata": {},
   "outputs": [
    {
     "name": "stdout",
     "output_type": "stream",
     "text": [
      "[[ 0.  1.  2.]\n",
      " [ 3.  4.  5.]]\n",
      "[[ 0.  3.]\n",
      " [ 1.  4.]\n",
      " [ 2.  5.]]\n"
     ]
    }
   ],
   "source": [
    "import numpy as np\n",
    "\n",
    "a = np.array(range(6), float).reshape((2,3)) # 2행 3열로 reshape해줌 reshape안했으면 그냥 1행 6열짜리로 나옴\n",
    "print(a)\n",
    "print(a.transpose())"
   ]
  },
  {
   "cell_type": "code",
   "execution_count": 85,
   "metadata": {},
   "outputs": [
    {
     "name": "stdout",
     "output_type": "stream",
     "text": [
      "[[ 1.  2.  3.]\n",
      " [ 4.  5.  6.]]\n",
      "[ 1.  2.  3.  4.  5.  6.]\n"
     ]
    }
   ],
   "source": [
    "import numpy as np\n",
    "\n",
    "a = np.array([[1,2,3],[4,5,6]], float)\n",
    "print(a)\n",
    "print(a.flatten()) #.flatten은 n차원 행렬을 행벡터로 만들어준다(평평하게 만들어줌)"
   ]
  },
  {
   "cell_type": "code",
   "execution_count": 86,
   "metadata": {},
   "outputs": [
    {
     "data": {
      "text/plain": [
       "array([ 1.,  2.,  3.,  4.,  5.,  6.,  7.,  8.,  9.])"
      ]
     },
     "execution_count": 86,
     "metadata": {},
     "output_type": "execute_result"
    }
   ],
   "source": [
    "a = np.array([1,2], float)\n",
    "b = np.array([3,4,5,6], float)\n",
    "c = np.array([7,8,9], float)\n",
    "np.concatenate((a,b,c))"
   ]
  },
  {
   "cell_type": "markdown",
   "metadata": {},
   "source": [
    "***\n",
    "#### Numpy Array Mathematics"
   ]
  },
  {
   "cell_type": "code",
   "execution_count": 92,
   "metadata": {},
   "outputs": [
    {
     "name": "stdout",
     "output_type": "stream",
     "text": [
      "[ 6.  4.  9.]\n",
      "[-4.  0. -3.]\n",
      "[  5.   4.  18.]\n",
      "[ 5.  1.  2.]\n",
      "[ 1.  0.  3.]\n",
      "[   5.    4.  216.]\n"
     ]
    },
    {
     "data": {
      "text/plain": [
       "216"
      ]
     },
     "execution_count": 92,
     "metadata": {},
     "output_type": "execute_result"
    }
   ],
   "source": [
    "a = np.array([1,2,3], float)\n",
    "b = np.array([5,2,6], float)\n",
    "print(a+b)\n",
    "print(a-b)\n",
    "print(a*b) # 단순히 같은 index에 있는 element끼리 곱한다.\n",
    "print(b/a) # 단순히 같은 index에 있는 element끼리 나눈다.\n",
    "print(a%b)\n",
    "print(b**a)"
   ]
  },
  {
   "cell_type": "code",
   "execution_count": 93,
   "metadata": {},
   "outputs": [
    {
     "name": "stdout",
     "output_type": "stream",
     "text": [
      "[1, 2, 3, 4, 1, 2, 3, 4]\n"
     ]
    },
    {
     "data": {
      "text/plain": [
       "array([2, 4, 6, 8])"
      ]
     },
     "execution_count": 93,
     "metadata": {},
     "output_type": "execute_result"
    }
   ],
   "source": [
    "import numpy as np\n",
    "a = [1,2,3,4]\n",
    "print(a * 2) # list의 곱은 단순히 반복되서 쓰인다\n",
    "\n",
    "npa = np.array(a)\n",
    "print(npa * 2) # array의 곱은 각 element들의 곱이 쓰인다."
   ]
  },
  {
   "cell_type": "code",
   "execution_count": 100,
   "metadata": {},
   "outputs": [
    {
     "name": "stdout",
     "output_type": "stream",
     "text": [
      "[1, 2, 3, 4, 1, 2, 3, 4]\n",
      "[ 2.  4.  6.  8.]\n"
     ]
    }
   ],
   "source": [
    "import numpy as np\n",
    "a = [1,2,3,4]\n",
    "b = [1,2,3,4]\n",
    "print(a+b) # list의 합은 단순히 요소들을 뒤에 이어서 써준다\n",
    "\n",
    "a = np.array([1,2,3,4], float)\n",
    "b = np.array([1,2,3,4], float)\n",
    "print(a+b) # array의 합은 같은 index의 element들을 더해준다"
   ]
  },
  {
   "cell_type": "markdown",
   "metadata": {},
   "source": [
    "Operation in 3D Array"
   ]
  },
  {
   "cell_type": "code",
   "execution_count": 102,
   "metadata": {},
   "outputs": [
    {
     "name": "stdout",
     "output_type": "stream",
     "text": [
      "[[1, 2, 3], [4, 5, 6], [7, 8, 9], [1, 2, 3], [4, 5, 6], [7, 8, 9]]\n",
      "[[  2.   4.   6.]\n",
      " [  8.  10.  12.]\n",
      " [ 14.  16.  18.]]\n"
     ]
    }
   ],
   "source": [
    "a = [[1,2,3],[4,5,6],[7,8,9]]\n",
    "b1 = [[1,2,3],[4,5,6],[7,8,9]]\n",
    "print(a + b1) # list의 합은 단순히 뒤에 이어붙여줌\n",
    "\n",
    "anp = np.array(a, float)\n",
    "b1np = np.array(b1, float)\n",
    "print(anp+b1np)"
   ]
  },
  {
   "cell_type": "markdown",
   "metadata": {},
   "source": [
    "***\n",
    "#### Numpy Array Iteration"
   ]
  },
  {
   "cell_type": "code",
   "execution_count": 112,
   "metadata": {},
   "outputs": [
    {
     "name": "stdout",
     "output_type": "stream",
     "text": [
      "1\n",
      "4\n",
      "5\n"
     ]
    }
   ],
   "source": [
    "import numpy as np\n",
    "\n",
    "a = np.array([1, 4, 5], int)\n",
    "for x in a:\n",
    "    print(x)"
   ]
  },
  {
   "cell_type": "code",
   "execution_count": 107,
   "metadata": {},
   "outputs": [
    {
     "name": "stdout",
     "output_type": "stream",
     "text": [
      "[ 1.  2.]\n",
      "[ 3.  4.]\n",
      "[ 5.  6.]\n"
     ]
    }
   ],
   "source": [
    "import numpy as np\n",
    "\n",
    "a = np.array([[1,2], [3,4], [5,6]], float)\n",
    "for x in a:\n",
    "    print(x)"
   ]
  },
  {
   "cell_type": "markdown",
   "metadata": {},
   "source": [
    "iteration에서 for한번에 1 dimension Iteration이 실행된다."
   ]
  },
  {
   "cell_type": "code",
   "execution_count": 110,
   "metadata": {},
   "outputs": [
    {
     "name": "stdout",
     "output_type": "stream",
     "text": [
      "[[1 2 3]\n",
      " [4 5 6]]\n",
      "----\n",
      "[[ 7  8  9]\n",
      " [10 11 12]]\n",
      "----\n",
      "[[13 14 15]\n",
      " [16 17 18]]\n",
      "----\n"
     ]
    }
   ],
   "source": [
    "# 1 dimension iteration\n",
    "\n",
    "import numpy as np\n",
    "\n",
    "a = np.array([[[1,2,3],[4,5,6]],[[7,8,9],[10,11,12]],[[13,14,15],[16,17,18]]])\n",
    "for x in a:\n",
    "    print(x)\n",
    "    print('----')"
   ]
  },
  {
   "cell_type": "code",
   "execution_count": 111,
   "metadata": {},
   "outputs": [
    {
     "name": "stdout",
     "output_type": "stream",
     "text": [
      "[1 2 3]\n",
      "----\n",
      "[4 5 6]\n",
      "----\n",
      "[7 8 9]\n",
      "----\n",
      "[10 11 12]\n",
      "----\n",
      "[13 14 15]\n",
      "----\n",
      "[16 17 18]\n",
      "----\n"
     ]
    }
   ],
   "source": [
    "# 2 dimension iteration\n",
    "\n",
    "import numpy as np\n",
    "\n",
    "a = np.array([[[1,2,3],[4,5,6]],[[7,8,9],[10,11,12]],[[13,14,15],[16,17,18]]])\n",
    "for x in a:\n",
    "    for y in x:\n",
    "        print(y)\n",
    "        print('----')"
   ]
  },
  {
   "cell_type": "markdown",
   "metadata": {},
   "source": [
    "***\n",
    "#### Numpy Array Statistics"
   ]
  },
  {
   "cell_type": "markdown",
   "metadata": {},
   "source": [
    "1) 일반 계산 "
   ]
  },
  {
   "cell_type": "code",
   "execution_count": 114,
   "metadata": {},
   "outputs": [
    {
     "data": {
      "text/plain": [
       "24.0"
      ]
     },
     "execution_count": 114,
     "metadata": {},
     "output_type": "execute_result"
    }
   ],
   "source": [
    "import numpy as np\n",
    "a = np.array([2, 4, 3], float)\n",
    "print(a.sum())\n",
    "a.prod()"
   ]
  },
  {
   "cell_type": "code",
   "execution_count": 116,
   "metadata": {},
   "outputs": [
    {
     "name": "stdout",
     "output_type": "stream",
     "text": [
      "4.0\n",
      "12.6666666667\n",
      "3.55902608401\n"
     ]
    }
   ],
   "source": [
    "a = np.array([2, 1, 9], float)\n",
    "print(a.mean())\n",
    "print(a.var())\n",
    "print(a.std())"
   ]
  },
  {
   "cell_type": "code",
   "execution_count": 10,
   "metadata": {},
   "outputs": [
    {
     "ename": "AttributeError",
     "evalue": "'numpy.ndarray' object has no attribute 'median'",
     "output_type": "error",
     "traceback": [
      "\u001b[1;31m---------------------------------------------------------------------------\u001b[0m",
      "\u001b[1;31mAttributeError\u001b[0m                            Traceback (most recent call last)",
      "\u001b[1;32m<ipython-input-10-daaa82b061dc>\u001b[0m in \u001b[0;36m<module>\u001b[1;34m()\u001b[0m\n\u001b[0;32m      1\u001b[0m \u001b[0ma\u001b[0m \u001b[1;33m=\u001b[0m \u001b[0mnp\u001b[0m\u001b[1;33m.\u001b[0m\u001b[0marray\u001b[0m\u001b[1;33m(\u001b[0m\u001b[1;33m[\u001b[0m\u001b[1;36m1\u001b[0m\u001b[1;33m,\u001b[0m\u001b[1;36m4\u001b[0m\u001b[1;33m,\u001b[0m\u001b[1;36m3\u001b[0m\u001b[1;33m,\u001b[0m\u001b[1;36m8\u001b[0m\u001b[1;33m,\u001b[0m\u001b[1;36m9\u001b[0m\u001b[1;33m,\u001b[0m\u001b[1;36m2\u001b[0m\u001b[1;33m,\u001b[0m\u001b[1;36m3\u001b[0m\u001b[1;33m]\u001b[0m\u001b[1;33m,\u001b[0m \u001b[0mfloat\u001b[0m\u001b[1;33m)\u001b[0m\u001b[1;33m\u001b[0m\u001b[0m\n\u001b[0;32m      2\u001b[0m \u001b[0mnp\u001b[0m\u001b[1;33m.\u001b[0m\u001b[0mmedian\u001b[0m\u001b[1;33m(\u001b[0m\u001b[0ma\u001b[0m\u001b[1;33m)\u001b[0m\u001b[1;33m\u001b[0m\u001b[0m\n\u001b[1;32m----> 3\u001b[1;33m \u001b[0ma\u001b[0m\u001b[1;33m.\u001b[0m\u001b[0mmedian\u001b[0m\u001b[1;33m(\u001b[0m\u001b[1;33m)\u001b[0m\u001b[1;33m\u001b[0m\u001b[0m\n\u001b[0m",
      "\u001b[1;31mAttributeError\u001b[0m: 'numpy.ndarray' object has no attribute 'median'"
     ]
    }
   ],
   "source": [
    "a = np.array([1,4,3,8,9,2,3], float)\n",
    "np.median(a)\n",
    "# a.median()은 안된다."
   ]
  },
  {
   "cell_type": "code",
   "execution_count": 118,
   "metadata": {},
   "outputs": [
    {
     "name": "stdout",
     "output_type": "stream",
     "text": [
      "10\n",
      "[4 6]\n",
      "[3 7]\n"
     ]
    }
   ],
   "source": [
    "import numpy as np\n",
    "x = np.array([[1,2],[3,4]])\n",
    "print(np.sum(x))\n",
    "# axis = 0은 행, axis = 1은 열을 선택하는 것을 의미한다.\n",
    "print(np.sum(x, axis = 0))\n",
    "print(np.sum(x, axis = 1))"
   ]
  },
  {
   "cell_type": "code",
   "execution_count": 119,
   "metadata": {},
   "outputs": [
    {
     "data": {
      "text/plain": [
       "45"
      ]
     },
     "execution_count": 119,
     "metadata": {},
     "output_type": "execute_result"
    }
   ],
   "source": [
    "import numpy as np\n",
    "npa = np.array([[1,2,3],[4,5,6],[7,8,9]])\n",
    "npa.sum()\n"
   ]
  },
  {
   "cell_type": "code",
   "execution_count": 121,
   "metadata": {},
   "outputs": [
    {
     "data": {
      "text/plain": [
       "45"
      ]
     },
     "execution_count": 121,
     "metadata": {},
     "output_type": "execute_result"
    }
   ],
   "source": [
    "# numpy를 안쓰면 이렇게 길게 code를 작성해줘야한다.\n",
    "\n",
    "def nested_sum(L):\n",
    "    total = 0\n",
    "    for i in L:\n",
    "        if isinstance(i, list):\n",
    "            total += nested_sum(i)\n",
    "        else:\n",
    "            total += i\n",
    "    return total\n",
    "\n",
    "a = [[1,2,3],[4,5,6],[7,8,9]]\n",
    "nested_sum(a)"
   ]
  },
  {
   "cell_type": "markdown",
   "metadata": {},
   "source": [
    "2) Correlation Coefficient / Covariacne\n",
    "- __<font color = red>공분산은 x가 변하면 y가 어떻게 변하는지 표현해줌.(x,y에 대해서 공통적으로 나타내는 분산)__\n",
    "- <font color = white>공분산이 양수로 나오면 x, y가 같이 변한다(x가 증가하면 y도 증가)\n",
    "- 공분산이 음수로 나오면 x, y가 다르게 변한다.(x가 증가하면 y는 감소 / x가 감소하면, y는 증가)<br>\n",
    "<br>\n",
    "- __<font color = red>상관계수는 두변수가 얼마나 강한 상관관계가 있는지 알려줌. 공분산을 표준화한 값임.__\n",
    "- <font color = white>상관계수 r는 항상 부등식 －1≤r≤1을 만족시키며, 양의 상관관계가 있을 때는 r＞0, <br>음의 상관관계가 있을 때는 r＜0이다. 또 무상관일 때는 r＝0이 된다.<br>\n",
    "<br>\n",
    "- np.corrcoef(arr) & np.cov(arr)는 2 dimension에서만 가능하다.\n",
    "- 질문! 어떤게 2dimension? nested가 2번된거 -> 2번 nested된 list는 [x][y] 이렇게 2차원이라 생각하자."
   ]
  },
  {
   "cell_type": "code",
   "execution_count": 125,
   "metadata": {},
   "outputs": [
    {
     "name": "stdout",
     "output_type": "stream",
     "text": [
      "[[ 1.          0.72870505]\n",
      " [ 0.72870505  1.        ]]\n"
     ]
    },
    {
     "data": {
      "text/plain": [
       "array([[ 0.91666667,  2.08333333],\n",
       "       [ 2.08333333,  8.91666667]])"
      ]
     },
     "execution_count": 125,
     "metadata": {},
     "output_type": "execute_result"
    }
   ],
   "source": [
    "import numpy as np\n",
    "a = np.array([[1,2,1,3],[5,3,1,8]], float)\n",
    "c = np.corrcoef(a)\n",
    "print(c)\n",
    "np.cov(a) #질문! 공분산이 멀 의미하는거지? (i,i)는 자기 자신의 공분산"
   ]
  },
  {
   "cell_type": "markdown",
   "metadata": {},
   "source": [
    "3) Dot function for Numpy 1-D Array(Vertor Inner Product)\n",
    "- (행벡터) x (열벡터) = Single Value\n",
    "- 위 식에서 x(곱하기)를 Dot이라고도 해서 Dot function임"
   ]
  },
  {
   "cell_type": "code",
   "execution_count": 127,
   "metadata": {},
   "outputs": [
    {
     "data": {
      "text/plain": [
       "5.0"
      ]
     },
     "execution_count": 127,
     "metadata": {},
     "output_type": "execute_result"
    }
   ],
   "source": [
    "import numpy as np\n",
    "a = np.array([1,2,3], float)\n",
    "b = np.array([0,1,1], float)\n",
    "#위에처럼 그냥 행벡터를 2개 써준 것이지만 dot()함수를 이용해서 계산 가능\n",
    "np.dot(a,b)"
   ]
  },
  {
   "cell_type": "markdown",
   "metadata": {},
   "source": [
    "4) Matrix Product(Multiplication) = 행렬의 곱(Dot function)\n",
    "- 행렬의 곱에서의 곱하기도 Dot이라고한다."
   ]
  },
  {
   "cell_type": "markdown",
   "metadata": {},
   "source": [
    "Dot function은 1)Vertor Inner Product, 2) Matrix Product(Multiplication)에 쓰인다"
   ]
  },
  {
   "cell_type": "code",
   "execution_count": 131,
   "metadata": {},
   "outputs": [
    {
     "name": "stdout",
     "output_type": "stream",
     "text": [
      "[  6.  11.]\n",
      "[  3.  13.]\n",
      "[[  4.   0.]\n",
      " [ 14.   2.]]\n"
     ]
    }
   ],
   "source": [
    "a = np.array([[0,1],[2,3]], float)\n",
    "b = np.array([2,3], float)\n",
    "c = np.array([[1,1], [4,0]], float)\n",
    "a\n",
    "print(np.dot(b,a)) # (1행2열) x (2행 2열) = (1행 2열)\n",
    "print(np.dot(a,b)) # (2행2열) x (2행 1열) = (1행 2열) ※b는 알아서 변환됨(dot function때문에)\n",
    "print(np.dot(a,c)) # (2행2열) x (2행 2열) = (2행 2열)\n",
    "print(np.dot(c,a)) # (1행2열) x (2행 2열) = (1행 2열)"
   ]
  },
  {
   "cell_type": "markdown",
   "metadata": {},
   "source": [
    "5) Application of Vector Inner Product\n",
    "- Matrix의 곱(위에서 보여줌)\n",
    "- Vector a, b 사이에 있는 각도를 계산\n",
    "- Vertor Outer Product : Vertor 2개로 Matrix 생성\n",
    "- Vector Cross Product : Vector a, b로 만들어지는 Area를 계산(평행사변형 그림 기억하자)"
   ]
  },
  {
   "cell_type": "code",
   "execution_count": 6,
   "metadata": {},
   "outputs": [
    {
     "name": "stdout",
     "output_type": "stream",
     "text": [
      "[[ 2.  2.  1.]\n",
      " [ 8.  8.  4.]\n",
      " [ 0.  0.  0.]]\n",
      "10.0\n",
      "10.0\n",
      "[ 4. -1. -6.]\n"
     ]
    }
   ],
   "source": [
    "a = np.array([1, 4, 0], float)\n",
    "b = np.array([2, 2, 1], float)\n",
    "print(np.outer(a, b))\n",
    "print(np.inner(a, b)) #print(np.dot(a, b))과 같다\n",
    "print(np.dot(a, b))\n",
    "print(np.cross(a, b))"
   ]
  },
  {
   "cell_type": "markdown",
   "metadata": {},
   "source": [
    "***\n",
    "#### Numpy Code Example : Nearest Neighbor Search"
   ]
  },
  {
   "cell_type": "code",
   "execution_count": 9,
   "metadata": {},
   "outputs": [
    {
     "name": "stdout",
     "output_type": "stream",
     "text": [
      "거리 -1\n",
      "7.681145747868608\n",
      "거리 7.681145747868608\n",
      "2.23606797749979\n",
      "거리 2.23606797749979\n",
      "1.7320508075688772\n",
      "거리 1.7320508075688772\n",
      "6.164414002968976\n",
      "거리 1.7320508075688772\n",
      "6.48074069840786\n",
      "거리 1.7320508075688772\n",
      "6.4031242374328485\n",
      "거리 1.7320508075688772\n",
      "4.58257569495584\n",
      "거리 1.7320508075688772\n",
      "4.69041575982343\n",
      "거리 1.7320508075688772\n",
      "4.898979485566356\n",
      "거리 1.7320508075688772\n",
      "5.385164807134504\n",
      "Nearest point to q:  [3, 4, 4]\n",
      "\n",
      "[[9 2 8]\n",
      " [4 7 2]\n",
      " [3 4 4]\n",
      " [5 6 9]\n",
      " [5 0 7]\n",
      " [8 2 7]\n",
      " [0 3 2]\n",
      " [7 3 0]\n",
      " [6 1 1]\n",
      " [2 9 6]]\n",
      "[[ 5 -3  5]\n",
      " [ 0  2 -1]\n",
      " [-1 -1  1]\n",
      " [ 1  1  6]\n",
      " [ 1 -5  4]\n",
      " [ 4 -3  4]\n",
      " [-4 -2 -1]\n",
      " [ 3 -2 -3]\n",
      " [ 2 -4 -2]\n",
      " [-2  4  3]]\n",
      "\n",
      "pure numpy Nearest point to q:  [3 4 4]\n"
     ]
    }
   ],
   "source": [
    "import numpy as np\n",
    "\n",
    "# numpy 없이 구하기\n",
    "points = [[9,2,8],[4,7,2],[3,4,4],[5,6,9],[5,0,7],[8,2,7],[0,3,2],[7,3,0],[6,1,1],[2,9,6]]\n",
    "qPoint = [4,5,3] #중심이 되는 point?\n",
    "minIdx = -1\n",
    "minDist = -1\n",
    "for idx, point in enumerate(points):\n",
    "    dist = sum([(dp-dq)**2 for dp, dq in zip(point, qPoint)])**0.5\n",
    "    print('거리',minDist)\n",
    "    print(dist)\n",
    "    if dist < minDist or minDist < 0:\n",
    "        minDist = dist\n",
    "        minIdx = idx\n",
    "print('Nearest point to q: ',points[minIdx] )\n",
    "print()\n",
    "# numpy를 활용해서 구하기\n",
    "points = np.array([[9,2,8],[4,7,2],[3,4,4],[5,6,9],[5,0,7],[8,2,7],[0,3,2],[7,3,0],[6,1,1],[2,9,6]])\n",
    "qPoint = [4,5,3]\n",
    "print(points)\n",
    "print(points - qPoint)\n",
    "print()\n",
    "minIdx = np.argmin(np.linalg.norm(points - qPoint, axis=1))\n",
    "# linalg.norm : linear algebra Matrix or vector norm(||길이||).\n",
    "# list에서 가장 작은 값의 index를 반환\n",
    "print('pure numpy Nearest point to q: ', points[minIdx] ) # 질문! 여기에는 왜 ,가 없지?"
   ]
  },
  {
   "cell_type": "code",
   "execution_count": null,
   "metadata": {
    "collapsed": true
   },
   "outputs": [],
   "source": []
  }
 ],
 "metadata": {
  "kernelspec": {
   "display_name": "Python 3",
   "language": "python",
   "name": "python3"
  },
  "language_info": {
   "codemirror_mode": {
    "name": "ipython",
    "version": 3
   },
   "file_extension": ".py",
   "mimetype": "text/x-python",
   "name": "python",
   "nbconvert_exporter": "python",
   "pygments_lexer": "ipython3",
   "version": "3.6.1"
  }
 },
 "nbformat": 4,
 "nbformat_minor": 2
}
