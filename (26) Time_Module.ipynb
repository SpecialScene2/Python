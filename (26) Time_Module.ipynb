{
 "cells": [
  {
   "cell_type": "markdown",
   "metadata": {},
   "source": [
    "## (26) Time관리 관련 Modules"
   ]
  },
  {
   "cell_type": "markdown",
   "metadata": {},
   "source": [
    "### 'Time' Module"
   ]
  },
  {
   "cell_type": "code",
   "execution_count": null,
   "metadata": {},
   "outputs": [],
   "source": [
    "import time\n",
    "time.time() # window 기준 시점인 1970년 1월 1일부터 몇초가 지났는지 보여준다."
   ]
  },
  {
   "cell_type": "code",
   "execution_count": null,
   "metadata": {},
   "outputs": [],
   "source": [
    "import time\n",
    "print(time.gmtime(0)) # 기준 시점이 언제인지 알 수 있다. 1970년 1월 1일임\n",
    "print(time.gmtime()) # 현재 시간이 struct_time이라는 object로 표현된다.\n",
    "# print(time.gmtime(time.time())) : 윗줄과 같은 결과가 나온다.\n",
    "print(time.localtime())\n",
    "# print(time.localtime(time.time())) : 윗줄과 같은 결과가 나온다.\n",
    "print(time.asctime()) # default는 현재시간(컴퓨터 내장시간으로 추정됨)이다. / format은 요일 월 일 시 분 초 년\n",
    "print(time.asctime(time.localtime())) # 윗줄과 같은 결과이다\n",
    "# print(time.asctime(0)) : 에러남\n",
    "# time.asctime(3) or time.asctime(time.time()) 하면 error남 input을 time_struct object를 넣어줘야함.\n",
    "print(time.ctime()) # default는 현재시간이 나온다(컴퓨터 내장시간) / format은 요일 월 일 시 분 초 년 \n",
    "# time.asctime()과 같다. \n",
    "print(time.ctime(time.time())) \n",
    "# time.ctime(time.localtime()) 하면 error난다. input으로 time in seconds 만을 받는다."
   ]
  },
  {
   "cell_type": "code",
   "execution_count": null,
   "metadata": {},
   "outputs": [],
   "source": [
    "#sleep\n",
    "import time\n",
    "for i in range(10):\n",
    "    print(i)\n",
    "    time.sleep(1)\n",
    "# 1초에 한번씩 0~9까지 print한다."
   ]
  },
  {
   "cell_type": "code",
   "execution_count": 20,
   "metadata": {},
   "outputs": [
    {
     "data": {
      "text/plain": [
       "20.76798175827678"
      ]
     },
     "execution_count": 20,
     "metadata": {},
     "output_type": "execute_result"
    }
   ],
   "source": [
    "import time\n",
    "time.clock() # float type으로 현재 시간의 초를 알려준다."
   ]
  },
  {
   "cell_type": "code",
   "execution_count": 22,
   "metadata": {},
   "outputs": [
    {
     "name": "stdout",
     "output_type": "stream",
     "text": [
      "0 1 2 3 4 time.clock() :  25.032657034307817\n",
      "time.process_time() :  0.0\n"
     ]
    }
   ],
   "source": [
    "import time\n",
    "\n",
    "cstart = time.clock()\n",
    "pstart = time.process_time()\n",
    "for i in range(5):\n",
    "    print(i, end=' ')\n",
    "    time.sleep(5)\n",
    "cend = time.clock()\n",
    "pend = time.process_time()\n",
    "\n",
    "print('time.clock() : ', cend - cstart) # start당시의 초와 end당시의 소요시간 check됨.\n",
    "print('time.process_time() : ', pend - pstart) # cpu가 계산하는데 걸린 시간이 나타남."
   ]
  },
  {
   "cell_type": "code",
   "execution_count": 23,
   "metadata": {},
   "outputs": [
    {
     "name": "stdout",
     "output_type": "stream",
     "text": [
      "08/31/17\n",
      "18:45:19\n",
      "Thu Aug 31 18:45:19 2017\n"
     ]
    }
   ],
   "source": [
    "# time.strftime() : 시간을 다양한 format으로 출력하기 위한 function()\n",
    "import time\n",
    "\n",
    "print(time.strftime('%x', time.localtime(time.time()))) # %x 날짜가 표현되는 포멧\n",
    "print(time.strftime('%X', time.localtime(time.time()))) # %x 시간이 표현되는 포멧\n",
    "print(time.strftime('%c', time.localtime(time.time()))) # %c 요일 월 일 시 분 초 년 이 표현되는 포멧"
   ]
  },
  {
   "cell_type": "markdown",
   "metadata": {},
   "source": [
    "### 'datetime' Module : 시간을 활용한 연산에 많이 사용됨."
   ]
  },
  {
   "cell_type": "code",
   "execution_count": null,
   "metadata": {},
   "outputs": [],
   "source": [
    "import time\n",
    "import datetime\n",
    "datetime.MINYEAR\n",
    "datetime.MAXYEAR"
   ]
  },
  {
   "cell_type": "code",
   "execution_count": 35,
   "metadata": {},
   "outputs": [
    {
     "name": "stdout",
     "output_type": "stream",
     "text": [
      "2017-08-31\n",
      "1970-01-01\n"
     ]
    },
    {
     "ename": "AttributeError",
     "evalue": "'builtin_function_or_method' object has no attribute 'time'",
     "output_type": "error",
     "traceback": [
      "\u001b[1;31m---------------------------------------------------------------------------\u001b[0m",
      "\u001b[1;31mAttributeError\u001b[0m                            Traceback (most recent call last)",
      "\u001b[1;32m<ipython-input-35-d573983c91f1>\u001b[0m in \u001b[0;36m<module>\u001b[1;34m()\u001b[0m\n\u001b[0;32m      6\u001b[0m \u001b[0mprint\u001b[0m\u001b[1;33m(\u001b[0m\u001b[0mtoday\u001b[0m\u001b[1;33m)\u001b[0m\u001b[1;33m\u001b[0m\u001b[0m\n\u001b[0;32m      7\u001b[0m \u001b[0mprint\u001b[0m\u001b[1;33m(\u001b[0m\u001b[0mdate\u001b[0m\u001b[1;33m.\u001b[0m\u001b[0mfromtimestamp\u001b[0m\u001b[1;33m(\u001b[0m\u001b[1;36m1\u001b[0m\u001b[1;33m)\u001b[0m\u001b[1;33m)\u001b[0m \u001b[1;31m#fromtimestamp() input을 초단위로 받아서 그때의 date를 알려둔다\u001b[0m\u001b[1;33m\u001b[0m\u001b[0m\n\u001b[1;32m----> 8\u001b[1;33m \u001b[0mprint\u001b[0m\u001b[1;33m(\u001b[0m\u001b[0mtoday\u001b[0m \u001b[1;33m==\u001b[0m \u001b[0mdate\u001b[0m\u001b[1;33m.\u001b[0m\u001b[0mfromtimestamp\u001b[0m\u001b[1;33m(\u001b[0m\u001b[0mtime\u001b[0m\u001b[1;33m.\u001b[0m\u001b[0mtime\u001b[0m\u001b[1;33m(\u001b[0m\u001b[1;33m)\u001b[0m\u001b[1;33m)\u001b[0m\u001b[1;33m)\u001b[0m \u001b[1;31m# time.time()이 input을 초로 받은 것임\u001b[0m\u001b[1;33m\u001b[0m\u001b[0m\n\u001b[0m\u001b[0;32m      9\u001b[0m \u001b[0mmy_birthday\u001b[0m \u001b[1;33m=\u001b[0m \u001b[0mdate\u001b[0m\u001b[1;33m(\u001b[0m\u001b[0mtoday\u001b[0m\u001b[1;33m.\u001b[0m\u001b[0myear\u001b[0m\u001b[1;33m,\u001b[0m \u001b[1;36m5\u001b[0m\u001b[1;33m,\u001b[0m \u001b[1;36m16\u001b[0m\u001b[1;33m)\u001b[0m\u001b[1;33m\u001b[0m\u001b[0m\n\u001b[0;32m     10\u001b[0m \u001b[0mprint\u001b[0m\u001b[1;33m(\u001b[0m\u001b[1;34m'my birthday is '\u001b[0m\u001b[1;33m,\u001b[0m \u001b[0mmy_birthday\u001b[0m\u001b[1;33m)\u001b[0m\u001b[1;33m\u001b[0m\u001b[0m\n",
      "\u001b[1;31mAttributeError\u001b[0m: 'builtin_function_or_method' object has no attribute 'time'"
     ]
    }
   ],
   "source": [
    "# date.today() / date.fromtimestamp() / my_birthday.replace() 예제\n",
    "# from time import *\n",
    "import time\n",
    "from datetime import date\n",
    "today = date.today()\n",
    "print(today)\n",
    "print(date.fromtimestamp(1)) #fromtimestamp() input을 초단위로 받아서 그때의 date를 알려둔다\n",
    "print(today == date.fromtimestamp(time.time())) # time.time()이 input을 초로 받은 것임\n",
    "my_birthday = date(today.year, 5, 16)\n",
    "print('my birthday is ', my_birthday)\n",
    "if my_birthday < today:\n",
    "    my_birthday = my_birthday.replace(year = today.year + 1)\n",
    "print('After replace ', my_birthday)\n",
    "time_to_birthday = abs(my_birthday - today)\n",
    "print(time_to_birthday)\n",
    "# 259 days, 0:00:00 / 0:00:00 같은시간에 빼서 0:00:00이 나온것으로 추정됨.\n",
    "print(time_to_birthday.days)"
   ]
  },
  {
   "cell_type": "code",
   "execution_count": 41,
   "metadata": {},
   "outputs": [
    {
     "name": "stdout",
     "output_type": "stream",
     "text": [
      "14:52:30\n",
      "14:59:59\n",
      "15:02:43.000033\n"
     ]
    }
   ],
   "source": [
    "# datetime.time(hour, minute, second, microsecond)\n",
    "#  from time import*\n",
    "import time\n",
    "# import datetime\n",
    "from datetime import time\n",
    "\n",
    "# t = time.today() : 이런 function은 없음\n",
    "t = datetime.time(14, 52, 30)\n",
    "print(t)\n",
    "t = datetime.time(14, 59, 59)\n",
    "print(t)\n",
    "t = datetime.time(15,2,43,33)\n",
    "print(t)"
   ]
  },
  {
   "cell_type": "code",
   "execution_count": null,
   "metadata": {},
   "outputs": [],
   "source": [
    "from datetime import datetime\n",
    "today = datetime.today()\n",
    "print(today) # 년-월-일 시:분:초.마이크로초\n",
    "today"
   ]
  },
  {
   "cell_type": "code",
   "execution_count": null,
   "metadata": {},
   "outputs": [],
   "source": [
    "#datetime class\n",
    "# datetime.now() / datetime.utcnow() / datetime.combine() / datetime.strptime(date_string, format)\n",
    "from datetime import datetime, date, time\n",
    "d = date(2017, 6, 29)\n",
    "t = time(15, 28) # 15시28분을 의미함.\n",
    "dt = datetime.combine(d, t)\n",
    "print(dt)\n",
    "now = datetime.now()\n",
    "print(now)\n",
    "utcnow = datetime.utcnow()\n",
    "print(utcnow)\n",
    "dt_format = datetime.strptime(\"17/11/12 15:24\", \"%d/%m/%y %H:%M\") # datetime 형태로 바꿔줌2012-11-17 15:24:00\n",
    "print(dt_format)"
   ]
  },
  {
   "cell_type": "code",
   "execution_count": 43,
   "metadata": {},
   "outputs": [
    {
     "name": "stdout",
     "output_type": "stream",
     "text": [
      "d is 0:00:00\n",
      "73 37867 0\n",
      "73 days, 10:31:07\n",
      "-40 65579 0\n",
      "-40 days, 18:12:59\n",
      "-40 days, 18:12:59\n",
      "39 days, 5:47:01\n",
      "-40 days, 18:12:59\n"
     ]
    },
    {
     "data": {
      "text/plain": [
       "datetime.timedelta(-40, 65579)"
      ]
     },
     "execution_count": 43,
     "metadata": {},
     "output_type": "execute_result"
    }
   ],
   "source": [
    "# timedelta : 시각에 얼마만큼의 시간을 더하거나 빼는 역할을 수행합니다.\n",
    "# datetime.now() - timedelta(hours=3) : 3시간 이전 시각을 구함\n",
    "# 유사하게 timedelta(seconds=3) 3초전 / timedelta(hours=3) 3시간전 \n",
    "#         timedelta(days=3) 3일전 / timedelta(weeks=3) # 3주전 도 구할 수 있지만, months나 years는 불가함.\n",
    "# datetime.timedelta()\n",
    "from datetime import timedelta\n",
    "a = timedelta(days = 17, seconds = 8523)\n",
    "b = timedelta(days = 56, seconds = 29344)\n",
    "c = a + b\n",
    "d = timedelta(0)\n",
    "print('d is', d)\n",
    "print(c.days, c.seconds, c.microseconds)\n",
    "print(c)\n",
    "\n",
    "c = a - b\n",
    "print(c.days, c.seconds, c.microseconds)\n",
    "\n",
    "print(c)\n",
    "print(+c) # 양수들 : 그대로나옴\n",
    "print(-c) # 음수들 : -씌운값으로 나옴.\n",
    "print(str(c))\n",
    "c"
   ]
  },
  {
   "cell_type": "markdown",
   "metadata": {},
   "source": [
    "### 'calender' Moudle"
   ]
  },
  {
   "cell_type": "code",
   "execution_count": 44,
   "metadata": {},
   "outputs": [
    {
     "name": "stdout",
     "output_type": "stream",
     "text": [
      "                                  2017\n",
      "\n",
      "      January                   February                   March\n",
      "Mo Tu We Th Fr Sa Su      Mo Tu We Th Fr Sa Su      Mo Tu We Th Fr Sa Su\n",
      "                   1             1  2  3  4  5             1  2  3  4  5\n",
      " 2  3  4  5  6  7  8       6  7  8  9 10 11 12       6  7  8  9 10 11 12\n",
      " 9 10 11 12 13 14 15      13 14 15 16 17 18 19      13 14 15 16 17 18 19\n",
      "16 17 18 19 20 21 22      20 21 22 23 24 25 26      20 21 22 23 24 25 26\n",
      "23 24 25 26 27 28 29      27 28                     27 28 29 30 31\n",
      "30 31\n",
      "\n",
      "       April                      May                       June\n",
      "Mo Tu We Th Fr Sa Su      Mo Tu We Th Fr Sa Su      Mo Tu We Th Fr Sa Su\n",
      "                1  2       1  2  3  4  5  6  7                1  2  3  4\n",
      " 3  4  5  6  7  8  9       8  9 10 11 12 13 14       5  6  7  8  9 10 11\n",
      "10 11 12 13 14 15 16      15 16 17 18 19 20 21      12 13 14 15 16 17 18\n",
      "17 18 19 20 21 22 23      22 23 24 25 26 27 28      19 20 21 22 23 24 25\n",
      "24 25 26 27 28 29 30      29 30 31                  26 27 28 29 30\n",
      "\n",
      "        July                     August                  September\n",
      "Mo Tu We Th Fr Sa Su      Mo Tu We Th Fr Sa Su      Mo Tu We Th Fr Sa Su\n",
      "                1  2          1  2  3  4  5  6                   1  2  3\n",
      " 3  4  5  6  7  8  9       7  8  9 10 11 12 13       4  5  6  7  8  9 10\n",
      "10 11 12 13 14 15 16      14 15 16 17 18 19 20      11 12 13 14 15 16 17\n",
      "17 18 19 20 21 22 23      21 22 23 24 25 26 27      18 19 20 21 22 23 24\n",
      "24 25 26 27 28 29 30      28 29 30 31               25 26 27 28 29 30\n",
      "31\n",
      "\n",
      "      October                   November                  December\n",
      "Mo Tu We Th Fr Sa Su      Mo Tu We Th Fr Sa Su      Mo Tu We Th Fr Sa Su\n",
      "                   1             1  2  3  4  5                   1  2  3\n",
      " 2  3  4  5  6  7  8       6  7  8  9 10 11 12       4  5  6  7  8  9 10\n",
      " 9 10 11 12 13 14 15      13 14 15 16 17 18 19      11 12 13 14 15 16 17\n",
      "16 17 18 19 20 21 22      20 21 22 23 24 25 26      18 19 20 21 22 23 24\n",
      "23 24 25 26 27 28 29      27 28 29 30               25 26 27 28 29 30 31\n",
      "30 31\n",
      "\n"
     ]
    }
   ],
   "source": [
    "import calendar\n",
    "print(calendar.calendar(2017)) # 그해 달력이 출력됨\n",
    "#calendar.prcal(2017)과 같음"
   ]
  },
  {
   "cell_type": "code",
   "execution_count": 45,
   "metadata": {},
   "outputs": [
    {
     "name": "stdout",
     "output_type": "stream",
     "text": [
      "                                  2017\n",
      "\n",
      "      January                   February                   March\n",
      "Mo Tu We Th Fr Sa Su      Mo Tu We Th Fr Sa Su      Mo Tu We Th Fr Sa Su\n",
      "                   1             1  2  3  4  5             1  2  3  4  5\n",
      " 2  3  4  5  6  7  8       6  7  8  9 10 11 12       6  7  8  9 10 11 12\n",
      " 9 10 11 12 13 14 15      13 14 15 16 17 18 19      13 14 15 16 17 18 19\n",
      "16 17 18 19 20 21 22      20 21 22 23 24 25 26      20 21 22 23 24 25 26\n",
      "23 24 25 26 27 28 29      27 28                     27 28 29 30 31\n",
      "30 31\n",
      "\n",
      "       April                      May                       June\n",
      "Mo Tu We Th Fr Sa Su      Mo Tu We Th Fr Sa Su      Mo Tu We Th Fr Sa Su\n",
      "                1  2       1  2  3  4  5  6  7                1  2  3  4\n",
      " 3  4  5  6  7  8  9       8  9 10 11 12 13 14       5  6  7  8  9 10 11\n",
      "10 11 12 13 14 15 16      15 16 17 18 19 20 21      12 13 14 15 16 17 18\n",
      "17 18 19 20 21 22 23      22 23 24 25 26 27 28      19 20 21 22 23 24 25\n",
      "24 25 26 27 28 29 30      29 30 31                  26 27 28 29 30\n",
      "\n",
      "        July                     August                  September\n",
      "Mo Tu We Th Fr Sa Su      Mo Tu We Th Fr Sa Su      Mo Tu We Th Fr Sa Su\n",
      "                1  2          1  2  3  4  5  6                   1  2  3\n",
      " 3  4  5  6  7  8  9       7  8  9 10 11 12 13       4  5  6  7  8  9 10\n",
      "10 11 12 13 14 15 16      14 15 16 17 18 19 20      11 12 13 14 15 16 17\n",
      "17 18 19 20 21 22 23      21 22 23 24 25 26 27      18 19 20 21 22 23 24\n",
      "24 25 26 27 28 29 30      28 29 30 31               25 26 27 28 29 30\n",
      "31\n",
      "\n",
      "      October                   November                  December\n",
      "Mo Tu We Th Fr Sa Su      Mo Tu We Th Fr Sa Su      Mo Tu We Th Fr Sa Su\n",
      "                   1             1  2  3  4  5                   1  2  3\n",
      " 2  3  4  5  6  7  8       6  7  8  9 10 11 12       4  5  6  7  8  9 10\n",
      " 9 10 11 12 13 14 15      13 14 15 16 17 18 19      11 12 13 14 15 16 17\n",
      "16 17 18 19 20 21 22      20 21 22 23 24 25 26      18 19 20 21 22 23 24\n",
      "23 24 25 26 27 28 29      27 28 29 30               25 26 27 28 29 30 31\n",
      "30 31\n",
      "\n"
     ]
    }
   ],
   "source": [
    "import calendar\n",
    "calendar.prcal(2017)"
   ]
  },
  {
   "cell_type": "code",
   "execution_count": 46,
   "metadata": {},
   "outputs": [
    {
     "name": "stdout",
     "output_type": "stream",
     "text": [
      "      May 2017\n",
      "Mo Tu We Th Fr Sa Su\n",
      " 1  2  3  4  5  6  7\n",
      " 8  9 10 11 12 13 14\n",
      "15 16 17 18 19 20 21\n",
      "22 23 24 25 26 27 28\n",
      "29 30 31\n",
      "None\n",
      "1\n",
      "(1, 31)\n"
     ]
    }
   ],
   "source": [
    "import calendar\n",
    "print(calendar.prmonth(2017,5)) # 그해 달력이 출력됨\n",
    "print(calendar.weekday(2017, 5, 16))\n",
    "print(calendar.monthrange(2017,8))"
   ]
  },
  {
   "cell_type": "markdown",
   "metadata": {},
   "source": [
    "### 연습문제"
   ]
  },
  {
   "cell_type": "code",
   "execution_count": null,
   "metadata": {
    "collapsed": true
   },
   "outputs": [],
   "source": []
  }
 ],
 "metadata": {
  "kernelspec": {
   "display_name": "Python 3",
   "language": "python",
   "name": "python3"
  },
  "language_info": {
   "codemirror_mode": {
    "name": "ipython",
    "version": 3
   },
   "file_extension": ".py",
   "mimetype": "text/x-python",
   "name": "python",
   "nbconvert_exporter": "python",
   "pygments_lexer": "ipython3",
   "version": "3.6.1"
  }
 },
 "nbformat": 4,
 "nbformat_minor": 2
}
