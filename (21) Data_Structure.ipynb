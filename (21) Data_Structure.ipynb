{
 "cells": [
  {
   "cell_type": "markdown",
   "metadata": {},
   "source": [
    "## (21) Data Structure\n",
    "### - Queue"
   ]
  },
  {
   "cell_type": "code",
   "execution_count": 3,
   "metadata": {},
   "outputs": [
    {
     "name": "stdout",
     "output_type": "stream",
     "text": [
      "Car\n",
      "bus\n",
      "lorry\n",
      "\n"
     ]
    }
   ],
   "source": [
    "class Node:\n",
    "    def __init__(self, contents=None, next = None):\n",
    "        self.contents = contents\n",
    "        self.next = next\n",
    "    \n",
    "    def getContents(self):\n",
    "        return self.contents\n",
    "    \n",
    "    def __str__(self):\n",
    "        return str(self.contents)\n",
    "    \n",
    "def print_list(node):\n",
    "    while node:\n",
    "        print(node.getContents())\n",
    "        node = node.next\n",
    "    print()\n",
    "    \n",
    "def testList():\n",
    "    node1 = Node('Car')\n",
    "    node2 = Node('bus')\n",
    "    node3 = Node('lorry')\n",
    "    node1.next = node2\n",
    "    node2.next = node3\n",
    "    print_list(node1)\n",
    "\n",
    "testList()"
   ]
  },
  {
   "cell_type": "code",
   "execution_count": null,
   "metadata": {
    "collapsed": true
   },
   "outputs": [],
   "source": [
    "class Stack:\n",
    "    def __init__(self):\n",
    "        self.items = []\n",
    "    def push(self, item):\n",
    "        self.items.append(item)\n",
    "    def pop(self):\n",
    "        return self.items.pop()\n",
    "    def isEmpty(self):\n",
    "        if self.items == []:\n",
    "            return True\n",
    "        else:\n",
    "            return False\n",
    "    def peek(self):\n",
    "        return self.items[len(self.items)-1]\n",
    "    \n",
    "myStack = Stack()\n",
    "myStack.push('john')\n",
    "myStack.push('kim')\n",
    "myStack.peek()\n",
    "myStack.pop()\n",
    "myStack.items\n"
   ]
  },
  {
   "cell_type": "code",
   "execution_count": 5,
   "metadata": {},
   "outputs": [
    {
     "name": "stdout",
     "output_type": "stream",
     "text": [
      "4\n",
      "['Bob', 'Brodie', 'Carrie', 'Tanya']\n",
      "Bob\n",
      "['Brodie', 'Carrie', 'Tanya']\n"
     ]
    }
   ],
   "source": [
    "class Queue:\n",
    "    def __init__(self):\n",
    "        self.items=[]\n",
    "    def add(self,item):\n",
    "        self.items.append(item)\n",
    "    def delete(self):\n",
    "        itemToDelete = self.items[0]\n",
    "        del self.items[0]\n",
    "        return itemToDelete\n",
    "    def size(self):\n",
    "        return len(self.items)\n",
    "    def report(self):\n",
    "        return self.items\n",
    "    \n",
    "myQueue = Queue()\n",
    "myQueue.add(\"Bob\")\n",
    "myQueue.add(\"Brodie\")\n",
    "myQueue.add(\"Carrie\")\n",
    "myQueue.add(\"Tanya\")\n",
    "print(myQueue.size())\n",
    "print(myQueue.report())\n",
    "print(myQueue.delete())\n",
    "print(myQueue.report())"
   ]
  },
  {
   "cell_type": "code",
   "execution_count": 6,
   "metadata": {},
   "outputs": [
    {
     "name": "stdout",
     "output_type": "stream",
     "text": [
      "Successfully created 3queues\n"
     ]
    }
   ],
   "source": [
    "import queue\n",
    "a = queue.Queue(5)\n",
    "b = queue.LifoQueue(5)\n",
    "c = queue.PriorityQueue(5)\n",
    "print('Successfully created 3queues')"
   ]
  },
  {
   "cell_type": "code",
   "execution_count": null,
   "metadata": {
    "collapsed": true
   },
   "outputs": [],
   "source": [
    "import queue\n",
    "\n",
    "a = queue.Queue(5)\n",
    "b = queue.Queue(3)\n",
    "\n",
    "a.put(1)\n",
    "a.put('python')\n",
    "a.put(b)\n",
    "b.put(3)\n",
    "c.put(3)\n",
    "c.put(4)\n",
    "c.put(5)\n",
    "\n",
    "print(c.get())\n",
    "print(c.get())\n",
    "print(a.get())\n",
    "print(a.get())\n",
    "print(a.get().get())"
   ]
  },
  {
   "cell_type": "code",
   "execution_count": 9,
   "metadata": {},
   "outputs": [
    {
     "name": "stdout",
     "output_type": "stream",
     "text": [
      "1\n",
      "2\n",
      "5\n"
     ]
    }
   ],
   "source": [
    "import queue\n",
    "\n",
    "d = queue.PriorityQueue(5)\n",
    "\n",
    "\n",
    "d.put(2,1)\n",
    "d.put(5,3)\n",
    "d.put(1,19)\n",
    "while not d.empty():\n",
    "\tprint(d.get())\n"
   ]
  },
  {
   "cell_type": "code",
   "execution_count": 4,
   "metadata": {},
   "outputs": [
    {
     "name": "stdout",
     "output_type": "stream",
     "text": [
      "4\n",
      "['Bob', 'Brodie', 'Carrie', 'Tanya']\n",
      "Bob\n",
      "['Brodie', 'Carrie', 'Tanya']\n"
     ]
    }
   ],
   "source": []
  },
  {
   "cell_type": "code",
   "execution_count": null,
   "metadata": {
    "collapsed": true
   },
   "outputs": [],
   "source": []
  },
  {
   "cell_type": "code",
   "execution_count": null,
   "metadata": {
    "collapsed": true
   },
   "outputs": [],
   "source": []
  },
  {
   "cell_type": "code",
   "execution_count": null,
   "metadata": {
    "collapsed": true
   },
   "outputs": [],
   "source": []
  }
 ],
 "metadata": {
  "kernelspec": {
   "display_name": "Python 3",
   "language": "python",
   "name": "python3"
  },
  "language_info": {
   "codemirror_mode": {
    "name": "ipython",
    "version": 3
   },
   "file_extension": ".py",
   "mimetype": "text/x-python",
   "name": "python",
   "nbconvert_exporter": "python",
   "pygments_lexer": "ipython3",
   "version": "3.6.1"
  }
 },
 "nbformat": 4,
 "nbformat_minor": 2
}
