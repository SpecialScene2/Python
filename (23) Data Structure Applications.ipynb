{
 "cells": [
  {
   "cell_type": "markdown",
   "metadata": {},
   "source": [
    "## (23) Data Structure Applications\n",
    "### Stack Application(17.08.28)"
   ]
  },
  {
   "cell_type": "markdown",
   "metadata": {},
   "source": [
    "### - Parenthesis Matching"
   ]
  },
  {
   "cell_type": "code",
   "execution_count": 2,
   "metadata": {},
   "outputs": [
    {
     "name": "stdout",
     "output_type": "stream",
     "text": [
      "Write your expression :(a*(b+c)+d)\n",
      "<class 'str'>\n",
      "( 3 , 10 )\n",
      "( 0 , 7 )\n"
     ]
    }
   ],
   "source": [
    "#LifoQueue를 이용해서 한번 풀어보자.\n",
    "\n",
    "import queue\n",
    "def p_checker():\n",
    "    expression = input('Write your expression :')\n",
    "    #print(expression)\n",
    "    print(type(expression))\n",
    "    a = queue.LifoQueue()\n",
    "    b = queue.LifoQueue()\n",
    "    for i in range(0,len(expression)):\n",
    "        if expression[i] == '(' or expression[i] == ')':\n",
    "            if expression[i] == '(':\n",
    "                #print(i)\n",
    "                a.put(i)\n",
    "            else:\n",
    "                #print(i)\n",
    "                b.put(i)\n",
    "    if a.qsize() > b.qsize():\n",
    "        for i in range(b.qsize()):\n",
    "            print('(', a.get(), ',' , b.get(), ')')\n",
    "        print('( error is appeared')\n",
    "    if a.qsize() < b.qsize():\n",
    "        for i in range(a.qsize()):\n",
    "            print('(', a.get(), ',' , b.get(), ')')\n",
    "        print(') error is appeared')\n",
    "    else:\n",
    "        for i in range(a.qsize()):\n",
    "            print('(', a.get(), ',' , b.get(), ')')\n",
    "        \n",
    "p_checker()\n",
    "#(a*(b+c)+d)"
   ]
  },
  {
   "cell_type": "code",
   "execution_count": null,
   "metadata": {
    "collapsed": true
   },
   "outputs": [],
   "source": [
    "# 새로 한번 짜보자"
   ]
  },
  {
   "cell_type": "markdown",
   "metadata": {},
   "source": [
    "### - Tower Of Hanoi"
   ]
  },
  {
   "cell_type": "code",
   "execution_count": 4,
   "metadata": {},
   "outputs": [
    {
     "name": "stdout",
     "output_type": "stream",
     "text": [
      "Move top disk from tower 1 to top of tower 2\n",
      "Move top disk from tower 1 to top of tower 3\n",
      "Move top disk from tower 2 to top of tower 3\n",
      "Move top disk from tower 1 to top of tower 2\n",
      "Move top disk from tower 3 to top of tower 1\n",
      "Move top disk from tower 3 to top of tower 2\n",
      "Move top disk from tower 1 to top of tower 2\n"
     ]
    }
   ],
   "source": [
    "# expotential 시간복잡도 가지고있음.\n",
    "def TOH(n,x,y,z): # x: 현위치, y: 목적지, z: 경유지\n",
    "    if n > 0 :\n",
    "        TOH(n-1,x,z,y) # ★맨밑에거 하나 빼고(이미 목적지에 있다고 생각) 나머지 것을 경유지인 z에 옮긴다.★\n",
    "        # 최초에 TOH입력하면 n이 0이될때까지 TOH()가 실행됨 n=3이면 3번 만든다\n",
    "        # 3번 만들고 나서 if문으로 들어오면 마지막에 만든 것은 return none이되고 다음줄로 넘어간다.\n",
    "        # print문은 2번째에 만든 것을 기준으로 실행된다.(여기선 n=1일때 (1,1,2,3))\n",
    "        print('Move top disk from tower ' + str(x) + ' to top of tower ' + str(y))\n",
    "        # print문이 실행되면 다음줄로 넘어간다.\n",
    "        TOH(n-1,z,y,x) # ★경유지인 z로 옮긴다음에 x를 경유해서 y(목적지로 옮긴다는 뜻임★\n",
    "        # 그다음 n=1일때 기준으로(여기선 n=1일때 (1,1,2,3)) TOH(n-1,z,y,x)가 실행된다.\n",
    "        # n=1일때 n-1을 하면 0이되고, 다시 if문으도 들어가면  return None이되고\n",
    "        # n=1일때(1,1,2,3) 도 return None이 된다.(윗줄이 만들어진 근본이니깐)\n",
    "        # 그러면 n=2일때 기준으로 print해준다 (1,1,3,2)\n",
    "\n",
    "TOH(3,1,2,3)"
   ]
  },
  {
   "cell_type": "code",
   "execution_count": null,
   "metadata": {
    "collapsed": true
   },
   "outputs": [],
   "source": []
  },
  {
   "cell_type": "code",
   "execution_count": null,
   "metadata": {
    "collapsed": true
   },
   "outputs": [],
   "source": []
  },
  {
   "cell_type": "code",
   "execution_count": null,
   "metadata": {
    "collapsed": true
   },
   "outputs": [],
   "source": []
  },
  {
   "cell_type": "code",
   "execution_count": null,
   "metadata": {
    "collapsed": true
   },
   "outputs": [],
   "source": []
  }
 ],
 "metadata": {
  "kernelspec": {
   "display_name": "Python 3",
   "language": "python",
   "name": "python3"
  },
  "language_info": {
   "codemirror_mode": {
    "name": "ipython",
    "version": 3
   },
   "file_extension": ".py",
   "mimetype": "text/x-python",
   "name": "python",
   "nbconvert_exporter": "python",
   "pygments_lexer": "ipython3",
   "version": "3.6.1"
  }
 },
 "nbformat": 4,
 "nbformat_minor": 2
}
